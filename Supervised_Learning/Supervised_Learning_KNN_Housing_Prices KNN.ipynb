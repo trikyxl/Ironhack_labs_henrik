{
 "cells": [
  {
   "cell_type": "markdown",
   "source": [
    "# Predicting House Prices using KNN Regression"
   ],
   "metadata": {
    "collapsed": false
   }
  },
  {
   "cell_type": "markdown",
   "metadata": {
    "id": "xWHhaebY9GuO"
   },
   "source": [
    " Loading libraries"
   ]
  },
  {
   "cell_type": "code",
   "execution_count": null,
   "metadata": {
    "ExecuteTime": {
     "end_time": "2022-11-30T16:34:54.350056Z",
     "start_time": "2022-11-30T16:34:53.822175Z"
    },
    "executionInfo": {
     "elapsed": 1105,
     "status": "ok",
     "timestamp": 1626164162489,
     "user": {
      "displayName": "Ignacio Soteras",
      "photoUrl": "",
      "userId": "02050793736257155229"
     },
     "user_tz": -120
    },
    "id": "vZd8l6ye9Jfn",
    "pycharm": {
     "is_executing": true
    }
   },
   "outputs": [],
   "source": [
    "import pandas as pd\n",
    "import numpy as np\n",
    "from sklearn.linear_model import LinearRegression\n",
    "from sklearn.preprocessing import PowerTransformer\n",
    "from sklearn.neighbors import KNeighborsRegressor\n",
    "from sklearn.metrics import mean_absolute_error, mean_squared_error, r2_score\n",
    "from sklearn.model_selection import GridSearchCV\n",
    "pd.set_option('display.max_rows', 200)"
   ]
  },
  {
   "cell_type": "code",
   "execution_count": null,
   "outputs": [],
   "source": [
    "TT_SPLIT = 0.2     # ratio train/test size\n",
    "RAND_STATE = 42   # specifies a sampling for repeatable results"
   ],
   "metadata": {
    "collapsed": false,
    "pycharm": {
     "is_executing": true
    }
   }
  },
  {
   "cell_type": "code",
   "execution_count": null,
   "metadata": {
    "ExecuteTime": {
     "end_time": "2022-11-30T16:34:54.361654Z",
     "start_time": "2022-11-30T16:34:54.350990Z"
    },
    "executionInfo": {
     "elapsed": 203,
     "status": "ok",
     "timestamp": 1626164834870,
     "user": {
      "displayName": "Ignacio Soteras",
      "photoUrl": "",
      "userId": "02050793736257155229"
     },
     "user_tz": -120
    },
    "id": "GJtg5ip173_4",
    "pycharm": {
     "is_executing": true
    }
   },
   "outputs": [],
   "source": [
    "# read data\n",
    "data = pd.read_csv(\"DATA_Housing_Prices.csv\")"
   ]
  },
  {
   "cell_type": "markdown",
   "metadata": {
    "id": "U9W8vPIKSDDc"
   },
   "source": [
    " Preprocessing function"
   ]
  },
  {
   "cell_type": "code",
   "execution_count": null,
   "metadata": {
    "ExecuteTime": {
     "end_time": "2022-11-30T16:34:54.366145Z",
     "start_time": "2022-11-30T16:34:54.363067Z"
    },
    "executionInfo": {
     "elapsed": 262,
     "status": "ok",
     "timestamp": 1626164311597,
     "user": {
      "displayName": "Ignacio Soteras",
      "photoUrl": "",
      "userId": "02050793736257155229"
     },
     "user_tz": -120
    },
    "id": "CJmrT5OUSFJp",
    "pycharm": {
     "is_executing": true
    }
   },
   "outputs": [],
   "source": [
    "def preprocessing(df):\n",
    "    \"\"\"\n",
    "    Function to transform an input dataframe. It will add another column named \"Antiquity\", drop all the Year related columns, drop any column not in\n",
    "    ['Id','OverallQual','TotalBsmtSF','1stFlrSF','GrLivArea','FullBath','KitchenQual','TotRmsAbvGrd','GarageCars','GarageArea','Antiquity', 'SalePrice']\n",
    "    replace values of variable KitchenQual to {'Fa': 1, 'TA': 1.61, 'Gd': 1.61, 'Ex': 3.14}, and\n",
    "    drop any row with 'LotArea' < 25000\n",
    "    :param df: input dataframe\n",
    "    :return df2: processed dataframe\n",
    "    \"\"\"\n",
    "    df2 = df.copy()\n",
    "\n",
    "    # Computing Antiquity\n",
    "    df2['Antiquity'] = df2['YrSold'] - df2['YearRemodAdd']\n",
    "    year_cols = ['YearBuilt', 'YearRemodAdd', 'YrSold']\n",
    "    df2.drop(columns = year_cols, axis = 1, inplace = True)\n",
    "\n",
    "    # Filtering by LotArea\n",
    "    df2 = df2[df2['LotArea'] < 25000 ]\n",
    "\n",
    "    # Droping unwanted columns\n",
    "    cols_to_keep = [\n",
    "   'OverallQual',\n",
    "   'TotalBsmtSF',\n",
    "   'GrLivArea',\n",
    "   'FullBath',\n",
    "   'KitchenQual',\n",
    "   'GarageCars',\n",
    "   'Antiquity',\n",
    "   'SalePrice']\n",
    "    df2 = df2[cols_to_keep]\n",
    "\n",
    "    # Replacing KitchenQual values by numerical ones.\n",
    "    df2['KitchenQual'] = df2['KitchenQual'].replace({'Fa': 1, 'TA': 1.61, 'Gd': 1.61, 'Ex': 3.14})\n",
    "\n",
    "    return df2"
   ]
  },
  {
   "cell_type": "markdown",
   "metadata": {
    "id": "LRciE86AUA8h"
   },
   "source": [
    "## Model evaluation"
   ]
  },
  {
   "cell_type": "code",
   "execution_count": null,
   "metadata": {
    "ExecuteTime": {
     "end_time": "2022-11-30T16:34:54.372334Z",
     "start_time": "2022-11-30T16:34:54.367943Z"
    },
    "executionInfo": {
     "elapsed": 345,
     "status": "ok",
     "timestamp": 1626164573038,
     "user": {
      "displayName": "Ignacio Soteras",
      "photoUrl": "",
      "userId": "02050793736257155229"
     },
     "user_tz": -120
    },
    "id": "ojWKsf1CUDUW",
    "pycharm": {
     "is_executing": true
    }
   },
   "outputs": [],
   "source": [
    "def model_performance(y_train, y_pred_train, y_test, y_pred_test):\n",
    "    \"\"\"\n",
    "    :param y_train:\n",
    "    :param y_pred_train:\n",
    "    :param y_test:\n",
    "    :param y_pred_test:\n",
    "    :return:\n",
    "    \"\"\"\n",
    "    exp_y_train      = np.exp(y_train)\n",
    "    exp_y_test       = np.exp(y_test)\n",
    "    exp_y_pred_train = np.exp(y_pred_train)\n",
    "    exp_y_pred_test  = np.exp(y_pred_test)\n",
    "    diff_train       = exp_y_train - exp_y_pred_train\n",
    "    diff_test        = exp_y_test  - exp_y_pred_test\n",
    "\n",
    "    ME_train = np.abs(np.mean(diff_train))\n",
    "    ME_test  = np.abs(np.mean(diff_test))\n",
    "\n",
    "    MAE_train = mean_absolute_error(exp_y_train, exp_y_pred_train)\n",
    "    MAE_test  = mean_absolute_error(exp_y_test,  exp_y_pred_test)\n",
    "\n",
    "    MSE_train = mean_squared_error(exp_y_train, exp_y_pred_train)\n",
    "    MSE_test  = mean_squared_error(exp_y_test,  exp_y_pred_test)\n",
    "\n",
    "    RMSE_train = np.sqrt(MSE_train)\n",
    "    RMSE_test  = np.sqrt(MSE_test)\n",
    "\n",
    "    MAPE_train = np.mean((np.abs(diff_train)/exp_y_train) * 100.)\n",
    "    MAPE_test  = np.mean((np.abs(diff_test)/exp_y_test) * 100.)\n",
    "\n",
    "    R2_train = r2_score(exp_y_train, exp_y_pred_train)\n",
    "    R2_test  = r2_score(exp_y_test,  exp_y_pred_test)\n",
    "\n",
    "    performance = pd.DataFrame({'Error_metric': ['Mean error','Mean absolute error','Mean squared error',\n",
    "                                                 'Root mean squared error','Mean absolute percentual error','R2'],\n",
    "                            'Train': [ME_train, MAE_train, MSE_train, RMSE_train, MAPE_train, R2_train],\n",
    "                            'Test' : [ME_test, MAE_test , MSE_test, RMSE_test, MAPE_test, R2_test]})\n",
    "\n",
    "    pd.options.display.float_format = '{:.2f}'.format\n",
    "\n",
    "    df_train = pd.DataFrame({'Real': exp_y_train, 'Predicted':  exp_y_pred_train})\n",
    "    df_test  = pd.DataFrame({'Real': exp_y_test,  'Predicted':  exp_y_pred_test})\n",
    "\n",
    "    return performance, df_train, df_test"
   ]
  },
  {
   "cell_type": "markdown",
   "metadata": {
    "id": "uS1E3_-mSHpw"
   },
   "source": [
    "## Creating our transformer"
   ]
  },
  {
   "cell_type": "markdown",
   "metadata": {
    "id": "4AQtnOFSXB3C"
   },
   "source": [
    "Check more information about pipelines [here](https://towardsdatascience.com/pipeline-columntransformer-and-featureunion-explained-f5491f815f)"
   ]
  },
  {
   "cell_type": "code",
   "execution_count": null,
   "metadata": {
    "ExecuteTime": {
     "end_time": "2022-11-30T16:34:54.385916Z",
     "start_time": "2022-11-30T16:34:54.373235Z"
    },
    "colab": {
     "base_uri": "https://localhost:8080/",
     "height": 422
    },
    "executionInfo": {
     "elapsed": 227,
     "status": "ok",
     "timestamp": 1626164845219,
     "user": {
      "displayName": "Ignacio Soteras",
      "photoUrl": "",
      "userId": "02050793736257155229"
     },
     "user_tz": -120
    },
    "id": "R2gKy6rCSQFl",
    "outputId": "d947814e-5757-4f71-f5e7-c268ff8a40c8",
    "pycharm": {
     "is_executing": true
    }
   },
   "outputs": [],
   "source": [
    "from sklearn.preprocessing import FunctionTransformer\n",
    "\n",
    "# FunctionTransformer creates a transformer from a user defined function\n",
    "procTransformer = FunctionTransformer(preprocessing)\n",
    "\n",
    "data = procTransformer.transform(data)\n",
    "data\n",
    "\n",
    "# data = preprocess(data)\n",
    "# pipeline = Pipeline([('drop_columns',drop_cols_transformer),('standard_scaler',StandardScaler()),('Linear_model',LinearRegressor())])\n",
    "# pipeline.fit(X_train,y_trains)\n",
    "# pipeline.transform(X_train)\n",
    "# pipeline.transform(X_test)\n",
    "# pipeline.predict(X_train)\n",
    "# pipeline.predict(X_test)"
   ]
  },
  {
   "cell_type": "code",
   "execution_count": null,
   "metadata": {
    "ExecuteTime": {
     "end_time": "2022-11-30T16:34:54.388149Z",
     "start_time": "2022-11-30T16:34:54.387011Z"
    },
    "colab": {
     "base_uri": "https://localhost:8080/",
     "height": 422
    },
    "executionInfo": {
     "elapsed": 239,
     "status": "ok",
     "timestamp": 1626164841016,
     "user": {
      "displayName": "Ignacio Soteras",
      "photoUrl": "",
      "userId": "02050793736257155229"
     },
     "user_tz": -120
    },
    "id": "43kYZnvGYbv1",
    "outputId": "ea5d42c3-861c-410e-a78a-8807e2aad82f",
    "pycharm": {
     "is_executing": true
    }
   },
   "outputs": [],
   "source": [
    "##data2 = preprocessing(data)\n",
    "##data2"
   ]
  },
  {
   "cell_type": "markdown",
   "metadata": {
    "id": "bDxDYRVbSbw5"
   },
   "source": [
    "### Defining X, y"
   ]
  },
  {
   "cell_type": "code",
   "execution_count": null,
   "metadata": {
    "ExecuteTime": {
     "end_time": "2022-11-30T16:34:54.392937Z",
     "start_time": "2022-11-30T16:34:54.390477Z"
    },
    "executionInfo": {
     "elapsed": 218,
     "status": "ok",
     "timestamp": 1626165205077,
     "user": {
      "displayName": "Ignacio Soteras",
      "photoUrl": "",
      "userId": "02050793736257155229"
     },
     "user_tz": -120
    },
    "id": "pLMb5mFVR4pN",
    "pycharm": {
     "is_executing": true
    }
   },
   "outputs": [],
   "source": [
    "# define X and y (features and target)\n",
    "X = data.drop(columns=[\"SalePrice\"], axis = 1)\n",
    "y = np.log(data[\"SalePrice\"])"
   ]
  },
  {
   "cell_type": "markdown",
   "metadata": {
    "id": "t4L0_uQT73_5"
   },
   "source": [
    "### Data Splitting"
   ]
  },
  {
   "cell_type": "code",
   "execution_count": null,
   "metadata": {
    "ExecuteTime": {
     "end_time": "2022-11-30T16:34:54.396850Z",
     "start_time": "2022-11-30T16:34:54.393896Z"
    },
    "executionInfo": {
     "elapsed": 207,
     "status": "ok",
     "timestamp": 1626165229869,
     "user": {
      "displayName": "Ignacio Soteras",
      "photoUrl": "",
      "userId": "02050793736257155229"
     },
     "user_tz": -120
    },
    "id": "qcoauxvd73_5",
    "pycharm": {
     "is_executing": true
    }
   },
   "outputs": [],
   "source": [
    "from sklearn.model_selection import train_test_split\n",
    "\n",
    "X_train, X_test, y_train, y_test = train_test_split(X, y, test_size=TT_SPLIT, random_state=RAND_STATE)\n",
    "\n",
    "# training datasets to DataFrame again to manipulate them\n",
    "X_train = pd.DataFrame(X_train, columns=X.columns)\n",
    "X_test = pd.DataFrame(X_test, columns=X.columns)"
   ]
  },
  {
   "cell_type": "markdown",
   "metadata": {
    "id": "SF_i9gaF73_9"
   },
   "source": [
    "### Modelling"
   ]
  },
  {
   "cell_type": "code",
   "execution_count": null,
   "metadata": {
    "ExecuteTime": {
     "end_time": "2022-11-30T16:34:54.424433Z",
     "start_time": "2022-11-30T16:34:54.397875Z"
    },
    "executionInfo": {
     "elapsed": 197,
     "status": "ok",
     "timestamp": 1626165380553,
     "user": {
      "displayName": "Ignacio Soteras",
      "photoUrl": "",
      "userId": "02050793736257155229"
     },
     "user_tz": -120
    },
    "id": "PKj0PNOiViUY",
    "pycharm": {
     "is_executing": true
    }
   },
   "outputs": [],
   "source": [
    "\n",
    "import pickle\n",
    "\n",
    "trans = PowerTransformer()\n",
    "model = LinearRegression()\n",
    "\n",
    "# define X and y (features and target)\n",
    "#X = data.drop(columns = ['Id','SalePrice'])\n",
    "#y = np.log(data['SalePrice']) # The model will try to predict the log(SalePrice) instead of the real price\n",
    "\n",
    "# data splitting\n",
    "#X_train, X_test, y_train, y_test = train_test_split(X, y, test_size=0.30, random_state=42)\n",
    "\n",
    "# fitting to the train data\n",
    "trans.fit(X_train)\n",
    "\n",
    "# transformation\n",
    "X_train = trans.transform(X_train)\n",
    "X_test  = trans.transform(X_test)\n",
    "\n",
    "X_train = pd.DataFrame(X_train, columns = X.columns)\n",
    "X_test  = pd.DataFrame(X_test,  columns = X.columns)\n",
    "\n",
    "# model fitting\n",
    "model.fit(X_train, y_train)\n",
    "\n",
    "# model prediction\n",
    "y_pred_train_lm = model.predict(X_train)\n",
    "y_pred_test_lm  = model.predict(X_test)"
   ]
  },
  {
   "cell_type": "markdown",
   "metadata": {
    "id": "dx3tla_g73_9"
   },
   "source": [
    "### Evaluating the model performance"
   ]
  },
  {
   "cell_type": "code",
   "execution_count": null,
   "metadata": {
    "ExecuteTime": {
     "end_time": "2022-11-30T16:34:54.431767Z",
     "start_time": "2022-11-30T16:34:54.425595Z"
    },
    "colab": {
     "base_uri": "https://localhost:8080/",
     "height": 236
    },
    "executionInfo": {
     "elapsed": 223,
     "status": "ok",
     "timestamp": 1626165456749,
     "user": {
      "displayName": "Ignacio Soteras",
      "photoUrl": "",
      "userId": "02050793736257155229"
     },
     "user_tz": -120
    },
    "id": "ezXzroJfVqmj",
    "outputId": "37a470c0-b422-4d4d-f708-3968409935c1",
    "pycharm": {
     "is_executing": true
    }
   },
   "outputs": [],
   "source": [
    "performance_lm, _, _= model_performance(y_train, y_pred_train_lm, y_test, y_pred_test_lm)\n",
    "performance_lm"
   ]
  },
  {
   "cell_type": "markdown",
   "metadata": {
    "id": "Ps2TxDJ973_-"
   },
   "source": [
    "### KNN"
   ]
  },
  {
   "cell_type": "code",
   "execution_count": null,
   "metadata": {
    "ExecuteTime": {
     "end_time": "2022-11-30T16:34:54.434346Z",
     "start_time": "2022-11-30T16:34:54.432586Z"
    },
    "executionInfo": {
     "elapsed": 222,
     "status": "ok",
     "timestamp": 1626166067232,
     "user": {
      "displayName": "Ignacio Soteras",
      "photoUrl": "",
      "userId": "02050793736257155229"
     },
     "user_tz": -120
    },
    "id": "HcxMD3CT73_-",
    "pycharm": {
     "is_executing": true
    }
   },
   "outputs": [],
   "source": [
    "# initialize model (set parameters)\n",
    "neigh = KNeighborsRegressor(n_neighbors=2) # n_neighbors = K"
   ]
  },
  {
   "cell_type": "code",
   "execution_count": null,
   "metadata": {
    "ExecuteTime": {
     "end_time": "2022-11-30T16:34:54.439587Z",
     "start_time": "2022-11-30T16:34:54.435315Z"
    },
    "colab": {
     "base_uri": "https://localhost:8080/"
    },
    "executionInfo": {
     "elapsed": 210,
     "status": "ok",
     "timestamp": 1626166069898,
     "user": {
      "displayName": "Ignacio Soteras",
      "photoUrl": "",
      "userId": "02050793736257155229"
     },
     "user_tz": -120
    },
    "id": "mxiP-_Gu73_-",
    "outputId": "e6bccb04-ca70-4373-d13b-2caa348d2b76",
    "pycharm": {
     "is_executing": true
    }
   },
   "outputs": [],
   "source": [
    "neigh.fit(X_train, y_train) # Minkowski distance with p = 2 -> Euclidean distance"
   ]
  },
  {
   "cell_type": "markdown",
   "metadata": {
    "id": "kRPuTEJmWFfp"
   },
   "source": [
    "## Making predictions"
   ]
  },
  {
   "cell_type": "code",
   "execution_count": null,
   "metadata": {
    "ExecuteTime": {
     "end_time": "2022-11-30T16:34:54.451948Z",
     "start_time": "2022-11-30T16:34:54.440582Z"
    },
    "colab": {
     "base_uri": "https://localhost:8080/",
     "height": 236
    },
    "executionInfo": {
     "elapsed": 227,
     "status": "ok",
     "timestamp": 1626166572813,
     "user": {
      "displayName": "Ignacio Soteras",
      "photoUrl": "",
      "userId": "02050793736257155229"
     },
     "user_tz": -120
    },
    "id": "9x37QAy673_-",
    "outputId": "d370b606-5670-47fa-cd25-3f9c3a8c5ef5",
    "pycharm": {
     "is_executing": true
    }
   },
   "outputs": [],
   "source": [
    "# make predictions\n",
    "y_pred_train_knn = neigh.predict(X_train)\n",
    "y_pred_test_knn  = neigh.predict(X_test)\n",
    "\n",
    "performance_knn, _, _ = model_performance(y_train, y_pred_train_knn, y_test, y_pred_test_knn)\n",
    "performance_knn"
   ]
  },
  {
   "cell_type": "code",
   "execution_count": null,
   "outputs": [],
   "source": [
    "def run_kmeans(k_min,k_max):\n",
    "    \"\"\" perform kmean modeling over sequence of values for k (# of neighbors) and output error metrics for each k\n",
    "    :param k_min: starting number of clusters\n",
    "    :param k_max: ending number of clusters\n",
    "    :return: error metrics\n",
    "    \"\"\"\n",
    "\n",
    "    full = pd.DataFrame()\n",
    "\n",
    "    models = {'k': [] }\n",
    "\n",
    "\n",
    "    for k in range(k_min,k_max+1):\n",
    "\n",
    "        neigh = KNeighborsRegressor(n_neighbors=k) # define model object\n",
    "        neigh.fit(X_train, y_train)                # train the model\n",
    "\n",
    "        models['k'] = [k, neigh]                   # populate the results for each k\n",
    "\n",
    "        y_pred_train_knn = neigh.predict(X_train)  # prediction (train)\n",
    "        y_pred_test_knn  = neigh.predict(X_test)   # prediction (test)\n",
    "\n",
    "        performance_knn, _, _ = model_performance(y_train, y_pred_train_knn, y_test, y_pred_test_knn) # error metrics\n",
    "        temp = pd.DataFrame({'k': [k]*6, 'Error_metric': performance_knn['Error_metric'],\n",
    "                             'Train': performance_knn['Train'], 'Test': performance_knn['Test']})\n",
    "        full = pd.concat([full,temp], axis=0)\n",
    "\n",
    "    return full\n"
   ],
   "metadata": {
    "collapsed": false,
    "pycharm": {
     "is_executing": true
    }
   }
  },
  {
   "cell_type": "code",
   "execution_count": null,
   "metadata": {
    "ExecuteTime": {
     "end_time": "2022-11-30T16:34:54.666930Z",
     "start_time": "2022-11-30T16:34:54.452829Z"
    },
    "colab": {
     "base_uri": "https://localhost:8080/",
     "height": 422
    },
    "executionInfo": {
     "elapsed": 746,
     "status": "ok",
     "timestamp": 1626166893790,
     "user": {
      "displayName": "Ignacio Soteras",
      "photoUrl": "",
      "userId": "02050793736257155229"
     },
     "user_tz": -120
    },
    "id": "FEHSzKRj73__",
    "outputId": "4715b06b-0fe6-4fb0-a070-4bb77af1e2d3",
    "scrolled": true,
    "pycharm": {
     "is_executing": true
    }
   },
   "outputs": [],
   "source": [
    "k_st = 2 #  minimum number of neighbors to use\n",
    "k_end = 21 # maximum number of neighbors to use\n",
    "results=run_kmeans(k_st,k_end)"
   ]
  },
  {
   "cell_type": "markdown",
   "metadata": {
    "id": "jsmKAa1IaCe0"
   },
   "source": [
    "Checking for overfitting"
   ]
  },
  {
   "cell_type": "code",
   "execution_count": null,
   "metadata": {
    "ExecuteTime": {
     "end_time": "2022-11-30T16:34:54.672276Z",
     "start_time": "2022-11-30T16:34:54.668063Z"
    },
    "colab": {
     "base_uri": "https://localhost:8080/",
     "height": 643
    },
    "executionInfo": {
     "elapsed": 199,
     "status": "ok",
     "timestamp": 1626167060246,
     "user": {
      "displayName": "Ignacio Soteras",
      "photoUrl": "",
      "userId": "02050793736257155229"
     },
     "user_tz": -120
    },
    "id": "NxeTNyRxaAmp",
    "outputId": "da9b165b-b1aa-4480-e8fa-6d8a242ad3ea",
    "pycharm": {
     "is_executing": true
    }
   },
   "outputs": [],
   "source": [
    "R2results_df = results[results['Error_metric'] == 'R2'].reset_index(drop=True)"
   ]
  },
  {
   "cell_type": "code",
   "execution_count": null,
   "metadata": {
    "ExecuteTime": {
     "end_time": "2022-11-30T16:34:54.678283Z",
     "start_time": "2022-11-30T16:34:54.673245Z"
    },
    "colab": {
     "base_uri": "https://localhost:8080/",
     "height": 422
    },
    "executionInfo": {
     "elapsed": 205,
     "status": "ok",
     "timestamp": 1626167142709,
     "user": {
      "displayName": "Ignacio Soteras",
      "photoUrl": "",
      "userId": "02050793736257155229"
     },
     "user_tz": -120
    },
    "id": "fCnzxBKpbT4L",
    "outputId": "4a8b09f6-dc1e-430a-90f6-dd91d982a58f",
    "pycharm": {
     "is_executing": true
    }
   },
   "outputs": [],
   "source": [
    "results2 = results.melt(id_vars=['k','Error_metric']) # format nicely\n",
    "results2"
   ]
  },
  {
   "cell_type": "markdown",
   "source": [
    "Display error metrics as functions of k for test and train results"
   ],
   "metadata": {
    "collapsed": false
   }
  },
  {
   "cell_type": "code",
   "execution_count": null,
   "metadata": {
    "ExecuteTime": {
     "end_time": "2022-11-30T16:34:55.474532Z",
     "start_time": "2022-11-30T16:34:54.679010Z"
    },
    "colab": {
     "base_uri": "https://localhost:8080/",
     "height": 636
    },
    "executionInfo": {
     "elapsed": 2193,
     "status": "ok",
     "timestamp": 1626167494474,
     "user": {
      "displayName": "Ignacio Soteras",
      "photoUrl": "",
      "userId": "02050793736257155229"
     },
     "user_tz": -120
    },
    "id": "tkX5MVxDaWPJ",
    "outputId": "d94ab3d4-6197-43b2-bbdb-e5778897baef",
    "pycharm": {
     "is_executing": true
    }
   },
   "outputs": [],
   "source": [
    "import matplotlib.pyplot as plt\n",
    "import seaborn as sns\n",
    "\n",
    "%matplotlib inline\n",
    "\n",
    "#metrics = ['Mean error',]'Mean absolute error',...]\n",
    "\n",
    "fig, ax = plt.subplots(2,3, figsize=(20,10))\n",
    "sns.lineplot(x = 'k', y = 'value', data = results2[results2['Error_metric'] == 'Mean error'], hue = 'variable', ax = ax[0,0])\n",
    "ax[0,0].set_xticks(range(2,21))\n",
    "ax[0,0].set_title(\"Mean error\")\n",
    "ax[0,0].legend(loc='lower right')\n",
    "sns.lineplot(x = 'k', y = 'value', data = results2[results2['Error_metric'] == 'Mean absolute error'], hue = 'variable', ax = ax[0,1])\n",
    "ax[0,1].set_xticks(range(2,21))\n",
    "ax[0,1].set_title(\"Mean absolute error\")\n",
    "ax[0,1].legend(loc='lower right')\n",
    "sns.lineplot(x = 'k', y = 'value', data = results2[results2['Error_metric'] == 'Mean squared error'], hue = 'variable', ax = ax[0,2])\n",
    "ax[0,2].set_xticks(range(2,21))\n",
    "ax[0,2].set_title(\"Mean squared error\")\n",
    "ax[0,2].legend(loc='lower right')\n",
    "sns.lineplot(x = 'k', y = 'value', data = results2[results2['Error_metric'] == 'Root mean squared error'], hue = 'variable', ax = ax[1,0])\n",
    "ax[1,0].set_xticks(range(2,21))\n",
    "ax[1,0].set_title(\"Root mean squared error\")\n",
    "ax[1,0].legend(loc='lower right')\n",
    "sns.lineplot(x = 'k', y = 'value', data = results2[results2['Error_metric'] == 'Mean absolute percentual error'], hue = 'variable', ax = ax[1,1])\n",
    "ax[1,1].set_xticks(range(2,21))\n",
    "ax[1,1].set_title(\"Mean absolute percentual error\")\n",
    "ax[1,1].legend(loc='lower right')\n",
    "sns.lineplot(x = 'k', y = 'value', data = results2[results2['Error_metric'] == 'R2'], hue = 'variable', ax = ax[1,2])\n",
    "ax[1,2].set_xticks(range(2,21))\n",
    "ax[1,2].set_title(\"R2\")\n",
    "ax[1,2].legend(loc='lower right')"
   ]
  },
  {
   "cell_type": "markdown",
   "metadata": {},
   "source": [
    "## Part 2 - Cross validation and learning parameter optimizing"
   ]
  },
  {
   "cell_type": "markdown",
   "metadata": {
    "id": "MzO7l45973__"
   },
   "source": [
    "### Cross Validation"
   ]
  },
  {
   "cell_type": "code",
   "execution_count": null,
   "metadata": {
    "ExecuteTime": {
     "end_time": "2022-11-30T16:34:55.479673Z",
     "start_time": "2022-11-30T16:34:55.477894Z"
    },
    "executionInfo": {
     "elapsed": 258,
     "status": "ok",
     "timestamp": 1626170028715,
     "user": {
      "displayName": "Ignacio Soteras",
      "photoUrl": "",
      "userId": "02050793736257155229"
     },
     "user_tz": -120
    },
    "id": "bqBK-sJI73__",
    "run_control": {
     "marked": true
    },
    "pycharm": {
     "is_executing": true
    }
   },
   "outputs": [],
   "source": [
    "# initialize model (only parameter is n_jobs=-1, i.e., use cpu greedily)\n",
    "neigh = KNeighborsRegressor(n_jobs=-1) # model\n",
    "\n",
    "# define grid search with K-Fold cross validation\n",
    "neigh_search = GridSearchCV(estimator=neigh, #  model to use\n",
    "                            param_grid={\"n_neighbors\":range(k_st,k_end), # parameters to try\n",
    "                                        \"weights\":[\"uniform\", \"distance\"]}, # in a given neighborhood, how we weight points relative to query point\n",
    "                            scoring=\"r2\", # strategy to evaluate the performance of the cross-validated model on the test set.\n",
    "                            cv=10) # cv = num of folds\n",
    "\n",
    "# all possible metrics here:\n",
    "# from sklearn.metrics import SCORERS\n",
    "# sorted(SCORERS.keys())"
   ]
  },
  {
   "cell_type": "code",
   "execution_count": null,
   "metadata": {
    "ExecuteTime": {
     "end_time": "2022-11-30T16:34:55.496023Z",
     "start_time": "2022-11-30T16:34:55.480396Z"
    },
    "pycharm": {
     "is_executing": true
    }
   },
   "outputs": [],
   "source": [
    "from sklearn.model_selection import  cross_val_score\n",
    "print(pd.DataFrame(cross_val_score(neigh,X_train, y_train),columns=['r2 score'], index=[ \"run \" + str(l) for l in range(5)])) # print r2 scores"
   ]
  },
  {
   "cell_type": "code",
   "execution_count": null,
   "metadata": {
    "ExecuteTime": {
     "end_time": "2022-11-30T16:34:56.198137Z",
     "start_time": "2022-11-30T16:34:55.496901Z"
    },
    "colab": {
     "base_uri": "https://localhost:8080/"
    },
    "executionInfo": {
     "elapsed": 2078,
     "status": "ok",
     "timestamp": 1626170052337,
     "user": {
      "displayName": "Ignacio Soteras",
      "photoUrl": "",
      "userId": "02050793736257155229"
     },
     "user_tz": -120
    },
    "id": "6PMPDw-673__",
    "outputId": "d113fab8-7a23-465c-e676-4db9eaa7cf7d",
    "pycharm": {
     "is_executing": true
    }
   },
   "outputs": [],
   "source": [
    "neigh_search.fit(X_train, y_train) # run the grid search for optimal learning parameters"
   ]
  },
  {
   "cell_type": "code",
   "execution_count": null,
   "outputs": [],
   "source": [
    "neigh_search.cv_results_ # examine the scores of each our search cases"
   ],
   "metadata": {
    "collapsed": false,
    "pycharm": {
     "is_executing": true
    }
   }
  },
  {
   "cell_type": "code",
   "execution_count": null,
   "metadata": {
    "ExecuteTime": {
     "end_time": "2022-11-30T16:34:56.204287Z",
     "start_time": "2022-11-30T16:34:56.202143Z"
    },
    "colab": {
     "base_uri": "https://localhost:8080/"
    },
    "executionInfo": {
     "elapsed": 256,
     "status": "ok",
     "timestamp": 1626170073765,
     "user": {
      "displayName": "Ignacio Soteras",
      "photoUrl": "",
      "userId": "02050793736257155229"
     },
     "user_tz": -120
    },
    "id": "bo5xSdCg74AA",
    "jupyter": {
     "outputs_hidden": true
    },
    "outputId": "9939cc01-f59e-4e68-b79e-471010e6de6c",
    "pycharm": {
     "is_executing": true
    }
   },
   "outputs": [],
   "source": [
    "print(pd.DataFrame(neigh_search.cv_results_[\"mean_test_score\"],columns=['mean test r2 score'], index=[ \"run \" + str(l) for l in range(len((neigh_search.cv_results_[\"mean_test_score\"])))])) # print the results"
   ]
  },
  {
   "cell_type": "code",
   "execution_count": null,
   "metadata": {
    "ExecuteTime": {
     "end_time": "2022-11-30T16:34:56.208032Z",
     "start_time": "2022-11-30T16:34:56.205052Z"
    },
    "colab": {
     "base_uri": "https://localhost:8080/"
    },
    "executionInfo": {
     "elapsed": 264,
     "status": "ok",
     "timestamp": 1626170100657,
     "user": {
      "displayName": "Ignacio Soteras",
      "photoUrl": "",
      "userId": "02050793736257155229"
     },
     "user_tz": -120
    },
    "id": "OPja9hgh74AA",
    "jupyter": {
     "outputs_hidden": true
    },
    "outputId": "5aeec374-b15e-4fed-d29c-d39d8b12ae43",
    "pycharm": {
     "is_executing": true
    }
   },
   "outputs": [],
   "source": [
    "neigh_search.cv_results_[\"params\"] # all the parameters we used"
   ]
  },
  {
   "cell_type": "code",
   "execution_count": null,
   "metadata": {
    "ExecuteTime": {
     "end_time": "2022-11-30T16:34:56.213609Z",
     "start_time": "2022-11-30T16:34:56.208758Z"
    },
    "colab": {
     "base_uri": "https://localhost:8080/"
    },
    "executionInfo": {
     "elapsed": 210,
     "status": "ok",
     "timestamp": 1626170198161,
     "user": {
      "displayName": "Ignacio Soteras",
      "photoUrl": "",
      "userId": "02050793736257155229"
     },
     "user_tz": -120
    },
    "id": "bRBauRXs74AA",
    "jupyter": {
     "outputs_hidden": true
    },
    "outputId": "844e037a-41d8-48cc-8e6d-b3824a670a36",
    "pycharm": {
     "is_executing": true
    }
   },
   "outputs": [],
   "source": [
    "cv_res = neigh_search.cv_results_\n",
    "sorted(zip(cv_res[\"mean_test_score\"], cv_res[\"params\"]), reverse=True)"
   ]
  },
  {
   "cell_type": "markdown",
   "metadata": {
    "id": "vodXgXeN74AA"
   },
   "source": [
    "#### Randomized search"
   ]
  },
  {
   "cell_type": "code",
   "execution_count": null,
   "metadata": {
    "ExecuteTime": {
     "end_time": "2022-11-30T16:34:56.216595Z",
     "start_time": "2022-11-30T16:34:56.214468Z"
    },
    "executionInfo": {
     "elapsed": 223,
     "status": "ok",
     "timestamp": 1626170312103,
     "user": {
      "displayName": "Ignacio Soteras",
      "photoUrl": "",
      "userId": "02050793736257155229"
     },
     "user_tz": -120
    },
    "id": "np4_2jm074AA",
    "pycharm": {
     "is_executing": true
    }
   },
   "outputs": [],
   "source": [
    "from sklearn.model_selection import RandomizedSearchCV"
   ]
  },
  {
   "cell_type": "code",
   "execution_count": null,
   "metadata": {
    "ExecuteTime": {
     "end_time": "2022-11-30T16:34:56.218860Z",
     "start_time": "2022-11-30T16:34:56.217357Z"
    },
    "executionInfo": {
     "elapsed": 217,
     "status": "ok",
     "timestamp": 1626170324095,
     "user": {
      "displayName": "Ignacio Soteras",
      "photoUrl": "",
      "userId": "02050793736257155229"
     },
     "user_tz": -120
    },
    "id": "gUoFegbW74AA",
    "pycharm": {
     "is_executing": true
    }
   },
   "outputs": [],
   "source": [
    "param_distributions = {\"n_neighbors\":range(k_st,k_end),\n",
    "                       \"weights\":[\"distance\", \"uniform\"]} # all the parameters we want to optimize and their range limits\n",
    "# 20 K values * 2 possible wights = 40 combinations\n",
    "# 100 combinations"
   ]
  },
  {
   "cell_type": "code",
   "execution_count": null,
   "metadata": {
    "ExecuteTime": {
     "end_time": "2022-11-30T16:34:56.221491Z",
     "start_time": "2022-11-30T16:34:56.219767Z"
    },
    "executionInfo": {
     "elapsed": 257,
     "status": "ok",
     "timestamp": 1626170385251,
     "user": {
      "displayName": "Ignacio Soteras",
      "photoUrl": "",
      "userId": "02050793736257155229"
     },
     "user_tz": -120
    },
    "id": "FZxUQNpX74AB",
    "pycharm": {
     "is_executing": true
    }
   },
   "outputs": [],
   "source": [
    "neigh_randsearch = RandomizedSearchCV(estimator=neigh, # model to use\n",
    "                                      param_distributions=param_distributions, # parameters to try\n",
    "                                      n_iter=40,    # number of parameter settings that are sampled\n",
    "                                      scoring=\"r2\", # strategy to evaluate the performance of the cross-validated model on the test set.\n",
    "                                      cv=10)"
   ]
  },
  {
   "cell_type": "code",
   "execution_count": null,
   "metadata": {
    "ExecuteTime": {
     "end_time": "2022-11-30T16:34:56.952202Z",
     "start_time": "2022-11-30T16:34:56.222428Z"
    },
    "colab": {
     "base_uri": "https://localhost:8080/"
    },
    "executionInfo": {
     "elapsed": 2199,
     "status": "ok",
     "timestamp": 1626170391994,
     "user": {
      "displayName": "Ignacio Soteras",
      "photoUrl": "",
      "userId": "02050793736257155229"
     },
     "user_tz": -120
    },
    "id": "PeAPud-j74AB",
    "outputId": "d0a8cf91-df98-4d9c-9cbd-924e98f6a364",
    "pycharm": {
     "is_executing": true
    }
   },
   "outputs": [],
   "source": [
    "neigh_randsearch.fit(X_train, y_train) # apply model to data"
   ]
  },
  {
   "cell_type": "code",
   "execution_count": null,
   "metadata": {
    "ExecuteTime": {
     "end_time": "2022-11-30T16:34:56.956452Z",
     "start_time": "2022-11-30T16:34:56.953012Z"
    },
    "colab": {
     "base_uri": "https://localhost:8080/"
    },
    "executionInfo": {
     "elapsed": 204,
     "status": "ok",
     "timestamp": 1626170434894,
     "user": {
      "displayName": "Ignacio Soteras",
      "photoUrl": "",
      "userId": "02050793736257155229"
     },
     "user_tz": -120
    },
    "id": "fMYm7Och74AB",
    "jupyter": {
     "outputs_hidden": true
    },
    "outputId": "b4068f7c-8779-474b-eac7-bb5ba9e608ba",
    "pycharm": {
     "is_executing": true
    }
   },
   "outputs": [],
   "source": [
    "cv_res = neigh_randsearch.cv_results_ # results : r2 scores for the different runs\n",
    "sorted(zip(cv_res[\"mean_test_score\"], cv_res[\"params\"]), reverse=True)"
   ]
  }
 ],
 "metadata": {
  "colab": {
   "name": "Housing Prices KNN.ipynb",
   "provenance": []
  },
  "kernelspec": {
   "display_name": "Python 3 (ipykernel)",
   "language": "python",
   "name": "python3"
  },
  "language_info": {
   "codemirror_mode": {
    "name": "ipython",
    "version": 3
   },
   "file_extension": ".py",
   "mimetype": "text/x-python",
   "name": "python",
   "nbconvert_exporter": "python",
   "pygments_lexer": "ipython3",
   "version": "3.9.0"
  },
  "toc": {
   "base_numbering": 1,
   "nav_menu": {},
   "number_sections": true,
   "sideBar": true,
   "skip_h1_title": false,
   "title_cell": "Table of Contents",
   "title_sidebar": "Contents",
   "toc_cell": false,
   "toc_position": {},
   "toc_section_display": true,
   "toc_window_display": false
  },
  "varInspector": {
   "cols": {
    "lenName": 16,
    "lenType": 16,
    "lenVar": 40
   },
   "kernels_config": {
    "python": {
     "delete_cmd_postfix": "",
     "delete_cmd_prefix": "del ",
     "library": "var_list.py",
     "varRefreshCmd": "print(var_dic_list())"
    },
    "r": {
     "delete_cmd_postfix": ") ",
     "delete_cmd_prefix": "rm(",
     "library": "var_list.r",
     "varRefreshCmd": "cat(var_dic_list()) "
    }
   },
   "types_to_exclude": [
    "module",
    "function",
    "builtin_function_or_method",
    "instance",
    "_Feature"
   ],
   "window_display": false
  }
 },
 "nbformat": 4,
 "nbformat_minor": 1
}
