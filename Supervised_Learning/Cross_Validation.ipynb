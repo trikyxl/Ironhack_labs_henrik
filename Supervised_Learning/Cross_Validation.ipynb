{
 "cells": [
  {
   "cell_type": "markdown",
   "id": "40758259",
   "metadata": {},
   "source": [
    "# Cross Validation"
   ]
  },
  {
   "cell_type": "markdown",
   "id": "dfd00baf",
   "metadata": {},
   "source": [
    "## Decision Trees Regression"
   ]
  },
  {
   "cell_type": "code",
   "execution_count": 2,
   "id": "537b1e49",
   "metadata": {},
   "outputs": [],
   "source": [
    "import numpy as np\n",
    "import pandas as pd\n",
    "\n",
    "from sklearn.datasets import load_boston\n",
    "from sklearn.datasets import load_iris\n",
    "\n",
    "from sklearn.model_selection import cross_val_score\n",
    "from sklearn.model_selection import cross_val_predict\n",
    "\n",
    "from sklearn.model_selection import train_test_split\n",
    "\n",
    "from sklearn.linear_model import LinearRegression\n",
    "from sklearn.neighbors import KNeighborsRegressor\n",
    "from sklearn.tree import DecisionTreeClassifier\n",
    "from sklearn.tree import DecisionTreeRegressor\n",
    "import warnings\n",
    "warnings.filterwarnings('ignore')"
   ]
  },
  {
   "cell_type": "code",
   "execution_count": 3,
   "outputs": [
    {
     "name": "stdout",
     "output_type": "stream",
     "text": [
      "X has 506 rows and 13 columns\n",
      "y has 506 rows\n",
      "X_train has 404 rows and 13 columns\n",
      "-----------------------------------\n",
      "The coefficient of determination for the test data is R2=0.86\n",
      "The coefficient of determination for the train data is R2=1.00\n"
     ]
    }
   ],
   "source": [
    "X, y = load_boston(return_X_y=True)\n",
    "print(\"X has %d rows and %d columns\"  %(X.shape[0],X.shape[1]))\n",
    "print(\"y has %d rows\"  %(y.shape[0]))\n",
    "\n",
    "X_train, X_test, y_train, y_test = train_test_split(X, y, test_size=0.20)\n",
    "model = DecisionTreeRegressor()\n",
    "model.fit(X_train, y_train)\n",
    "\n",
    "print(\"X_train has %d rows and %d columns\"  %(X_train.shape[0],X_train.shape[1]))\n",
    "print(\"-----------------------------------\")\n",
    "print(\"The coefficient of determination for the test data is R2=%.2f\"\n",
    "      %(model.score(X_test, y_test)))\n",
    "print(\"The coefficient of determination for the train data is R2=%.2f\"\n",
    "      %(model.score(X_train, y_train)))\n"
   ],
   "metadata": {
    "collapsed": false
   }
  },
  {
   "cell_type": "code",
   "execution_count": 4,
   "id": "742ecb30",
   "metadata": {},
   "outputs": [
    {
     "name": "stdout",
     "output_type": "stream",
     "text": [
      "Cross validation scores:  [0.79656559 0.85688753 0.82954233 0.76022679 0.76608302]\n",
      "Score stats: 0.80 accuracy with a standard deviation of 0.04\n"
     ]
    }
   ],
   "source": [
    "scores=cross_val_score(model, X_train, y_train, cv=5)\n",
    "print(\"Cross validation scores: \", scores)\n",
    "print(\"Score stats: %0.2f accuracy with a standard deviation of %0.2f\" % (scores.mean(), scores.std()))"
   ]
  },
  {
   "cell_type": "markdown",
   "id": "145060df",
   "metadata": {},
   "source": [
    "## Decision Trees Classification"
   ]
  },
  {
   "cell_type": "code",
   "execution_count": 5,
   "id": "c8d08d64",
   "metadata": {},
   "outputs": [
    {
     "name": "stdout",
     "output_type": "stream",
     "text": [
      "X has 150 rows and 4 columns\n",
      "y has 150 rows\n",
      "The (mean) accuracy on the test set is 0.97\n",
      "The (mean) accuracy on the train data is 1.00\n"
     ]
    }
   ],
   "source": [
    "X, y = load_iris(return_X_y=True)\n",
    "print(\"X has %d rows and %d columns\"  %(X.shape[0],X.shape[1]))\n",
    "print(\"y has %d rows\"  %(y.shape[0]))\n",
    "\n",
    "X_train, X_test, y_train, y_test = train_test_split(X, y, test_size=0.20)\n",
    "model = DecisionTreeClassifier()\n",
    "model.fit(X_train, y_train)\n",
    "print(\"The (mean) accuracy on the test set is %.2f\" %(model.score(X_test, y_test)))\n",
    "print(\"The (mean) accuracy on the train data is %.2f\" %(model.score(X_train, y_train)))"
   ]
  },
  {
   "cell_type": "markdown",
   "id": "26cb8efe",
   "metadata": {},
   "source": [
    "<b> multi class problem "
   ]
  },
  {
   "cell_type": "code",
   "execution_count": 6,
   "id": "60f60726",
   "metadata": {},
   "outputs": [
    {
     "data": {
      "text/plain": "{0, 1, 2}"
     },
     "execution_count": 6,
     "metadata": {},
     "output_type": "execute_result"
    }
   ],
   "source": [
    "set(y) # 3 labels"
   ]
  },
  {
   "cell_type": "code",
   "execution_count": 7,
   "id": "c64e6a48",
   "metadata": {},
   "outputs": [
    {
     "data": {
      "text/plain": "array([1.        , 0.91666667, 0.875     , 0.91666667, 0.95833333])"
     },
     "execution_count": 7,
     "metadata": {},
     "output_type": "execute_result"
    }
   ],
   "source": [
    "scores=cross_val_score(model, X_train, y_train, cv=5) # 5 cv foldings\n",
    "scores"
   ]
  },
  {
   "cell_type": "code",
   "execution_count": 8,
   "id": "1ffbac67",
   "metadata": {},
   "outputs": [
    {
     "name": "stdout",
     "output_type": "stream",
     "text": [
      "Five-fold cv results: \n",
      " 0.93 mean accuracy with a standard deviation of 0.04\n"
     ]
    }
   ],
   "source": [
    "print(\"Five-fold cv results: \\n %0.2f mean accuracy with a standard deviation of %0.2f\" % (scores.mean(), scores.std()))"
   ]
  },
  {
   "cell_type": "code",
   "execution_count": 9,
   "id": "3a2281d6",
   "metadata": {},
   "outputs": [
    {
     "data": {
      "text/plain": "array([1, 0, 1, 0, 2, 1, 2, 1, 2, 0, 1, 1, 1, 0, 1, 2, 2, 2, 1, 0, 1, 0,\n       1, 0, 2, 1, 2, 1, 0, 2])"
     },
     "execution_count": 9,
     "metadata": {},
     "output_type": "execute_result"
    }
   ],
   "source": [
    "y_test"
   ]
  },
  {
   "cell_type": "code",
   "execution_count": 10,
   "id": "430eddb0",
   "metadata": {},
   "outputs": [
    {
     "data": {
      "text/plain": "array([1, 0, 1, 0, 1, 1, 2, 1, 2, 0, 1, 2, 1, 0, 1, 2, 2, 2, 1, 0, 1, 0,\n       1, 0, 2, 1, 2, 1, 0, 2])"
     },
     "execution_count": 10,
     "metadata": {},
     "output_type": "execute_result"
    }
   ],
   "source": [
    "y_pred = cross_val_predict(model, X_test, y_test, cv=5)\n",
    "y_pred"
   ]
  },
  {
   "cell_type": "markdown",
   "id": "721b1fd5",
   "metadata": {},
   "source": [
    "### Models Comparision (3 regression estimators)"
   ]
  },
  {
   "cell_type": "code",
   "execution_count": 11,
   "id": "9d62a2bc",
   "metadata": {},
   "outputs": [
    {
     "name": "stdout",
     "output_type": "stream",
     "text": [
      "{'Regression Tree': 0.9182379804438309, 'Linear Regression': 0.9237415139637886, 'KNN': 0.9544323733255992}\n"
     ]
    }
   ],
   "source": [
    "model1 = DecisionTreeRegressor()\n",
    "model2 = LinearRegression()\n",
    "model3 = KNeighborsRegressor()\n",
    "\n",
    "model_pipeline = [model1, model2, model3]\n",
    "model_names = ['Regression Tree', 'Linear Regression', 'KNN']\n",
    "scores = {}\n",
    "i=0\n",
    "for model in model_pipeline:\n",
    "    mean_score = np.mean(cross_val_score(model, X_train, y_train, cv=5))\n",
    "    scores[model_names[i]] = mean_score\n",
    "    i = i+1\n",
    "print(scores)"
   ]
  },
  {
   "cell_type": "code",
   "execution_count": 12,
   "id": "421e7853",
   "metadata": {},
   "outputs": [
    {
     "name": "stdout",
     "output_type": "stream",
     "text": [
      "Comparing the 3 regression scores we find \n",
      "\n"
     ]
    },
    {
     "data": {
      "text/plain": "       Regression Tree  Linear Regression       KNN\nscore         0.918238           0.923742  0.954432",
      "text/html": "<div>\n<style scoped>\n    .dataframe tbody tr th:only-of-type {\n        vertical-align: middle;\n    }\n\n    .dataframe tbody tr th {\n        vertical-align: top;\n    }\n\n    .dataframe thead th {\n        text-align: right;\n    }\n</style>\n<table border=\"1\" class=\"dataframe\">\n  <thead>\n    <tr style=\"text-align: right;\">\n      <th></th>\n      <th>Regression Tree</th>\n      <th>Linear Regression</th>\n      <th>KNN</th>\n    </tr>\n  </thead>\n  <tbody>\n    <tr>\n      <th>score</th>\n      <td>0.918238</td>\n      <td>0.923742</td>\n      <td>0.954432</td>\n    </tr>\n  </tbody>\n</table>\n</div>"
     },
     "execution_count": 12,
     "metadata": {},
     "output_type": "execute_result"
    }
   ],
   "source": [
    "print(\"Comparing the 3 regression scores we find \\n\")\n",
    "\n",
    "pd.DataFrame([scores], index=[\"score\"])"
   ]
  },
  {
   "cell_type": "code",
   "execution_count": 12,
   "outputs": [],
   "source": [],
   "metadata": {
    "collapsed": false
   }
  }
 ],
 "metadata": {
  "kernelspec": {
   "display_name": "Python 3 (ipykernel)",
   "language": "python",
   "name": "python3"
  },
  "language_info": {
   "codemirror_mode": {
    "name": "ipython",
    "version": 3
   },
   "file_extension": ".py",
   "mimetype": "text/x-python",
   "name": "python",
   "nbconvert_exporter": "python",
   "pygments_lexer": "ipython3",
   "version": "3.9.7"
  },
  "toc": {
   "base_numbering": 1,
   "nav_menu": {},
   "number_sections": true,
   "sideBar": true,
   "skip_h1_title": false,
   "title_cell": "Table of Contents",
   "title_sidebar": "Contents",
   "toc_cell": false,
   "toc_position": {},
   "toc_section_display": true,
   "toc_window_display": false
  }
 },
 "nbformat": 4,
 "nbformat_minor": 5
}
