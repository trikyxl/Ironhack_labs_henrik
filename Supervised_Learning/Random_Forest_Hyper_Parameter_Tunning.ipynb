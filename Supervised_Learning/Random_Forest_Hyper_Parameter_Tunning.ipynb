{
 "cells": [
  {
   "cell_type": "markdown",
   "metadata": {},
   "source": [
    "## Implementing hyperparameter tuning"
   ]
  },
  {
   "cell_type": "code",
   "execution_count": 1,
   "outputs": [],
   "source": [
    "import pandas as pd\n",
    "import numpy as np\n",
    "pd.set_option('display.max_columns', None)\n",
    "import warnings\n",
    "warnings.filterwarnings('ignore')\n",
    "warnings.simplefilter(action='ignore', category=FutureWarning)\n",
    "## multiple outputs\n",
    "from IPython.core.interactiveshell import InteractiveShell\n",
    "InteractiveShell.ast_node_interactivity = \"all\"\n",
    "\n",
    "\n",
    "\n",
    "# read the data\n",
    "path=\"../../Data Processing/Data/\" # path to file relative to working directory\n",
    "numerical = pd.read_csv(path+'numerical.csv')\n",
    "categorical = pd.read_csv(path+'categorical.csv')\n",
    "targets = pd.read_csv(path+'target.csv')\n",
    "data = pd.concat([numerical, categorical, targets], axis = 1)"
   ],
   "metadata": {
    "collapsed": false
   }
  },
  {
   "cell_type": "code",
   "execution_count": 2,
   "outputs": [],
   "source": [
    "RAND_STATE = 42 # for reproducible shuffling\n",
    "TT_RATIO = 0.25 # test/train"
   ],
   "metadata": {
    "collapsed": false
   }
  },
  {
   "cell_type": "code",
   "execution_count": 3,
   "outputs": [
    {
     "data": {
      "text/plain": "0    90569\n1     4843\nName: TARGET_B, dtype: int64"
     },
     "execution_count": 3,
     "metadata": {},
     "output_type": "execute_result"
    }
   ],
   "source": [
    "data['TARGET_B'].value_counts() # distribution of target \"B\" (binary label)"
   ],
   "metadata": {
    "collapsed": false
   }
  },
  {
   "cell_type": "code",
   "execution_count": 4,
   "outputs": [],
   "source": [
    "# X,y\n",
    "y = data['TARGET_B']\n",
    "X = data.drop(['TARGET_B'], axis=1)\n",
    "# split the data by type\n",
    "numericalX = X.select_dtypes(np.number)\n",
    "categoricalX = X.select_dtypes(np.object)"
   ],
   "metadata": {
    "collapsed": false
   }
  },
  {
   "cell_type": "code",
   "execution_count": 5,
   "outputs": [
    {
     "data": {
      "text/plain": "   TCODE        AGE  INCOME  WEALTH1  HIT  MALEMILI  MALEVET  VIETVETS  \\\n0      0  60.000000       5        9    0         0       39        34   \n1      1  46.000000       6        9   16         0       15        55   \n2      1  61.611649       3        1    2         0       20        29   \n\n   WWIIVETS  LOCALGOV  STATEGOV  FEDGOV  WEALTH2  POP901  POP902  POP903  \\\n0        18        10         2       1        5     992     264     332   \n1        11         6         2       1        9    3611     940     998   \n2        33         6         8       1        1    7001    2040    2669   \n\n   POP90C1  POP90C2  POP90C3  POP90C4  POP90C5  ETH1  ETH2  ETH3  ETH4  ETH5  \\\n0        0       35       65       47       53    92     1     0     0    11   \n1       99        0        0       50       50    67     0     0    31     6   \n2        0        2       98       49       51    96     2     0     0     2   \n\n   ETH6  ETH7  ETH8  ETH9  ETH10  ETH11  ETH12  ETH13  ETH14  ETH15  ETH16  \\\n0     0     0     0     0      0      0      0     11      0      0      0   \n1     4     2     6     4     14      0      0      2      0      1      4   \n2     0     0     0     0      0      0      0      2      0      0      0   \n\n   AGE901  AGE902  AGE903  AGE904  AGE905  AGE906  AGE907  CHIL1  CHIL2  \\\n0      39      48      51      40      50      54      25     31     42   \n1      34      41      43      32      42      45      32     33     46   \n2      35      43      46      37      45      49      23     35     40   \n\n   CHIL3  AGEC1  AGEC2  AGEC3  AGEC4  AGEC5  AGEC6  AGEC7  CHILC1  CHILC2  \\\n0     27     11     14     18     17     13     11     15      12      11   \n1     21     13     14     33     23     10      4      2      11      16   \n2     25     13     20     19     16     13     10      8      15      14   \n\n   CHILC3  CHILC4  CHILC5  HHAGE1  HHAGE2  HHAGE3  HHN1  HHN2  HHN3  HHN4  \\\n0      34      25      18      26      10      23    18    33    49    28   \n1      36      22      15      12       1       5     4    21    75    55   \n2      30      22      19      25      10      23    21    35    44    22   \n\n   HHN5  HHN6  MARR1  MARR2  MARR3  MARR4  HHP1  HHP2  DW1  DW2  DW3  DW4  \\\n0    12     4     61      7     12     19   198   276   97   95    2    2   \n1    23     9     69      4      3     24   317   360   99   99    0    0   \n2     6     2     63      9      9     19   183   254   69   69    1    6   \n\n   DW5  DW6  DW7  DW8  DW9   HV1   HV2  HV3  HV4  HU1  HU2  HU3  HU4  HU5  \\\n0    0    0    7    7    0   479   635    3    2   86   14   96    4    7   \n1    0    0    0    0    0  5468  5218   12   10   96    4   97    3    9   \n2    5    3    3    3    0   497   546    2    1   78   22   93    7   18   \n\n   HHD1  HHD2  HHD3  HHD4  HHD5  HHD6  HHD7  HHD8  HHD9  HHD10  HHD11  HHD12  \\\n0    38    80    70    32    84    16     6     2     5      9     15      3   \n1    59    94    88    55    95     5     4     1     3      5      4      2   \n2    36    76    65    30    86    14     7     2     5     11     17      3   \n\n   ETHC1  ETHC2  ETHC3  ETHC4  ETHC5  ETHC6  HVP1  HVP2  HVP3  HVP4  HVP5  \\\n0     17     50     25      0      0      0     2     7    13    27    47   \n1     18     44      5      0      0      0    97    98    98    98    99   \n2     17     60     18      0      1      0     0     1     6    18    50   \n\n   HVP6  HUR1  HUR2  RHP1  RHP2  RHP3  RHP4  HUPA1  HUPA2  HUPA3  HUPA4  \\\n0     0     1    61    58    61    15     4      2      0      0     14   \n1    94     0    83    76    73    21     5      0      0      0      4   \n2     0     4    36    49    51    14     5      4      2     24     11   \n\n   HUPA5  HUPA6  HUPA7  RP1  RP2  RP3  RP4     MSA    ADI    DMA   IC1   IC2  \\\n0      1      0      0    2    5   17   73     0.0  177.0  682.0   307   318   \n1      0      0      0   91   91   91   94  4480.0   13.0  803.0  1088  1096   \n2      2      3      6    0    2    9   44     0.0  281.0  518.0   251   292   \n\n    IC3   IC4    IC5  IC6  IC7  IC8  IC9  IC10  IC11  IC12  IC13  IC14  IC15  \\\n0   349   378  12883   13   23   23   23    15     1     0     0     1     4   \n1  1026  1037  36175    2    6    2    5    15    14    13    10    33     2   \n2   292   340  11576   32   18   20   15    12     2     0     0     1    20   \n\n   IC16  IC17  IC18  IC19  IC20  IC21  IC22  IC23  HHAS1  HHAS2  HHAS3  HHAS4  \\\n0    25    24    26    17     2     0     0     2     28      4     51      1   \n1     5     2     5    15    14    14    10    32      6      2     66      3   \n2    19    24    18    16     2     0     0     1     28      8     31     11   \n\n   MC1  MC2  MC3  TPE1  TPE2  TPE3  TPE4  TPE5  TPE6  TPE7  TPE8  TPE9  PEC1  \\\n0   46   54    3    88     8     0     0     0     0     0     0     4     1   \n1   56   44    9    80    14     0     0     0     0     0     0     6     0   \n2   38   62    8    74    22     0     0     0     0     0     2     2     1   \n\n   PEC2  TPE10  TPE11  TPE12  TPE13  LFC1  LFC2  LFC3  LFC4  LFC5  LFC6  LFC7  \\\n0    13     14     16      2     45    56    64    50    64    44    62    53   \n1     2     24     32     12     71    70    83    58    81    57    64    57   \n2    21     19     24      6     61    65    73    59    70    56    78    62   \n\n   LFC8  LFC9  LFC10  OCC1  OCC2  OCC3  OCC4  OCC5  OCC6  OCC7  OCC8  OCC9  \\\n0    99     0      0     9     3     8    13     9     0     3     9     3   \n1    99    99      0    22    24     4    21    13     2     1     6     0   \n2    82    99      4    10     5     2     6    12     0     1     9     5   \n\n   OCC10  OCC11  OCC12  OCC13  EIC1  EIC2  EIC3  EIC4  EIC5  EIC6  EIC7  EIC8  \\\n0     15     19      5      4     3     0     3    41     1     0     7    13   \n1      4      1      0      3     1     0     6    13     1     2     8    18   \n2     18     20      5      7     6     0    11    33     4     3     2    12   \n\n   EIC9  EIC10  EIC11  EIC12  EIC13  EIC14  EIC15  EIC16  OEDC1  OEDC2  OEDC3  \\\n0     6      5      0      4      9      4      1      3     10      2      1   \n1    11      4      3      4     10      7     11      1      6      2      1   \n2     3      3      2      0      7      8      3      3      6      7      1   \n\n   OEDC4  OEDC5  OEDC6  OEDC7  EC1  EC2  EC3  EC4  EC5  EC6  EC7  EC8  SEC1  \\\n0      7     78      2      0  120   16   10   39   21    8    4    3     5   \n1     16     69      5      2  160    5    5   12   21    7   30   20    14   \n2      8     74      3      1  120   22   20   28   16    6    5    3     1   \n\n   SEC2  SEC3  SEC4  SEC5  AFC1  AFC2  AFC3  AFC4  AFC5  AFC6  VC1  VC2  VC3  \\\n0    20     3    19     4     0     0     0    18    39     0   34   23   18   \n1    24     4    24    10     0     0     0     8    15     0   55   10   11   \n2    23     1    16     6     0     0     0    10    21     0   28   23   32   \n\n   VC4  ANC1  ANC2  ANC3  ANC4  ANC5  ANC6  ANC7  ANC8  ANC9  ANC10  ANC11  \\\n0   16     1     4     0    23     0     0     5     1     0      0      0   \n1    0     0     2     0     3     1     1     2     3     1      1      0   \n2    8     1    14     1     5     0     0     7     0     0      0      0   \n\n   ANC12  ANC13  ANC14  ANC15  POBC1  POBC2  LSC1  LSC2  LSC3  LSC4  VOC1  \\\n0      0      0      2      0      3     74    88     8     0     4    96   \n1      3      0      0      0     42     39    50     7    27    16    99   \n2      0      1      0      0      2     84    96     3     0     0    92   \n\n   VOC2  VOC3  HC1  HC2  HC3  HC4  HC5  HC6  HC7  HC8  HC9  HC10  HC11  HC12  \\\n0    77    19   13   31    5   14   14   31   54   46    0     0    90     0   \n1    92    53    5   10    2   26   56   97   99    0    0     0    96     0   \n2    65    29    9   22    3   12   23   50   69   31    0     0     0     6   \n\n   HC13  HC14  HC15  HC16  HC17  HC18  HC19  HC20  HC21  MHUC1  MHUC2  AC1  \\\n0    10     0     0     0    33    65    40    99    99      6      2   10   \n1     4     0     0     0    99     0    99    99    99     20      4    6   \n2    35    44     0    15    22    77    17    97    92      9      2    6   \n\n   AC2  CARDPROM  NUMPROM  CARDPM12  NUMPRM12  RAMNTALL  NGIFTALL  CARDGIFT  \\\n0    7        27       74         6        14     240.0        31        14   \n1    5        12       32         6        13      47.0         3         1   \n2    5        26       63         6        14     202.0        27        14   \n\n   MINRAMNT  MAXRAMNT  LASTGIFT  TIMELAG    AVGGIFT  CONTROLN  HPHONE_D  \\\n0       5.0      12.0      10.0        4   7.741935     95515         0   \n1      10.0      25.0      25.0       18  15.666667    148535         0   \n2       2.0      16.0       5.0       12   7.481481     15078         1   \n\n   RFA_2F  CLUSTER2  CLUSTER  DATASRCE  DOMAIN_B  ODATEW_YR  ODATEW_MM  \\\n0       4        39       36         3         2         89          1   \n1       2         1       14         3         1         94          1   \n2       4        60       43         3         2         90          1   \n\n   DOB_YR  DOB_MM  MINRDATE_YR  MINRDATE_MM  MAXRDATE_YR  MAXRDATE_MM  \\\n0      37      12           92            8           94            2   \n1      52       2           93           10           95           12   \n2       0       2           91           11           92            7   \n\n   LASTDATE_YR  LASTDATE_MM  FIRSTDATE_YR  FIRSTDATE_MM  TARGET_D    0    1  \\\n0           95           12            89          11.0       0.0  0.0  0.0   \n1           95           12            93          10.0       0.0  1.0  0.0   \n2           95           12            90           1.0       0.0  0.0  0.0   \n\n     2    3    4    5    6    7    8    9   10   11   12   13   14   15   16  \\\n0  0.0  1.0  0.0  0.0  0.0  0.0  0.0  0.0  0.0  0.0  0.0  1.0  0.0  0.0  1.0   \n1  0.0  0.0  0.0  0.0  0.0  0.0  0.0  0.0  0.0  0.0  0.0  0.0  1.0  0.0  1.0   \n2  0.0  0.0  0.0  0.0  0.0  1.0  0.0  0.0  0.0  0.0  1.0  0.0  1.0  0.0  1.0   \n\n    17   18   19   20   21   22   23   24   25   26   27   28   29  \n0  0.0  1.0  0.0  0.0  0.0  0.0  1.0  0.0  0.0  0.0  0.0  1.0  0.0  \n1  0.0  0.0  0.0  1.0  1.0  0.0  0.0  0.0  0.0  0.0  1.0  0.0  0.0  \n2  0.0  1.0  0.0  0.0  0.0  0.0  1.0  0.0  0.0  1.0  0.0  0.0  0.0  ",
      "text/html": "<div>\n<style scoped>\n    .dataframe tbody tr th:only-of-type {\n        vertical-align: middle;\n    }\n\n    .dataframe tbody tr th {\n        vertical-align: top;\n    }\n\n    .dataframe thead th {\n        text-align: right;\n    }\n</style>\n<table border=\"1\" class=\"dataframe\">\n  <thead>\n    <tr style=\"text-align: right;\">\n      <th></th>\n      <th>TCODE</th>\n      <th>AGE</th>\n      <th>INCOME</th>\n      <th>WEALTH1</th>\n      <th>HIT</th>\n      <th>MALEMILI</th>\n      <th>MALEVET</th>\n      <th>VIETVETS</th>\n      <th>WWIIVETS</th>\n      <th>LOCALGOV</th>\n      <th>STATEGOV</th>\n      <th>FEDGOV</th>\n      <th>WEALTH2</th>\n      <th>POP901</th>\n      <th>POP902</th>\n      <th>POP903</th>\n      <th>POP90C1</th>\n      <th>POP90C2</th>\n      <th>POP90C3</th>\n      <th>POP90C4</th>\n      <th>POP90C5</th>\n      <th>ETH1</th>\n      <th>ETH2</th>\n      <th>ETH3</th>\n      <th>ETH4</th>\n      <th>ETH5</th>\n      <th>ETH6</th>\n      <th>ETH7</th>\n      <th>ETH8</th>\n      <th>ETH9</th>\n      <th>ETH10</th>\n      <th>ETH11</th>\n      <th>ETH12</th>\n      <th>ETH13</th>\n      <th>ETH14</th>\n      <th>ETH15</th>\n      <th>ETH16</th>\n      <th>AGE901</th>\n      <th>AGE902</th>\n      <th>AGE903</th>\n      <th>AGE904</th>\n      <th>AGE905</th>\n      <th>AGE906</th>\n      <th>AGE907</th>\n      <th>CHIL1</th>\n      <th>CHIL2</th>\n      <th>CHIL3</th>\n      <th>AGEC1</th>\n      <th>AGEC2</th>\n      <th>AGEC3</th>\n      <th>AGEC4</th>\n      <th>AGEC5</th>\n      <th>AGEC6</th>\n      <th>AGEC7</th>\n      <th>CHILC1</th>\n      <th>CHILC2</th>\n      <th>CHILC3</th>\n      <th>CHILC4</th>\n      <th>CHILC5</th>\n      <th>HHAGE1</th>\n      <th>HHAGE2</th>\n      <th>HHAGE3</th>\n      <th>HHN1</th>\n      <th>HHN2</th>\n      <th>HHN3</th>\n      <th>HHN4</th>\n      <th>HHN5</th>\n      <th>HHN6</th>\n      <th>MARR1</th>\n      <th>MARR2</th>\n      <th>MARR3</th>\n      <th>MARR4</th>\n      <th>HHP1</th>\n      <th>HHP2</th>\n      <th>DW1</th>\n      <th>DW2</th>\n      <th>DW3</th>\n      <th>DW4</th>\n      <th>DW5</th>\n      <th>DW6</th>\n      <th>DW7</th>\n      <th>DW8</th>\n      <th>DW9</th>\n      <th>HV1</th>\n      <th>HV2</th>\n      <th>HV3</th>\n      <th>HV4</th>\n      <th>HU1</th>\n      <th>HU2</th>\n      <th>HU3</th>\n      <th>HU4</th>\n      <th>HU5</th>\n      <th>HHD1</th>\n      <th>HHD2</th>\n      <th>HHD3</th>\n      <th>HHD4</th>\n      <th>HHD5</th>\n      <th>HHD6</th>\n      <th>HHD7</th>\n      <th>HHD8</th>\n      <th>HHD9</th>\n      <th>HHD10</th>\n      <th>HHD11</th>\n      <th>HHD12</th>\n      <th>ETHC1</th>\n      <th>ETHC2</th>\n      <th>ETHC3</th>\n      <th>ETHC4</th>\n      <th>ETHC5</th>\n      <th>ETHC6</th>\n      <th>HVP1</th>\n      <th>HVP2</th>\n      <th>HVP3</th>\n      <th>HVP4</th>\n      <th>HVP5</th>\n      <th>HVP6</th>\n      <th>HUR1</th>\n      <th>HUR2</th>\n      <th>RHP1</th>\n      <th>RHP2</th>\n      <th>RHP3</th>\n      <th>RHP4</th>\n      <th>HUPA1</th>\n      <th>HUPA2</th>\n      <th>HUPA3</th>\n      <th>HUPA4</th>\n      <th>HUPA5</th>\n      <th>HUPA6</th>\n      <th>HUPA7</th>\n      <th>RP1</th>\n      <th>RP2</th>\n      <th>RP3</th>\n      <th>RP4</th>\n      <th>MSA</th>\n      <th>ADI</th>\n      <th>DMA</th>\n      <th>IC1</th>\n      <th>IC2</th>\n      <th>IC3</th>\n      <th>IC4</th>\n      <th>IC5</th>\n      <th>IC6</th>\n      <th>IC7</th>\n      <th>IC8</th>\n      <th>IC9</th>\n      <th>IC10</th>\n      <th>IC11</th>\n      <th>IC12</th>\n      <th>IC13</th>\n      <th>IC14</th>\n      <th>IC15</th>\n      <th>IC16</th>\n      <th>IC17</th>\n      <th>IC18</th>\n      <th>IC19</th>\n      <th>IC20</th>\n      <th>IC21</th>\n      <th>IC22</th>\n      <th>IC23</th>\n      <th>HHAS1</th>\n      <th>HHAS2</th>\n      <th>HHAS3</th>\n      <th>HHAS4</th>\n      <th>MC1</th>\n      <th>MC2</th>\n      <th>MC3</th>\n      <th>TPE1</th>\n      <th>TPE2</th>\n      <th>TPE3</th>\n      <th>TPE4</th>\n      <th>TPE5</th>\n      <th>TPE6</th>\n      <th>TPE7</th>\n      <th>TPE8</th>\n      <th>TPE9</th>\n      <th>PEC1</th>\n      <th>PEC2</th>\n      <th>TPE10</th>\n      <th>TPE11</th>\n      <th>TPE12</th>\n      <th>TPE13</th>\n      <th>LFC1</th>\n      <th>LFC2</th>\n      <th>LFC3</th>\n      <th>LFC4</th>\n      <th>LFC5</th>\n      <th>LFC6</th>\n      <th>LFC7</th>\n      <th>LFC8</th>\n      <th>LFC9</th>\n      <th>LFC10</th>\n      <th>OCC1</th>\n      <th>OCC2</th>\n      <th>OCC3</th>\n      <th>OCC4</th>\n      <th>OCC5</th>\n      <th>OCC6</th>\n      <th>OCC7</th>\n      <th>OCC8</th>\n      <th>OCC9</th>\n      <th>OCC10</th>\n      <th>OCC11</th>\n      <th>OCC12</th>\n      <th>OCC13</th>\n      <th>EIC1</th>\n      <th>EIC2</th>\n      <th>EIC3</th>\n      <th>EIC4</th>\n      <th>EIC5</th>\n      <th>EIC6</th>\n      <th>EIC7</th>\n      <th>EIC8</th>\n      <th>EIC9</th>\n      <th>EIC10</th>\n      <th>EIC11</th>\n      <th>EIC12</th>\n      <th>EIC13</th>\n      <th>EIC14</th>\n      <th>EIC15</th>\n      <th>EIC16</th>\n      <th>OEDC1</th>\n      <th>OEDC2</th>\n      <th>OEDC3</th>\n      <th>OEDC4</th>\n      <th>OEDC5</th>\n      <th>OEDC6</th>\n      <th>OEDC7</th>\n      <th>EC1</th>\n      <th>EC2</th>\n      <th>EC3</th>\n      <th>EC4</th>\n      <th>EC5</th>\n      <th>EC6</th>\n      <th>EC7</th>\n      <th>EC8</th>\n      <th>SEC1</th>\n      <th>SEC2</th>\n      <th>SEC3</th>\n      <th>SEC4</th>\n      <th>SEC5</th>\n      <th>AFC1</th>\n      <th>AFC2</th>\n      <th>AFC3</th>\n      <th>AFC4</th>\n      <th>AFC5</th>\n      <th>AFC6</th>\n      <th>VC1</th>\n      <th>VC2</th>\n      <th>VC3</th>\n      <th>VC4</th>\n      <th>ANC1</th>\n      <th>ANC2</th>\n      <th>ANC3</th>\n      <th>ANC4</th>\n      <th>ANC5</th>\n      <th>ANC6</th>\n      <th>ANC7</th>\n      <th>ANC8</th>\n      <th>ANC9</th>\n      <th>ANC10</th>\n      <th>ANC11</th>\n      <th>ANC12</th>\n      <th>ANC13</th>\n      <th>ANC14</th>\n      <th>ANC15</th>\n      <th>POBC1</th>\n      <th>POBC2</th>\n      <th>LSC1</th>\n      <th>LSC2</th>\n      <th>LSC3</th>\n      <th>LSC4</th>\n      <th>VOC1</th>\n      <th>VOC2</th>\n      <th>VOC3</th>\n      <th>HC1</th>\n      <th>HC2</th>\n      <th>HC3</th>\n      <th>HC4</th>\n      <th>HC5</th>\n      <th>HC6</th>\n      <th>HC7</th>\n      <th>HC8</th>\n      <th>HC9</th>\n      <th>HC10</th>\n      <th>HC11</th>\n      <th>HC12</th>\n      <th>HC13</th>\n      <th>HC14</th>\n      <th>HC15</th>\n      <th>HC16</th>\n      <th>HC17</th>\n      <th>HC18</th>\n      <th>HC19</th>\n      <th>HC20</th>\n      <th>HC21</th>\n      <th>MHUC1</th>\n      <th>MHUC2</th>\n      <th>AC1</th>\n      <th>AC2</th>\n      <th>CARDPROM</th>\n      <th>NUMPROM</th>\n      <th>CARDPM12</th>\n      <th>NUMPRM12</th>\n      <th>RAMNTALL</th>\n      <th>NGIFTALL</th>\n      <th>CARDGIFT</th>\n      <th>MINRAMNT</th>\n      <th>MAXRAMNT</th>\n      <th>LASTGIFT</th>\n      <th>TIMELAG</th>\n      <th>AVGGIFT</th>\n      <th>CONTROLN</th>\n      <th>HPHONE_D</th>\n      <th>RFA_2F</th>\n      <th>CLUSTER2</th>\n      <th>CLUSTER</th>\n      <th>DATASRCE</th>\n      <th>DOMAIN_B</th>\n      <th>ODATEW_YR</th>\n      <th>ODATEW_MM</th>\n      <th>DOB_YR</th>\n      <th>DOB_MM</th>\n      <th>MINRDATE_YR</th>\n      <th>MINRDATE_MM</th>\n      <th>MAXRDATE_YR</th>\n      <th>MAXRDATE_MM</th>\n      <th>LASTDATE_YR</th>\n      <th>LASTDATE_MM</th>\n      <th>FIRSTDATE_YR</th>\n      <th>FIRSTDATE_MM</th>\n      <th>TARGET_D</th>\n      <th>0</th>\n      <th>1</th>\n      <th>2</th>\n      <th>3</th>\n      <th>4</th>\n      <th>5</th>\n      <th>6</th>\n      <th>7</th>\n      <th>8</th>\n      <th>9</th>\n      <th>10</th>\n      <th>11</th>\n      <th>12</th>\n      <th>13</th>\n      <th>14</th>\n      <th>15</th>\n      <th>16</th>\n      <th>17</th>\n      <th>18</th>\n      <th>19</th>\n      <th>20</th>\n      <th>21</th>\n      <th>22</th>\n      <th>23</th>\n      <th>24</th>\n      <th>25</th>\n      <th>26</th>\n      <th>27</th>\n      <th>28</th>\n      <th>29</th>\n    </tr>\n  </thead>\n  <tbody>\n    <tr>\n      <th>0</th>\n      <td>0</td>\n      <td>60.000000</td>\n      <td>5</td>\n      <td>9</td>\n      <td>0</td>\n      <td>0</td>\n      <td>39</td>\n      <td>34</td>\n      <td>18</td>\n      <td>10</td>\n      <td>2</td>\n      <td>1</td>\n      <td>5</td>\n      <td>992</td>\n      <td>264</td>\n      <td>332</td>\n      <td>0</td>\n      <td>35</td>\n      <td>65</td>\n      <td>47</td>\n      <td>53</td>\n      <td>92</td>\n      <td>1</td>\n      <td>0</td>\n      <td>0</td>\n      <td>11</td>\n      <td>0</td>\n      <td>0</td>\n      <td>0</td>\n      <td>0</td>\n      <td>0</td>\n      <td>0</td>\n      <td>0</td>\n      <td>11</td>\n      <td>0</td>\n      <td>0</td>\n      <td>0</td>\n      <td>39</td>\n      <td>48</td>\n      <td>51</td>\n      <td>40</td>\n      <td>50</td>\n      <td>54</td>\n      <td>25</td>\n      <td>31</td>\n      <td>42</td>\n      <td>27</td>\n      <td>11</td>\n      <td>14</td>\n      <td>18</td>\n      <td>17</td>\n      <td>13</td>\n      <td>11</td>\n      <td>15</td>\n      <td>12</td>\n      <td>11</td>\n      <td>34</td>\n      <td>25</td>\n      <td>18</td>\n      <td>26</td>\n      <td>10</td>\n      <td>23</td>\n      <td>18</td>\n      <td>33</td>\n      <td>49</td>\n      <td>28</td>\n      <td>12</td>\n      <td>4</td>\n      <td>61</td>\n      <td>7</td>\n      <td>12</td>\n      <td>19</td>\n      <td>198</td>\n      <td>276</td>\n      <td>97</td>\n      <td>95</td>\n      <td>2</td>\n      <td>2</td>\n      <td>0</td>\n      <td>0</td>\n      <td>7</td>\n      <td>7</td>\n      <td>0</td>\n      <td>479</td>\n      <td>635</td>\n      <td>3</td>\n      <td>2</td>\n      <td>86</td>\n      <td>14</td>\n      <td>96</td>\n      <td>4</td>\n      <td>7</td>\n      <td>38</td>\n      <td>80</td>\n      <td>70</td>\n      <td>32</td>\n      <td>84</td>\n      <td>16</td>\n      <td>6</td>\n      <td>2</td>\n      <td>5</td>\n      <td>9</td>\n      <td>15</td>\n      <td>3</td>\n      <td>17</td>\n      <td>50</td>\n      <td>25</td>\n      <td>0</td>\n      <td>0</td>\n      <td>0</td>\n      <td>2</td>\n      <td>7</td>\n      <td>13</td>\n      <td>27</td>\n      <td>47</td>\n      <td>0</td>\n      <td>1</td>\n      <td>61</td>\n      <td>58</td>\n      <td>61</td>\n      <td>15</td>\n      <td>4</td>\n      <td>2</td>\n      <td>0</td>\n      <td>0</td>\n      <td>14</td>\n      <td>1</td>\n      <td>0</td>\n      <td>0</td>\n      <td>2</td>\n      <td>5</td>\n      <td>17</td>\n      <td>73</td>\n      <td>0.0</td>\n      <td>177.0</td>\n      <td>682.0</td>\n      <td>307</td>\n      <td>318</td>\n      <td>349</td>\n      <td>378</td>\n      <td>12883</td>\n      <td>13</td>\n      <td>23</td>\n      <td>23</td>\n      <td>23</td>\n      <td>15</td>\n      <td>1</td>\n      <td>0</td>\n      <td>0</td>\n      <td>1</td>\n      <td>4</td>\n      <td>25</td>\n      <td>24</td>\n      <td>26</td>\n      <td>17</td>\n      <td>2</td>\n      <td>0</td>\n      <td>0</td>\n      <td>2</td>\n      <td>28</td>\n      <td>4</td>\n      <td>51</td>\n      <td>1</td>\n      <td>46</td>\n      <td>54</td>\n      <td>3</td>\n      <td>88</td>\n      <td>8</td>\n      <td>0</td>\n      <td>0</td>\n      <td>0</td>\n      <td>0</td>\n      <td>0</td>\n      <td>0</td>\n      <td>4</td>\n      <td>1</td>\n      <td>13</td>\n      <td>14</td>\n      <td>16</td>\n      <td>2</td>\n      <td>45</td>\n      <td>56</td>\n      <td>64</td>\n      <td>50</td>\n      <td>64</td>\n      <td>44</td>\n      <td>62</td>\n      <td>53</td>\n      <td>99</td>\n      <td>0</td>\n      <td>0</td>\n      <td>9</td>\n      <td>3</td>\n      <td>8</td>\n      <td>13</td>\n      <td>9</td>\n      <td>0</td>\n      <td>3</td>\n      <td>9</td>\n      <td>3</td>\n      <td>15</td>\n      <td>19</td>\n      <td>5</td>\n      <td>4</td>\n      <td>3</td>\n      <td>0</td>\n      <td>3</td>\n      <td>41</td>\n      <td>1</td>\n      <td>0</td>\n      <td>7</td>\n      <td>13</td>\n      <td>6</td>\n      <td>5</td>\n      <td>0</td>\n      <td>4</td>\n      <td>9</td>\n      <td>4</td>\n      <td>1</td>\n      <td>3</td>\n      <td>10</td>\n      <td>2</td>\n      <td>1</td>\n      <td>7</td>\n      <td>78</td>\n      <td>2</td>\n      <td>0</td>\n      <td>120</td>\n      <td>16</td>\n      <td>10</td>\n      <td>39</td>\n      <td>21</td>\n      <td>8</td>\n      <td>4</td>\n      <td>3</td>\n      <td>5</td>\n      <td>20</td>\n      <td>3</td>\n      <td>19</td>\n      <td>4</td>\n      <td>0</td>\n      <td>0</td>\n      <td>0</td>\n      <td>18</td>\n      <td>39</td>\n      <td>0</td>\n      <td>34</td>\n      <td>23</td>\n      <td>18</td>\n      <td>16</td>\n      <td>1</td>\n      <td>4</td>\n      <td>0</td>\n      <td>23</td>\n      <td>0</td>\n      <td>0</td>\n      <td>5</td>\n      <td>1</td>\n      <td>0</td>\n      <td>0</td>\n      <td>0</td>\n      <td>0</td>\n      <td>0</td>\n      <td>2</td>\n      <td>0</td>\n      <td>3</td>\n      <td>74</td>\n      <td>88</td>\n      <td>8</td>\n      <td>0</td>\n      <td>4</td>\n      <td>96</td>\n      <td>77</td>\n      <td>19</td>\n      <td>13</td>\n      <td>31</td>\n      <td>5</td>\n      <td>14</td>\n      <td>14</td>\n      <td>31</td>\n      <td>54</td>\n      <td>46</td>\n      <td>0</td>\n      <td>0</td>\n      <td>90</td>\n      <td>0</td>\n      <td>10</td>\n      <td>0</td>\n      <td>0</td>\n      <td>0</td>\n      <td>33</td>\n      <td>65</td>\n      <td>40</td>\n      <td>99</td>\n      <td>99</td>\n      <td>6</td>\n      <td>2</td>\n      <td>10</td>\n      <td>7</td>\n      <td>27</td>\n      <td>74</td>\n      <td>6</td>\n      <td>14</td>\n      <td>240.0</td>\n      <td>31</td>\n      <td>14</td>\n      <td>5.0</td>\n      <td>12.0</td>\n      <td>10.0</td>\n      <td>4</td>\n      <td>7.741935</td>\n      <td>95515</td>\n      <td>0</td>\n      <td>4</td>\n      <td>39</td>\n      <td>36</td>\n      <td>3</td>\n      <td>2</td>\n      <td>89</td>\n      <td>1</td>\n      <td>37</td>\n      <td>12</td>\n      <td>92</td>\n      <td>8</td>\n      <td>94</td>\n      <td>2</td>\n      <td>95</td>\n      <td>12</td>\n      <td>89</td>\n      <td>11.0</td>\n      <td>0.0</td>\n      <td>0.0</td>\n      <td>0.0</td>\n      <td>0.0</td>\n      <td>1.0</td>\n      <td>0.0</td>\n      <td>0.0</td>\n      <td>0.0</td>\n      <td>0.0</td>\n      <td>0.0</td>\n      <td>0.0</td>\n      <td>0.0</td>\n      <td>0.0</td>\n      <td>0.0</td>\n      <td>1.0</td>\n      <td>0.0</td>\n      <td>0.0</td>\n      <td>1.0</td>\n      <td>0.0</td>\n      <td>1.0</td>\n      <td>0.0</td>\n      <td>0.0</td>\n      <td>0.0</td>\n      <td>0.0</td>\n      <td>1.0</td>\n      <td>0.0</td>\n      <td>0.0</td>\n      <td>0.0</td>\n      <td>0.0</td>\n      <td>1.0</td>\n      <td>0.0</td>\n    </tr>\n    <tr>\n      <th>1</th>\n      <td>1</td>\n      <td>46.000000</td>\n      <td>6</td>\n      <td>9</td>\n      <td>16</td>\n      <td>0</td>\n      <td>15</td>\n      <td>55</td>\n      <td>11</td>\n      <td>6</td>\n      <td>2</td>\n      <td>1</td>\n      <td>9</td>\n      <td>3611</td>\n      <td>940</td>\n      <td>998</td>\n      <td>99</td>\n      <td>0</td>\n      <td>0</td>\n      <td>50</td>\n      <td>50</td>\n      <td>67</td>\n      <td>0</td>\n      <td>0</td>\n      <td>31</td>\n      <td>6</td>\n      <td>4</td>\n      <td>2</td>\n      <td>6</td>\n      <td>4</td>\n      <td>14</td>\n      <td>0</td>\n      <td>0</td>\n      <td>2</td>\n      <td>0</td>\n      <td>1</td>\n      <td>4</td>\n      <td>34</td>\n      <td>41</td>\n      <td>43</td>\n      <td>32</td>\n      <td>42</td>\n      <td>45</td>\n      <td>32</td>\n      <td>33</td>\n      <td>46</td>\n      <td>21</td>\n      <td>13</td>\n      <td>14</td>\n      <td>33</td>\n      <td>23</td>\n      <td>10</td>\n      <td>4</td>\n      <td>2</td>\n      <td>11</td>\n      <td>16</td>\n      <td>36</td>\n      <td>22</td>\n      <td>15</td>\n      <td>12</td>\n      <td>1</td>\n      <td>5</td>\n      <td>4</td>\n      <td>21</td>\n      <td>75</td>\n      <td>55</td>\n      <td>23</td>\n      <td>9</td>\n      <td>69</td>\n      <td>4</td>\n      <td>3</td>\n      <td>24</td>\n      <td>317</td>\n      <td>360</td>\n      <td>99</td>\n      <td>99</td>\n      <td>0</td>\n      <td>0</td>\n      <td>0</td>\n      <td>0</td>\n      <td>0</td>\n      <td>0</td>\n      <td>0</td>\n      <td>5468</td>\n      <td>5218</td>\n      <td>12</td>\n      <td>10</td>\n      <td>96</td>\n      <td>4</td>\n      <td>97</td>\n      <td>3</td>\n      <td>9</td>\n      <td>59</td>\n      <td>94</td>\n      <td>88</td>\n      <td>55</td>\n      <td>95</td>\n      <td>5</td>\n      <td>4</td>\n      <td>1</td>\n      <td>3</td>\n      <td>5</td>\n      <td>4</td>\n      <td>2</td>\n      <td>18</td>\n      <td>44</td>\n      <td>5</td>\n      <td>0</td>\n      <td>0</td>\n      <td>0</td>\n      <td>97</td>\n      <td>98</td>\n      <td>98</td>\n      <td>98</td>\n      <td>99</td>\n      <td>94</td>\n      <td>0</td>\n      <td>83</td>\n      <td>76</td>\n      <td>73</td>\n      <td>21</td>\n      <td>5</td>\n      <td>0</td>\n      <td>0</td>\n      <td>0</td>\n      <td>4</td>\n      <td>0</td>\n      <td>0</td>\n      <td>0</td>\n      <td>91</td>\n      <td>91</td>\n      <td>91</td>\n      <td>94</td>\n      <td>4480.0</td>\n      <td>13.0</td>\n      <td>803.0</td>\n      <td>1088</td>\n      <td>1096</td>\n      <td>1026</td>\n      <td>1037</td>\n      <td>36175</td>\n      <td>2</td>\n      <td>6</td>\n      <td>2</td>\n      <td>5</td>\n      <td>15</td>\n      <td>14</td>\n      <td>13</td>\n      <td>10</td>\n      <td>33</td>\n      <td>2</td>\n      <td>5</td>\n      <td>2</td>\n      <td>5</td>\n      <td>15</td>\n      <td>14</td>\n      <td>14</td>\n      <td>10</td>\n      <td>32</td>\n      <td>6</td>\n      <td>2</td>\n      <td>66</td>\n      <td>3</td>\n      <td>56</td>\n      <td>44</td>\n      <td>9</td>\n      <td>80</td>\n      <td>14</td>\n      <td>0</td>\n      <td>0</td>\n      <td>0</td>\n      <td>0</td>\n      <td>0</td>\n      <td>0</td>\n      <td>6</td>\n      <td>0</td>\n      <td>2</td>\n      <td>24</td>\n      <td>32</td>\n      <td>12</td>\n      <td>71</td>\n      <td>70</td>\n      <td>83</td>\n      <td>58</td>\n      <td>81</td>\n      <td>57</td>\n      <td>64</td>\n      <td>57</td>\n      <td>99</td>\n      <td>99</td>\n      <td>0</td>\n      <td>22</td>\n      <td>24</td>\n      <td>4</td>\n      <td>21</td>\n      <td>13</td>\n      <td>2</td>\n      <td>1</td>\n      <td>6</td>\n      <td>0</td>\n      <td>4</td>\n      <td>1</td>\n      <td>0</td>\n      <td>3</td>\n      <td>1</td>\n      <td>0</td>\n      <td>6</td>\n      <td>13</td>\n      <td>1</td>\n      <td>2</td>\n      <td>8</td>\n      <td>18</td>\n      <td>11</td>\n      <td>4</td>\n      <td>3</td>\n      <td>4</td>\n      <td>10</td>\n      <td>7</td>\n      <td>11</td>\n      <td>1</td>\n      <td>6</td>\n      <td>2</td>\n      <td>1</td>\n      <td>16</td>\n      <td>69</td>\n      <td>5</td>\n      <td>2</td>\n      <td>160</td>\n      <td>5</td>\n      <td>5</td>\n      <td>12</td>\n      <td>21</td>\n      <td>7</td>\n      <td>30</td>\n      <td>20</td>\n      <td>14</td>\n      <td>24</td>\n      <td>4</td>\n      <td>24</td>\n      <td>10</td>\n      <td>0</td>\n      <td>0</td>\n      <td>0</td>\n      <td>8</td>\n      <td>15</td>\n      <td>0</td>\n      <td>55</td>\n      <td>10</td>\n      <td>11</td>\n      <td>0</td>\n      <td>0</td>\n      <td>2</td>\n      <td>0</td>\n      <td>3</td>\n      <td>1</td>\n      <td>1</td>\n      <td>2</td>\n      <td>3</td>\n      <td>1</td>\n      <td>1</td>\n      <td>0</td>\n      <td>3</td>\n      <td>0</td>\n      <td>0</td>\n      <td>0</td>\n      <td>42</td>\n      <td>39</td>\n      <td>50</td>\n      <td>7</td>\n      <td>27</td>\n      <td>16</td>\n      <td>99</td>\n      <td>92</td>\n      <td>53</td>\n      <td>5</td>\n      <td>10</td>\n      <td>2</td>\n      <td>26</td>\n      <td>56</td>\n      <td>97</td>\n      <td>99</td>\n      <td>0</td>\n      <td>0</td>\n      <td>0</td>\n      <td>96</td>\n      <td>0</td>\n      <td>4</td>\n      <td>0</td>\n      <td>0</td>\n      <td>0</td>\n      <td>99</td>\n      <td>0</td>\n      <td>99</td>\n      <td>99</td>\n      <td>99</td>\n      <td>20</td>\n      <td>4</td>\n      <td>6</td>\n      <td>5</td>\n      <td>12</td>\n      <td>32</td>\n      <td>6</td>\n      <td>13</td>\n      <td>47.0</td>\n      <td>3</td>\n      <td>1</td>\n      <td>10.0</td>\n      <td>25.0</td>\n      <td>25.0</td>\n      <td>18</td>\n      <td>15.666667</td>\n      <td>148535</td>\n      <td>0</td>\n      <td>2</td>\n      <td>1</td>\n      <td>14</td>\n      <td>3</td>\n      <td>1</td>\n      <td>94</td>\n      <td>1</td>\n      <td>52</td>\n      <td>2</td>\n      <td>93</td>\n      <td>10</td>\n      <td>95</td>\n      <td>12</td>\n      <td>95</td>\n      <td>12</td>\n      <td>93</td>\n      <td>10.0</td>\n      <td>0.0</td>\n      <td>1.0</td>\n      <td>0.0</td>\n      <td>0.0</td>\n      <td>0.0</td>\n      <td>0.0</td>\n      <td>0.0</td>\n      <td>0.0</td>\n      <td>0.0</td>\n      <td>0.0</td>\n      <td>0.0</td>\n      <td>0.0</td>\n      <td>0.0</td>\n      <td>0.0</td>\n      <td>0.0</td>\n      <td>1.0</td>\n      <td>0.0</td>\n      <td>1.0</td>\n      <td>0.0</td>\n      <td>0.0</td>\n      <td>0.0</td>\n      <td>1.0</td>\n      <td>1.0</td>\n      <td>0.0</td>\n      <td>0.0</td>\n      <td>0.0</td>\n      <td>0.0</td>\n      <td>0.0</td>\n      <td>1.0</td>\n      <td>0.0</td>\n      <td>0.0</td>\n    </tr>\n    <tr>\n      <th>2</th>\n      <td>1</td>\n      <td>61.611649</td>\n      <td>3</td>\n      <td>1</td>\n      <td>2</td>\n      <td>0</td>\n      <td>20</td>\n      <td>29</td>\n      <td>33</td>\n      <td>6</td>\n      <td>8</td>\n      <td>1</td>\n      <td>1</td>\n      <td>7001</td>\n      <td>2040</td>\n      <td>2669</td>\n      <td>0</td>\n      <td>2</td>\n      <td>98</td>\n      <td>49</td>\n      <td>51</td>\n      <td>96</td>\n      <td>2</td>\n      <td>0</td>\n      <td>0</td>\n      <td>2</td>\n      <td>0</td>\n      <td>0</td>\n      <td>0</td>\n      <td>0</td>\n      <td>0</td>\n      <td>0</td>\n      <td>0</td>\n      <td>2</td>\n      <td>0</td>\n      <td>0</td>\n      <td>0</td>\n      <td>35</td>\n      <td>43</td>\n      <td>46</td>\n      <td>37</td>\n      <td>45</td>\n      <td>49</td>\n      <td>23</td>\n      <td>35</td>\n      <td>40</td>\n      <td>25</td>\n      <td>13</td>\n      <td>20</td>\n      <td>19</td>\n      <td>16</td>\n      <td>13</td>\n      <td>10</td>\n      <td>8</td>\n      <td>15</td>\n      <td>14</td>\n      <td>30</td>\n      <td>22</td>\n      <td>19</td>\n      <td>25</td>\n      <td>10</td>\n      <td>23</td>\n      <td>21</td>\n      <td>35</td>\n      <td>44</td>\n      <td>22</td>\n      <td>6</td>\n      <td>2</td>\n      <td>63</td>\n      <td>9</td>\n      <td>9</td>\n      <td>19</td>\n      <td>183</td>\n      <td>254</td>\n      <td>69</td>\n      <td>69</td>\n      <td>1</td>\n      <td>6</td>\n      <td>5</td>\n      <td>3</td>\n      <td>3</td>\n      <td>3</td>\n      <td>0</td>\n      <td>497</td>\n      <td>546</td>\n      <td>2</td>\n      <td>1</td>\n      <td>78</td>\n      <td>22</td>\n      <td>93</td>\n      <td>7</td>\n      <td>18</td>\n      <td>36</td>\n      <td>76</td>\n      <td>65</td>\n      <td>30</td>\n      <td>86</td>\n      <td>14</td>\n      <td>7</td>\n      <td>2</td>\n      <td>5</td>\n      <td>11</td>\n      <td>17</td>\n      <td>3</td>\n      <td>17</td>\n      <td>60</td>\n      <td>18</td>\n      <td>0</td>\n      <td>1</td>\n      <td>0</td>\n      <td>0</td>\n      <td>1</td>\n      <td>6</td>\n      <td>18</td>\n      <td>50</td>\n      <td>0</td>\n      <td>4</td>\n      <td>36</td>\n      <td>49</td>\n      <td>51</td>\n      <td>14</td>\n      <td>5</td>\n      <td>4</td>\n      <td>2</td>\n      <td>24</td>\n      <td>11</td>\n      <td>2</td>\n      <td>3</td>\n      <td>6</td>\n      <td>0</td>\n      <td>2</td>\n      <td>9</td>\n      <td>44</td>\n      <td>0.0</td>\n      <td>281.0</td>\n      <td>518.0</td>\n      <td>251</td>\n      <td>292</td>\n      <td>292</td>\n      <td>340</td>\n      <td>11576</td>\n      <td>32</td>\n      <td>18</td>\n      <td>20</td>\n      <td>15</td>\n      <td>12</td>\n      <td>2</td>\n      <td>0</td>\n      <td>0</td>\n      <td>1</td>\n      <td>20</td>\n      <td>19</td>\n      <td>24</td>\n      <td>18</td>\n      <td>16</td>\n      <td>2</td>\n      <td>0</td>\n      <td>0</td>\n      <td>1</td>\n      <td>28</td>\n      <td>8</td>\n      <td>31</td>\n      <td>11</td>\n      <td>38</td>\n      <td>62</td>\n      <td>8</td>\n      <td>74</td>\n      <td>22</td>\n      <td>0</td>\n      <td>0</td>\n      <td>0</td>\n      <td>0</td>\n      <td>0</td>\n      <td>2</td>\n      <td>2</td>\n      <td>1</td>\n      <td>21</td>\n      <td>19</td>\n      <td>24</td>\n      <td>6</td>\n      <td>61</td>\n      <td>65</td>\n      <td>73</td>\n      <td>59</td>\n      <td>70</td>\n      <td>56</td>\n      <td>78</td>\n      <td>62</td>\n      <td>82</td>\n      <td>99</td>\n      <td>4</td>\n      <td>10</td>\n      <td>5</td>\n      <td>2</td>\n      <td>6</td>\n      <td>12</td>\n      <td>0</td>\n      <td>1</td>\n      <td>9</td>\n      <td>5</td>\n      <td>18</td>\n      <td>20</td>\n      <td>5</td>\n      <td>7</td>\n      <td>6</td>\n      <td>0</td>\n      <td>11</td>\n      <td>33</td>\n      <td>4</td>\n      <td>3</td>\n      <td>2</td>\n      <td>12</td>\n      <td>3</td>\n      <td>3</td>\n      <td>2</td>\n      <td>0</td>\n      <td>7</td>\n      <td>8</td>\n      <td>3</td>\n      <td>3</td>\n      <td>6</td>\n      <td>7</td>\n      <td>1</td>\n      <td>8</td>\n      <td>74</td>\n      <td>3</td>\n      <td>1</td>\n      <td>120</td>\n      <td>22</td>\n      <td>20</td>\n      <td>28</td>\n      <td>16</td>\n      <td>6</td>\n      <td>5</td>\n      <td>3</td>\n      <td>1</td>\n      <td>23</td>\n      <td>1</td>\n      <td>16</td>\n      <td>6</td>\n      <td>0</td>\n      <td>0</td>\n      <td>0</td>\n      <td>10</td>\n      <td>21</td>\n      <td>0</td>\n      <td>28</td>\n      <td>23</td>\n      <td>32</td>\n      <td>8</td>\n      <td>1</td>\n      <td>14</td>\n      <td>1</td>\n      <td>5</td>\n      <td>0</td>\n      <td>0</td>\n      <td>7</td>\n      <td>0</td>\n      <td>0</td>\n      <td>0</td>\n      <td>0</td>\n      <td>0</td>\n      <td>1</td>\n      <td>0</td>\n      <td>0</td>\n      <td>2</td>\n      <td>84</td>\n      <td>96</td>\n      <td>3</td>\n      <td>0</td>\n      <td>0</td>\n      <td>92</td>\n      <td>65</td>\n      <td>29</td>\n      <td>9</td>\n      <td>22</td>\n      <td>3</td>\n      <td>12</td>\n      <td>23</td>\n      <td>50</td>\n      <td>69</td>\n      <td>31</td>\n      <td>0</td>\n      <td>0</td>\n      <td>0</td>\n      <td>6</td>\n      <td>35</td>\n      <td>44</td>\n      <td>0</td>\n      <td>15</td>\n      <td>22</td>\n      <td>77</td>\n      <td>17</td>\n      <td>97</td>\n      <td>92</td>\n      <td>9</td>\n      <td>2</td>\n      <td>6</td>\n      <td>5</td>\n      <td>26</td>\n      <td>63</td>\n      <td>6</td>\n      <td>14</td>\n      <td>202.0</td>\n      <td>27</td>\n      <td>14</td>\n      <td>2.0</td>\n      <td>16.0</td>\n      <td>5.0</td>\n      <td>12</td>\n      <td>7.481481</td>\n      <td>15078</td>\n      <td>1</td>\n      <td>4</td>\n      <td>60</td>\n      <td>43</td>\n      <td>3</td>\n      <td>2</td>\n      <td>90</td>\n      <td>1</td>\n      <td>0</td>\n      <td>2</td>\n      <td>91</td>\n      <td>11</td>\n      <td>92</td>\n      <td>7</td>\n      <td>95</td>\n      <td>12</td>\n      <td>90</td>\n      <td>1.0</td>\n      <td>0.0</td>\n      <td>0.0</td>\n      <td>0.0</td>\n      <td>0.0</td>\n      <td>0.0</td>\n      <td>0.0</td>\n      <td>0.0</td>\n      <td>0.0</td>\n      <td>1.0</td>\n      <td>0.0</td>\n      <td>0.0</td>\n      <td>0.0</td>\n      <td>0.0</td>\n      <td>1.0</td>\n      <td>0.0</td>\n      <td>1.0</td>\n      <td>0.0</td>\n      <td>1.0</td>\n      <td>0.0</td>\n      <td>1.0</td>\n      <td>0.0</td>\n      <td>0.0</td>\n      <td>0.0</td>\n      <td>0.0</td>\n      <td>1.0</td>\n      <td>0.0</td>\n      <td>0.0</td>\n      <td>1.0</td>\n      <td>0.0</td>\n      <td>0.0</td>\n      <td>0.0</td>\n    </tr>\n  </tbody>\n</table>\n</div>"
     },
     "execution_count": 5,
     "metadata": {},
     "output_type": "execute_result"
    }
   ],
   "source": [
    "# onehot encoding (needed for SMOTE and sci-kit learn's random forest)\n",
    "from sklearn.preprocessing import OneHotEncoder\n",
    "encoder = OneHotEncoder(drop='if_binary').fit(categoricalX) #  drop the first category in each feature to reduce frame size\n",
    "encoded_categorical = pd.DataFrame(encoder.transform(categoricalX).toarray()) # encode\n",
    "X = pd.concat([numericalX, encoded_categorical], axis = 1) # rejoin\n",
    "X.head(3)"
   ],
   "metadata": {
    "collapsed": false
   }
  },
  {
   "cell_type": "code",
   "execution_count": 6,
   "outputs": [],
   "source": [
    "from sklearn.model_selection import train_test_split\n",
    "\n",
    "X_train, X_test, y_train, y_test = train_test_split(X, y, test_size=TT_RATIO, random_state=RAND_STATE)\n",
    "\n",
    "X_train = pd.DataFrame(X_train)\n",
    "X_test = pd.DataFrame(X_test)\n",
    "\n",
    "y_train_regression = X_train['TARGET_D']\n",
    "y_test_regression = X_test['TARGET_D']\n",
    "\n",
    "# Now we can remove the column target d from the set of features\n",
    "X_train = X_train.drop(['TARGET_D'], axis=1)\n",
    "X_test = X_test.drop(['TARGET_D'],   axis=1)"
   ],
   "metadata": {
    "collapsed": false
   }
  },
  {
   "cell_type": "code",
   "execution_count": 7,
   "outputs": [],
   "source": [
    "# again we need to drop the null (we use the same shuffling)\n",
    "na_idx = X_train[X_train.isna().any(axis=1)].index\n",
    "X_train = pd.DataFrame(X_train).drop(na_idx)\n",
    "y_train = pd.DataFrame(y_train).drop(na_idx)"
   ],
   "metadata": {
    "collapsed": false
   }
  },
  {
   "cell_type": "code",
   "execution_count": 8,
   "outputs": [
    {
     "data": {
      "text/plain": "TARGET_B\n0           67903\n1           67903\ndtype: int64"
     },
     "execution_count": 8,
     "metadata": {},
     "output_type": "execute_result"
    }
   ],
   "source": [
    "from imblearn.over_sampling import SMOTE\n",
    "smote = SMOTE()\n",
    "X_train, y_train = smote.fit_resample(X_train, y_train)\n",
    "y_train.value_counts()"
   ],
   "metadata": {
    "collapsed": false
   }
  },
  {
   "cell_type": "code",
   "execution_count": 9,
   "outputs": [],
   "source": [
    "from sklearn.model_selection import GridSearchCV\n",
    "from sklearn.ensemble import RandomForestClassifier\n",
    "\n",
    "param_grid = {\n",
    "    'n_estimators': [50, 100,500],\n",
    "    'min_samples_split': [2, 4],\n",
    "    'min_samples_leaf' : [1, 2],\n",
    "    'max_features': ['sqrt']\n",
    "    ##'max_samples' : ['None', 0.5],\n",
    "    ##'max_depth':[3,5,10],\n",
    "    ## 'bootstrap':[True,False]\n",
    "    }\n",
    "clf = RandomForestClassifier(random_state=RAND_STATE)"
   ],
   "metadata": {
    "collapsed": false
   }
  },
  {
   "cell_type": "code",
   "execution_count": 10,
   "outputs": [],
   "source": [
    "grid_search = GridSearchCV(clf, param_grid, cv=5,return_train_score=True,n_jobs=-1,)"
   ],
   "metadata": {
    "collapsed": false
   }
  },
  {
   "cell_type": "code",
   "execution_count": 11,
   "outputs": [
    {
     "name": "stderr",
     "output_type": "stream",
     "text": [
      "/Users/antares/.pyenv/versions/mambaforge-4.10.1-4/envs/ih_DA_env/lib/python3.9/site-packages/sklearn/utils/validation.py:1858: FutureWarning: Feature names only support names that are all strings. Got feature names with dtypes: ['int', 'str']. An error will be raised in 1.2.\n",
      "  warnings.warn(\n",
      "/Users/antares/.pyenv/versions/mambaforge-4.10.1-4/envs/ih_DA_env/lib/python3.9/site-packages/sklearn/utils/validation.py:1858: FutureWarning: Feature names only support names that are all strings. Got feature names with dtypes: ['int', 'str']. An error will be raised in 1.2.\n",
      "  warnings.warn(\n",
      "/Users/antares/.pyenv/versions/mambaforge-4.10.1-4/envs/ih_DA_env/lib/python3.9/site-packages/sklearn/utils/validation.py:1858: FutureWarning: Feature names only support names that are all strings. Got feature names with dtypes: ['int', 'str']. An error will be raised in 1.2.\n",
      "  warnings.warn(\n",
      "/Users/antares/.pyenv/versions/mambaforge-4.10.1-4/envs/ih_DA_env/lib/python3.9/site-packages/sklearn/utils/validation.py:1858: FutureWarning: Feature names only support names that are all strings. Got feature names with dtypes: ['int', 'str']. An error will be raised in 1.2.\n",
      "  warnings.warn(\n",
      "/Users/antares/.pyenv/versions/mambaforge-4.10.1-4/envs/ih_DA_env/lib/python3.9/site-packages/sklearn/utils/validation.py:1858: FutureWarning: Feature names only support names that are all strings. Got feature names with dtypes: ['int', 'str']. An error will be raised in 1.2.\n",
      "  warnings.warn(\n",
      "/Users/antares/.pyenv/versions/mambaforge-4.10.1-4/envs/ih_DA_env/lib/python3.9/site-packages/sklearn/utils/validation.py:1858: FutureWarning: Feature names only support names that are all strings. Got feature names with dtypes: ['int', 'str']. An error will be raised in 1.2.\n",
      "  warnings.warn(\n",
      "/Users/antares/.pyenv/versions/mambaforge-4.10.1-4/envs/ih_DA_env/lib/python3.9/site-packages/sklearn/utils/validation.py:1858: FutureWarning: Feature names only support names that are all strings. Got feature names with dtypes: ['int', 'str']. An error will be raised in 1.2.\n",
      "  warnings.warn(\n",
      "/Users/antares/.pyenv/versions/mambaforge-4.10.1-4/envs/ih_DA_env/lib/python3.9/site-packages/sklearn/utils/validation.py:1858: FutureWarning: Feature names only support names that are all strings. Got feature names with dtypes: ['int', 'str']. An error will be raised in 1.2.\n",
      "  warnings.warn(\n",
      "/Users/antares/.pyenv/versions/mambaforge-4.10.1-4/envs/ih_DA_env/lib/python3.9/site-packages/sklearn/utils/validation.py:1858: FutureWarning: Feature names only support names that are all strings. Got feature names with dtypes: ['int', 'str']. An error will be raised in 1.2.\n",
      "  warnings.warn(\n",
      "/Users/antares/.pyenv/versions/mambaforge-4.10.1-4/envs/ih_DA_env/lib/python3.9/site-packages/sklearn/utils/validation.py:1858: FutureWarning: Feature names only support names that are all strings. Got feature names with dtypes: ['int', 'str']. An error will be raised in 1.2.\n",
      "  warnings.warn(\n",
      "/Users/antares/.pyenv/versions/mambaforge-4.10.1-4/envs/ih_DA_env/lib/python3.9/site-packages/sklearn/utils/validation.py:1858: FutureWarning: Feature names only support names that are all strings. Got feature names with dtypes: ['int', 'str']. An error will be raised in 1.2.\n",
      "  warnings.warn(\n",
      "/Users/antares/.pyenv/versions/mambaforge-4.10.1-4/envs/ih_DA_env/lib/python3.9/site-packages/sklearn/utils/validation.py:1858: FutureWarning: Feature names only support names that are all strings. Got feature names with dtypes: ['int', 'str']. An error will be raised in 1.2.\n",
      "  warnings.warn(\n",
      "/Users/antares/.pyenv/versions/mambaforge-4.10.1-4/envs/ih_DA_env/lib/python3.9/site-packages/sklearn/utils/validation.py:1858: FutureWarning: Feature names only support names that are all strings. Got feature names with dtypes: ['int', 'str']. An error will be raised in 1.2.\n",
      "  warnings.warn(\n",
      "/Users/antares/.pyenv/versions/mambaforge-4.10.1-4/envs/ih_DA_env/lib/python3.9/site-packages/sklearn/utils/validation.py:1858: FutureWarning: Feature names only support names that are all strings. Got feature names with dtypes: ['int', 'str']. An error will be raised in 1.2.\n",
      "  warnings.warn(\n",
      "/Users/antares/.pyenv/versions/mambaforge-4.10.1-4/envs/ih_DA_env/lib/python3.9/site-packages/sklearn/utils/validation.py:1858: FutureWarning: Feature names only support names that are all strings. Got feature names with dtypes: ['int', 'str']. An error will be raised in 1.2.\n",
      "  warnings.warn(\n",
      "/Users/antares/.pyenv/versions/mambaforge-4.10.1-4/envs/ih_DA_env/lib/python3.9/site-packages/sklearn/utils/validation.py:1858: FutureWarning: Feature names only support names that are all strings. Got feature names with dtypes: ['int', 'str']. An error will be raised in 1.2.\n",
      "  warnings.warn(\n",
      "/Users/antares/.pyenv/versions/mambaforge-4.10.1-4/envs/ih_DA_env/lib/python3.9/site-packages/sklearn/utils/validation.py:1858: FutureWarning: Feature names only support names that are all strings. Got feature names with dtypes: ['int', 'str']. An error will be raised in 1.2.\n",
      "  warnings.warn(\n",
      "/Users/antares/.pyenv/versions/mambaforge-4.10.1-4/envs/ih_DA_env/lib/python3.9/site-packages/sklearn/utils/validation.py:1858: FutureWarning: Feature names only support names that are all strings. Got feature names with dtypes: ['int', 'str']. An error will be raised in 1.2.\n",
      "  warnings.warn(\n",
      "/Users/antares/.pyenv/versions/mambaforge-4.10.1-4/envs/ih_DA_env/lib/python3.9/site-packages/sklearn/utils/validation.py:1858: FutureWarning: Feature names only support names that are all strings. Got feature names with dtypes: ['int', 'str']. An error will be raised in 1.2.\n",
      "  warnings.warn(\n",
      "/Users/antares/.pyenv/versions/mambaforge-4.10.1-4/envs/ih_DA_env/lib/python3.9/site-packages/sklearn/utils/validation.py:1858: FutureWarning: Feature names only support names that are all strings. Got feature names with dtypes: ['int', 'str']. An error will be raised in 1.2.\n",
      "  warnings.warn(\n",
      "/Users/antares/.pyenv/versions/mambaforge-4.10.1-4/envs/ih_DA_env/lib/python3.9/site-packages/sklearn/utils/validation.py:1858: FutureWarning: Feature names only support names that are all strings. Got feature names with dtypes: ['int', 'str']. An error will be raised in 1.2.\n",
      "  warnings.warn(\n",
      "/Users/antares/.pyenv/versions/mambaforge-4.10.1-4/envs/ih_DA_env/lib/python3.9/site-packages/sklearn/utils/validation.py:1858: FutureWarning: Feature names only support names that are all strings. Got feature names with dtypes: ['int', 'str']. An error will be raised in 1.2.\n",
      "  warnings.warn(\n",
      "/Users/antares/.pyenv/versions/mambaforge-4.10.1-4/envs/ih_DA_env/lib/python3.9/site-packages/sklearn/utils/validation.py:1858: FutureWarning: Feature names only support names that are all strings. Got feature names with dtypes: ['int', 'str']. An error will be raised in 1.2.\n",
      "  warnings.warn(\n",
      "/Users/antares/.pyenv/versions/mambaforge-4.10.1-4/envs/ih_DA_env/lib/python3.9/site-packages/sklearn/utils/validation.py:1858: FutureWarning: Feature names only support names that are all strings. Got feature names with dtypes: ['int', 'str']. An error will be raised in 1.2.\n",
      "  warnings.warn(\n",
      "/Users/antares/.pyenv/versions/mambaforge-4.10.1-4/envs/ih_DA_env/lib/python3.9/site-packages/sklearn/utils/validation.py:1858: FutureWarning: Feature names only support names that are all strings. Got feature names with dtypes: ['int', 'str']. An error will be raised in 1.2.\n",
      "  warnings.warn(\n",
      "/Users/antares/.pyenv/versions/mambaforge-4.10.1-4/envs/ih_DA_env/lib/python3.9/site-packages/sklearn/utils/validation.py:1858: FutureWarning: Feature names only support names that are all strings. Got feature names with dtypes: ['int', 'str']. An error will be raised in 1.2.\n",
      "  warnings.warn(\n",
      "/Users/antares/.pyenv/versions/mambaforge-4.10.1-4/envs/ih_DA_env/lib/python3.9/site-packages/sklearn/utils/validation.py:1858: FutureWarning: Feature names only support names that are all strings. Got feature names with dtypes: ['int', 'str']. An error will be raised in 1.2.\n",
      "  warnings.warn(\n",
      "/Users/antares/.pyenv/versions/mambaforge-4.10.1-4/envs/ih_DA_env/lib/python3.9/site-packages/sklearn/utils/validation.py:1858: FutureWarning: Feature names only support names that are all strings. Got feature names with dtypes: ['int', 'str']. An error will be raised in 1.2.\n",
      "  warnings.warn(\n",
      "/Users/antares/.pyenv/versions/mambaforge-4.10.1-4/envs/ih_DA_env/lib/python3.9/site-packages/sklearn/utils/validation.py:1858: FutureWarning: Feature names only support names that are all strings. Got feature names with dtypes: ['int', 'str']. An error will be raised in 1.2.\n",
      "  warnings.warn(\n",
      "/Users/antares/.pyenv/versions/mambaforge-4.10.1-4/envs/ih_DA_env/lib/python3.9/site-packages/sklearn/utils/validation.py:1858: FutureWarning: Feature names only support names that are all strings. Got feature names with dtypes: ['int', 'str']. An error will be raised in 1.2.\n",
      "  warnings.warn(\n",
      "/Users/antares/.pyenv/versions/mambaforge-4.10.1-4/envs/ih_DA_env/lib/python3.9/site-packages/sklearn/utils/validation.py:1858: FutureWarning: Feature names only support names that are all strings. Got feature names with dtypes: ['int', 'str']. An error will be raised in 1.2.\n",
      "  warnings.warn(\n",
      "/Users/antares/.pyenv/versions/mambaforge-4.10.1-4/envs/ih_DA_env/lib/python3.9/site-packages/sklearn/utils/validation.py:1858: FutureWarning: Feature names only support names that are all strings. Got feature names with dtypes: ['int', 'str']. An error will be raised in 1.2.\n",
      "  warnings.warn(\n",
      "/Users/antares/.pyenv/versions/mambaforge-4.10.1-4/envs/ih_DA_env/lib/python3.9/site-packages/sklearn/utils/validation.py:1858: FutureWarning: Feature names only support names that are all strings. Got feature names with dtypes: ['int', 'str']. An error will be raised in 1.2.\n",
      "  warnings.warn(\n",
      "/Users/antares/.pyenv/versions/mambaforge-4.10.1-4/envs/ih_DA_env/lib/python3.9/site-packages/sklearn/utils/validation.py:1858: FutureWarning: Feature names only support names that are all strings. Got feature names with dtypes: ['int', 'str']. An error will be raised in 1.2.\n",
      "  warnings.warn(\n",
      "/Users/antares/.pyenv/versions/mambaforge-4.10.1-4/envs/ih_DA_env/lib/python3.9/site-packages/sklearn/utils/validation.py:1858: FutureWarning: Feature names only support names that are all strings. Got feature names with dtypes: ['int', 'str']. An error will be raised in 1.2.\n",
      "  warnings.warn(\n",
      "/Users/antares/.pyenv/versions/mambaforge-4.10.1-4/envs/ih_DA_env/lib/python3.9/site-packages/sklearn/utils/validation.py:1858: FutureWarning: Feature names only support names that are all strings. Got feature names with dtypes: ['int', 'str']. An error will be raised in 1.2.\n",
      "  warnings.warn(\n",
      "/Users/antares/.pyenv/versions/mambaforge-4.10.1-4/envs/ih_DA_env/lib/python3.9/site-packages/sklearn/utils/validation.py:1858: FutureWarning: Feature names only support names that are all strings. Got feature names with dtypes: ['int', 'str']. An error will be raised in 1.2.\n",
      "  warnings.warn(\n",
      "/Users/antares/.pyenv/versions/mambaforge-4.10.1-4/envs/ih_DA_env/lib/python3.9/site-packages/sklearn/utils/validation.py:1858: FutureWarning: Feature names only support names that are all strings. Got feature names with dtypes: ['int', 'str']. An error will be raised in 1.2.\n",
      "  warnings.warn(\n",
      "/Users/antares/.pyenv/versions/mambaforge-4.10.1-4/envs/ih_DA_env/lib/python3.9/site-packages/sklearn/utils/validation.py:1858: FutureWarning: Feature names only support names that are all strings. Got feature names with dtypes: ['int', 'str']. An error will be raised in 1.2.\n",
      "  warnings.warn(\n",
      "/Users/antares/.pyenv/versions/mambaforge-4.10.1-4/envs/ih_DA_env/lib/python3.9/site-packages/sklearn/utils/validation.py:1858: FutureWarning: Feature names only support names that are all strings. Got feature names with dtypes: ['int', 'str']. An error will be raised in 1.2.\n",
      "  warnings.warn(\n",
      "/Users/antares/.pyenv/versions/mambaforge-4.10.1-4/envs/ih_DA_env/lib/python3.9/site-packages/sklearn/utils/validation.py:1858: FutureWarning: Feature names only support names that are all strings. Got feature names with dtypes: ['int', 'str']. An error will be raised in 1.2.\n",
      "  warnings.warn(\n",
      "/Users/antares/.pyenv/versions/mambaforge-4.10.1-4/envs/ih_DA_env/lib/python3.9/site-packages/sklearn/utils/validation.py:1858: FutureWarning: Feature names only support names that are all strings. Got feature names with dtypes: ['int', 'str']. An error will be raised in 1.2.\n",
      "  warnings.warn(\n",
      "/Users/antares/.pyenv/versions/mambaforge-4.10.1-4/envs/ih_DA_env/lib/python3.9/site-packages/sklearn/utils/validation.py:1858: FutureWarning: Feature names only support names that are all strings. Got feature names with dtypes: ['int', 'str']. An error will be raised in 1.2.\n",
      "  warnings.warn(\n",
      "/Users/antares/.pyenv/versions/mambaforge-4.10.1-4/envs/ih_DA_env/lib/python3.9/site-packages/sklearn/utils/validation.py:1858: FutureWarning: Feature names only support names that are all strings. Got feature names with dtypes: ['int', 'str']. An error will be raised in 1.2.\n",
      "  warnings.warn(\n",
      "/Users/antares/.pyenv/versions/mambaforge-4.10.1-4/envs/ih_DA_env/lib/python3.9/site-packages/sklearn/utils/validation.py:1858: FutureWarning: Feature names only support names that are all strings. Got feature names with dtypes: ['int', 'str']. An error will be raised in 1.2.\n",
      "  warnings.warn(\n",
      "/Users/antares/.pyenv/versions/mambaforge-4.10.1-4/envs/ih_DA_env/lib/python3.9/site-packages/sklearn/utils/validation.py:1858: FutureWarning: Feature names only support names that are all strings. Got feature names with dtypes: ['int', 'str']. An error will be raised in 1.2.\n",
      "  warnings.warn(\n",
      "/Users/antares/.pyenv/versions/mambaforge-4.10.1-4/envs/ih_DA_env/lib/python3.9/site-packages/sklearn/utils/validation.py:1858: FutureWarning: Feature names only support names that are all strings. Got feature names with dtypes: ['int', 'str']. An error will be raised in 1.2.\n",
      "  warnings.warn(\n",
      "/Users/antares/.pyenv/versions/mambaforge-4.10.1-4/envs/ih_DA_env/lib/python3.9/site-packages/sklearn/utils/validation.py:1858: FutureWarning: Feature names only support names that are all strings. Got feature names with dtypes: ['int', 'str']. An error will be raised in 1.2.\n",
      "  warnings.warn(\n",
      "/Users/antares/.pyenv/versions/mambaforge-4.10.1-4/envs/ih_DA_env/lib/python3.9/site-packages/sklearn/utils/validation.py:1858: FutureWarning: Feature names only support names that are all strings. Got feature names with dtypes: ['int', 'str']. An error will be raised in 1.2.\n",
      "  warnings.warn(\n",
      "/Users/antares/.pyenv/versions/mambaforge-4.10.1-4/envs/ih_DA_env/lib/python3.9/site-packages/sklearn/utils/validation.py:1858: FutureWarning: Feature names only support names that are all strings. Got feature names with dtypes: ['int', 'str']. An error will be raised in 1.2.\n",
      "  warnings.warn(\n",
      "/Users/antares/.pyenv/versions/mambaforge-4.10.1-4/envs/ih_DA_env/lib/python3.9/site-packages/sklearn/utils/validation.py:1858: FutureWarning: Feature names only support names that are all strings. Got feature names with dtypes: ['int', 'str']. An error will be raised in 1.2.\n",
      "  warnings.warn(\n",
      "/Users/antares/.pyenv/versions/mambaforge-4.10.1-4/envs/ih_DA_env/lib/python3.9/site-packages/sklearn/utils/validation.py:1858: FutureWarning: Feature names only support names that are all strings. Got feature names with dtypes: ['int', 'str']. An error will be raised in 1.2.\n",
      "  warnings.warn(\n",
      "/Users/antares/.pyenv/versions/mambaforge-4.10.1-4/envs/ih_DA_env/lib/python3.9/site-packages/sklearn/utils/validation.py:1858: FutureWarning: Feature names only support names that are all strings. Got feature names with dtypes: ['int', 'str']. An error will be raised in 1.2.\n",
      "  warnings.warn(\n",
      "/Users/antares/.pyenv/versions/mambaforge-4.10.1-4/envs/ih_DA_env/lib/python3.9/site-packages/sklearn/utils/validation.py:1858: FutureWarning: Feature names only support names that are all strings. Got feature names with dtypes: ['int', 'str']. An error will be raised in 1.2.\n",
      "  warnings.warn(\n",
      "/Users/antares/.pyenv/versions/mambaforge-4.10.1-4/envs/ih_DA_env/lib/python3.9/site-packages/sklearn/utils/validation.py:1858: FutureWarning: Feature names only support names that are all strings. Got feature names with dtypes: ['int', 'str']. An error will be raised in 1.2.\n",
      "  warnings.warn(\n",
      "/Users/antares/.pyenv/versions/mambaforge-4.10.1-4/envs/ih_DA_env/lib/python3.9/site-packages/sklearn/utils/validation.py:1858: FutureWarning: Feature names only support names that are all strings. Got feature names with dtypes: ['int', 'str']. An error will be raised in 1.2.\n",
      "  warnings.warn(\n",
      "/Users/antares/.pyenv/versions/mambaforge-4.10.1-4/envs/ih_DA_env/lib/python3.9/site-packages/sklearn/utils/validation.py:1858: FutureWarning: Feature names only support names that are all strings. Got feature names with dtypes: ['int', 'str']. An error will be raised in 1.2.\n",
      "  warnings.warn(\n",
      "/Users/antares/.pyenv/versions/mambaforge-4.10.1-4/envs/ih_DA_env/lib/python3.9/site-packages/sklearn/utils/validation.py:1858: FutureWarning: Feature names only support names that are all strings. Got feature names with dtypes: ['int', 'str']. An error will be raised in 1.2.\n",
      "  warnings.warn(\n",
      "/Users/antares/.pyenv/versions/mambaforge-4.10.1-4/envs/ih_DA_env/lib/python3.9/site-packages/sklearn/utils/validation.py:1858: FutureWarning: Feature names only support names that are all strings. Got feature names with dtypes: ['int', 'str']. An error will be raised in 1.2.\n",
      "  warnings.warn(\n",
      "/Users/antares/.pyenv/versions/mambaforge-4.10.1-4/envs/ih_DA_env/lib/python3.9/site-packages/sklearn/utils/validation.py:1858: FutureWarning: Feature names only support names that are all strings. Got feature names with dtypes: ['int', 'str']. An error will be raised in 1.2.\n",
      "  warnings.warn(\n",
      "/Users/antares/.pyenv/versions/mambaforge-4.10.1-4/envs/ih_DA_env/lib/python3.9/site-packages/sklearn/utils/validation.py:1858: FutureWarning: Feature names only support names that are all strings. Got feature names with dtypes: ['int', 'str']. An error will be raised in 1.2.\n",
      "  warnings.warn(\n",
      "/Users/antares/.pyenv/versions/mambaforge-4.10.1-4/envs/ih_DA_env/lib/python3.9/site-packages/sklearn/utils/validation.py:1858: FutureWarning: Feature names only support names that are all strings. Got feature names with dtypes: ['int', 'str']. An error will be raised in 1.2.\n",
      "  warnings.warn(\n",
      "/Users/antares/.pyenv/versions/mambaforge-4.10.1-4/envs/ih_DA_env/lib/python3.9/site-packages/sklearn/utils/validation.py:1858: FutureWarning: Feature names only support names that are all strings. Got feature names with dtypes: ['int', 'str']. An error will be raised in 1.2.\n",
      "  warnings.warn(\n",
      "/Users/antares/.pyenv/versions/mambaforge-4.10.1-4/envs/ih_DA_env/lib/python3.9/site-packages/sklearn/utils/validation.py:1858: FutureWarning: Feature names only support names that are all strings. Got feature names with dtypes: ['int', 'str']. An error will be raised in 1.2.\n",
      "  warnings.warn(\n",
      "/Users/antares/.pyenv/versions/mambaforge-4.10.1-4/envs/ih_DA_env/lib/python3.9/site-packages/sklearn/utils/validation.py:1858: FutureWarning: Feature names only support names that are all strings. Got feature names with dtypes: ['int', 'str']. An error will be raised in 1.2.\n",
      "  warnings.warn(\n",
      "/Users/antares/.pyenv/versions/mambaforge-4.10.1-4/envs/ih_DA_env/lib/python3.9/site-packages/sklearn/utils/validation.py:1858: FutureWarning: Feature names only support names that are all strings. Got feature names with dtypes: ['int', 'str']. An error will be raised in 1.2.\n",
      "  warnings.warn(\n",
      "/Users/antares/.pyenv/versions/mambaforge-4.10.1-4/envs/ih_DA_env/lib/python3.9/site-packages/sklearn/utils/validation.py:1858: FutureWarning: Feature names only support names that are all strings. Got feature names with dtypes: ['int', 'str']. An error will be raised in 1.2.\n",
      "  warnings.warn(\n",
      "/Users/antares/.pyenv/versions/mambaforge-4.10.1-4/envs/ih_DA_env/lib/python3.9/site-packages/sklearn/utils/validation.py:1858: FutureWarning: Feature names only support names that are all strings. Got feature names with dtypes: ['int', 'str']. An error will be raised in 1.2.\n",
      "  warnings.warn(\n",
      "/Users/antares/.pyenv/versions/mambaforge-4.10.1-4/envs/ih_DA_env/lib/python3.9/site-packages/sklearn/utils/validation.py:1858: FutureWarning: Feature names only support names that are all strings. Got feature names with dtypes: ['int', 'str']. An error will be raised in 1.2.\n",
      "  warnings.warn(\n",
      "/Users/antares/.pyenv/versions/mambaforge-4.10.1-4/envs/ih_DA_env/lib/python3.9/site-packages/sklearn/utils/validation.py:1858: FutureWarning: Feature names only support names that are all strings. Got feature names with dtypes: ['int', 'str']. An error will be raised in 1.2.\n",
      "  warnings.warn(\n",
      "/Users/antares/.pyenv/versions/mambaforge-4.10.1-4/envs/ih_DA_env/lib/python3.9/site-packages/sklearn/utils/validation.py:1858: FutureWarning: Feature names only support names that are all strings. Got feature names with dtypes: ['int', 'str']. An error will be raised in 1.2.\n",
      "  warnings.warn(\n",
      "/Users/antares/.pyenv/versions/mambaforge-4.10.1-4/envs/ih_DA_env/lib/python3.9/site-packages/sklearn/utils/validation.py:1858: FutureWarning: Feature names only support names that are all strings. Got feature names with dtypes: ['int', 'str']. An error will be raised in 1.2.\n",
      "  warnings.warn(\n",
      "/Users/antares/.pyenv/versions/mambaforge-4.10.1-4/envs/ih_DA_env/lib/python3.9/site-packages/sklearn/utils/validation.py:1858: FutureWarning: Feature names only support names that are all strings. Got feature names with dtypes: ['int', 'str']. An error will be raised in 1.2.\n",
      "  warnings.warn(\n",
      "/Users/antares/.pyenv/versions/mambaforge-4.10.1-4/envs/ih_DA_env/lib/python3.9/site-packages/sklearn/utils/validation.py:1858: FutureWarning: Feature names only support names that are all strings. Got feature names with dtypes: ['int', 'str']. An error will be raised in 1.2.\n",
      "  warnings.warn(\n",
      "/Users/antares/.pyenv/versions/mambaforge-4.10.1-4/envs/ih_DA_env/lib/python3.9/site-packages/sklearn/utils/validation.py:1858: FutureWarning: Feature names only support names that are all strings. Got feature names with dtypes: ['int', 'str']. An error will be raised in 1.2.\n",
      "  warnings.warn(\n",
      "/Users/antares/.pyenv/versions/mambaforge-4.10.1-4/envs/ih_DA_env/lib/python3.9/site-packages/sklearn/utils/validation.py:1858: FutureWarning: Feature names only support names that are all strings. Got feature names with dtypes: ['int', 'str']. An error will be raised in 1.2.\n",
      "  warnings.warn(\n",
      "/Users/antares/.pyenv/versions/mambaforge-4.10.1-4/envs/ih_DA_env/lib/python3.9/site-packages/sklearn/utils/validation.py:1858: FutureWarning: Feature names only support names that are all strings. Got feature names with dtypes: ['int', 'str']. An error will be raised in 1.2.\n",
      "  warnings.warn(\n",
      "/Users/antares/.pyenv/versions/mambaforge-4.10.1-4/envs/ih_DA_env/lib/python3.9/site-packages/sklearn/utils/validation.py:1858: FutureWarning: Feature names only support names that are all strings. Got feature names with dtypes: ['int', 'str']. An error will be raised in 1.2.\n",
      "  warnings.warn(\n",
      "/Users/antares/.pyenv/versions/mambaforge-4.10.1-4/envs/ih_DA_env/lib/python3.9/site-packages/sklearn/utils/validation.py:1858: FutureWarning: Feature names only support names that are all strings. Got feature names with dtypes: ['int', 'str']. An error will be raised in 1.2.\n",
      "  warnings.warn(\n",
      "/Users/antares/.pyenv/versions/mambaforge-4.10.1-4/envs/ih_DA_env/lib/python3.9/site-packages/sklearn/utils/validation.py:1858: FutureWarning: Feature names only support names that are all strings. Got feature names with dtypes: ['int', 'str']. An error will be raised in 1.2.\n",
      "  warnings.warn(\n",
      "/Users/antares/.pyenv/versions/mambaforge-4.10.1-4/envs/ih_DA_env/lib/python3.9/site-packages/sklearn/utils/validation.py:1858: FutureWarning: Feature names only support names that are all strings. Got feature names with dtypes: ['int', 'str']. An error will be raised in 1.2.\n",
      "  warnings.warn(\n",
      "/Users/antares/.pyenv/versions/mambaforge-4.10.1-4/envs/ih_DA_env/lib/python3.9/site-packages/sklearn/utils/validation.py:1858: FutureWarning: Feature names only support names that are all strings. Got feature names with dtypes: ['int', 'str']. An error will be raised in 1.2.\n",
      "  warnings.warn(\n",
      "/Users/antares/.pyenv/versions/mambaforge-4.10.1-4/envs/ih_DA_env/lib/python3.9/site-packages/sklearn/utils/validation.py:1858: FutureWarning: Feature names only support names that are all strings. Got feature names with dtypes: ['int', 'str']. An error will be raised in 1.2.\n",
      "  warnings.warn(\n",
      "/Users/antares/.pyenv/versions/mambaforge-4.10.1-4/envs/ih_DA_env/lib/python3.9/site-packages/sklearn/utils/validation.py:1858: FutureWarning: Feature names only support names that are all strings. Got feature names with dtypes: ['int', 'str']. An error will be raised in 1.2.\n",
      "  warnings.warn(\n",
      "/Users/antares/.pyenv/versions/mambaforge-4.10.1-4/envs/ih_DA_env/lib/python3.9/site-packages/sklearn/utils/validation.py:1858: FutureWarning: Feature names only support names that are all strings. Got feature names with dtypes: ['int', 'str']. An error will be raised in 1.2.\n",
      "  warnings.warn(\n",
      "/Users/antares/.pyenv/versions/mambaforge-4.10.1-4/envs/ih_DA_env/lib/python3.9/site-packages/sklearn/utils/validation.py:1858: FutureWarning: Feature names only support names that are all strings. Got feature names with dtypes: ['int', 'str']. An error will be raised in 1.2.\n",
      "  warnings.warn(\n",
      "/Users/antares/.pyenv/versions/mambaforge-4.10.1-4/envs/ih_DA_env/lib/python3.9/site-packages/sklearn/utils/validation.py:1858: FutureWarning: Feature names only support names that are all strings. Got feature names with dtypes: ['int', 'str']. An error will be raised in 1.2.\n",
      "  warnings.warn(\n",
      "/Users/antares/.pyenv/versions/mambaforge-4.10.1-4/envs/ih_DA_env/lib/python3.9/site-packages/sklearn/utils/validation.py:1858: FutureWarning: Feature names only support names that are all strings. Got feature names with dtypes: ['int', 'str']. An error will be raised in 1.2.\n",
      "  warnings.warn(\n",
      "/Users/antares/.pyenv/versions/mambaforge-4.10.1-4/envs/ih_DA_env/lib/python3.9/site-packages/sklearn/utils/validation.py:1858: FutureWarning: Feature names only support names that are all strings. Got feature names with dtypes: ['int', 'str']. An error will be raised in 1.2.\n",
      "  warnings.warn(\n",
      "/Users/antares/.pyenv/versions/mambaforge-4.10.1-4/envs/ih_DA_env/lib/python3.9/site-packages/sklearn/utils/validation.py:1858: FutureWarning: Feature names only support names that are all strings. Got feature names with dtypes: ['int', 'str']. An error will be raised in 1.2.\n",
      "  warnings.warn(\n",
      "/Users/antares/.pyenv/versions/mambaforge-4.10.1-4/envs/ih_DA_env/lib/python3.9/site-packages/sklearn/utils/validation.py:1858: FutureWarning: Feature names only support names that are all strings. Got feature names with dtypes: ['int', 'str']. An error will be raised in 1.2.\n",
      "  warnings.warn(\n",
      "/Users/antares/.pyenv/versions/mambaforge-4.10.1-4/envs/ih_DA_env/lib/python3.9/site-packages/sklearn/utils/validation.py:1858: FutureWarning: Feature names only support names that are all strings. Got feature names with dtypes: ['int', 'str']. An error will be raised in 1.2.\n",
      "  warnings.warn(\n",
      "/Users/antares/.pyenv/versions/mambaforge-4.10.1-4/envs/ih_DA_env/lib/python3.9/site-packages/sklearn/utils/validation.py:1858: FutureWarning: Feature names only support names that are all strings. Got feature names with dtypes: ['int', 'str']. An error will be raised in 1.2.\n",
      "  warnings.warn(\n",
      "/Users/antares/.pyenv/versions/mambaforge-4.10.1-4/envs/ih_DA_env/lib/python3.9/site-packages/sklearn/utils/validation.py:1858: FutureWarning: Feature names only support names that are all strings. Got feature names with dtypes: ['int', 'str']. An error will be raised in 1.2.\n",
      "  warnings.warn(\n",
      "/Users/antares/.pyenv/versions/mambaforge-4.10.1-4/envs/ih_DA_env/lib/python3.9/site-packages/sklearn/utils/validation.py:1858: FutureWarning: Feature names only support names that are all strings. Got feature names with dtypes: ['int', 'str']. An error will be raised in 1.2.\n",
      "  warnings.warn(\n",
      "/Users/antares/.pyenv/versions/mambaforge-4.10.1-4/envs/ih_DA_env/lib/python3.9/site-packages/sklearn/utils/validation.py:1858: FutureWarning: Feature names only support names that are all strings. Got feature names with dtypes: ['int', 'str']. An error will be raised in 1.2.\n",
      "  warnings.warn(\n",
      "/Users/antares/.pyenv/versions/mambaforge-4.10.1-4/envs/ih_DA_env/lib/python3.9/site-packages/sklearn/utils/validation.py:1858: FutureWarning: Feature names only support names that are all strings. Got feature names with dtypes: ['int', 'str']. An error will be raised in 1.2.\n",
      "  warnings.warn(\n",
      "/Users/antares/.pyenv/versions/mambaforge-4.10.1-4/envs/ih_DA_env/lib/python3.9/site-packages/sklearn/utils/validation.py:1858: FutureWarning: Feature names only support names that are all strings. Got feature names with dtypes: ['int', 'str']. An error will be raised in 1.2.\n",
      "  warnings.warn(\n",
      "/Users/antares/.pyenv/versions/mambaforge-4.10.1-4/envs/ih_DA_env/lib/python3.9/site-packages/sklearn/utils/validation.py:1858: FutureWarning: Feature names only support names that are all strings. Got feature names with dtypes: ['int', 'str']. An error will be raised in 1.2.\n",
      "  warnings.warn(\n",
      "/Users/antares/.pyenv/versions/mambaforge-4.10.1-4/envs/ih_DA_env/lib/python3.9/site-packages/sklearn/utils/validation.py:1858: FutureWarning: Feature names only support names that are all strings. Got feature names with dtypes: ['int', 'str']. An error will be raised in 1.2.\n",
      "  warnings.warn(\n",
      "/Users/antares/.pyenv/versions/mambaforge-4.10.1-4/envs/ih_DA_env/lib/python3.9/site-packages/sklearn/utils/validation.py:1858: FutureWarning: Feature names only support names that are all strings. Got feature names with dtypes: ['int', 'str']. An error will be raised in 1.2.\n",
      "  warnings.warn(\n",
      "/Users/antares/.pyenv/versions/mambaforge-4.10.1-4/envs/ih_DA_env/lib/python3.9/site-packages/sklearn/utils/validation.py:1858: FutureWarning: Feature names only support names that are all strings. Got feature names with dtypes: ['int', 'str']. An error will be raised in 1.2.\n",
      "  warnings.warn(\n",
      "/Users/antares/.pyenv/versions/mambaforge-4.10.1-4/envs/ih_DA_env/lib/python3.9/site-packages/sklearn/utils/validation.py:1858: FutureWarning: Feature names only support names that are all strings. Got feature names with dtypes: ['int', 'str']. An error will be raised in 1.2.\n",
      "  warnings.warn(\n",
      "/Users/antares/.pyenv/versions/mambaforge-4.10.1-4/envs/ih_DA_env/lib/python3.9/site-packages/sklearn/utils/validation.py:1858: FutureWarning: Feature names only support names that are all strings. Got feature names with dtypes: ['int', 'str']. An error will be raised in 1.2.\n",
      "  warnings.warn(\n",
      "/Users/antares/.pyenv/versions/mambaforge-4.10.1-4/envs/ih_DA_env/lib/python3.9/site-packages/sklearn/utils/validation.py:1858: FutureWarning: Feature names only support names that are all strings. Got feature names with dtypes: ['int', 'str']. An error will be raised in 1.2.\n",
      "  warnings.warn(\n",
      "/Users/antares/.pyenv/versions/mambaforge-4.10.1-4/envs/ih_DA_env/lib/python3.9/site-packages/sklearn/utils/validation.py:1858: FutureWarning: Feature names only support names that are all strings. Got feature names with dtypes: ['int', 'str']. An error will be raised in 1.2.\n",
      "  warnings.warn(\n",
      "/Users/antares/.pyenv/versions/mambaforge-4.10.1-4/envs/ih_DA_env/lib/python3.9/site-packages/sklearn/utils/validation.py:1858: FutureWarning: Feature names only support names that are all strings. Got feature names with dtypes: ['int', 'str']. An error will be raised in 1.2.\n",
      "  warnings.warn(\n",
      "/Users/antares/.pyenv/versions/mambaforge-4.10.1-4/envs/ih_DA_env/lib/python3.9/site-packages/sklearn/utils/validation.py:1858: FutureWarning: Feature names only support names that are all strings. Got feature names with dtypes: ['int', 'str']. An error will be raised in 1.2.\n",
      "  warnings.warn(\n",
      "/Users/antares/.pyenv/versions/mambaforge-4.10.1-4/envs/ih_DA_env/lib/python3.9/site-packages/sklearn/utils/validation.py:1858: FutureWarning: Feature names only support names that are all strings. Got feature names with dtypes: ['int', 'str']. An error will be raised in 1.2.\n",
      "  warnings.warn(\n",
      "/Users/antares/.pyenv/versions/mambaforge-4.10.1-4/envs/ih_DA_env/lib/python3.9/site-packages/sklearn/utils/validation.py:1858: FutureWarning: Feature names only support names that are all strings. Got feature names with dtypes: ['int', 'str']. An error will be raised in 1.2.\n",
      "  warnings.warn(\n",
      "/Users/antares/.pyenv/versions/mambaforge-4.10.1-4/envs/ih_DA_env/lib/python3.9/site-packages/sklearn/utils/validation.py:1858: FutureWarning: Feature names only support names that are all strings. Got feature names with dtypes: ['int', 'str']. An error will be raised in 1.2.\n",
      "  warnings.warn(\n",
      "/Users/antares/.pyenv/versions/mambaforge-4.10.1-4/envs/ih_DA_env/lib/python3.9/site-packages/sklearn/utils/validation.py:1858: FutureWarning: Feature names only support names that are all strings. Got feature names with dtypes: ['int', 'str']. An error will be raised in 1.2.\n",
      "  warnings.warn(\n",
      "/Users/antares/.pyenv/versions/mambaforge-4.10.1-4/envs/ih_DA_env/lib/python3.9/site-packages/sklearn/utils/validation.py:1858: FutureWarning: Feature names only support names that are all strings. Got feature names with dtypes: ['int', 'str']. An error will be raised in 1.2.\n",
      "  warnings.warn(\n",
      "/Users/antares/.pyenv/versions/mambaforge-4.10.1-4/envs/ih_DA_env/lib/python3.9/site-packages/sklearn/utils/validation.py:1858: FutureWarning: Feature names only support names that are all strings. Got feature names with dtypes: ['int', 'str']. An error will be raised in 1.2.\n",
      "  warnings.warn(\n",
      "/Users/antares/.pyenv/versions/mambaforge-4.10.1-4/envs/ih_DA_env/lib/python3.9/site-packages/sklearn/utils/validation.py:1858: FutureWarning: Feature names only support names that are all strings. Got feature names with dtypes: ['int', 'str']. An error will be raised in 1.2.\n",
      "  warnings.warn(\n",
      "/Users/antares/.pyenv/versions/mambaforge-4.10.1-4/envs/ih_DA_env/lib/python3.9/site-packages/sklearn/utils/validation.py:1858: FutureWarning: Feature names only support names that are all strings. Got feature names with dtypes: ['int', 'str']. An error will be raised in 1.2.\n",
      "  warnings.warn(\n",
      "/Users/antares/.pyenv/versions/mambaforge-4.10.1-4/envs/ih_DA_env/lib/python3.9/site-packages/sklearn/utils/validation.py:1858: FutureWarning: Feature names only support names that are all strings. Got feature names with dtypes: ['int', 'str']. An error will be raised in 1.2.\n",
      "  warnings.warn(\n",
      "/Users/antares/.pyenv/versions/mambaforge-4.10.1-4/envs/ih_DA_env/lib/python3.9/site-packages/sklearn/utils/validation.py:1858: FutureWarning: Feature names only support names that are all strings. Got feature names with dtypes: ['int', 'str']. An error will be raised in 1.2.\n",
      "  warnings.warn(\n",
      "/Users/antares/.pyenv/versions/mambaforge-4.10.1-4/envs/ih_DA_env/lib/python3.9/site-packages/sklearn/utils/validation.py:1858: FutureWarning: Feature names only support names that are all strings. Got feature names with dtypes: ['int', 'str']. An error will be raised in 1.2.\n",
      "  warnings.warn(\n",
      "/Users/antares/.pyenv/versions/mambaforge-4.10.1-4/envs/ih_DA_env/lib/python3.9/site-packages/sklearn/utils/validation.py:1858: FutureWarning: Feature names only support names that are all strings. Got feature names with dtypes: ['int', 'str']. An error will be raised in 1.2.\n",
      "  warnings.warn(\n",
      "/Users/antares/.pyenv/versions/mambaforge-4.10.1-4/envs/ih_DA_env/lib/python3.9/site-packages/sklearn/utils/validation.py:1858: FutureWarning: Feature names only support names that are all strings. Got feature names with dtypes: ['int', 'str']. An error will be raised in 1.2.\n",
      "  warnings.warn(\n",
      "/Users/antares/.pyenv/versions/mambaforge-4.10.1-4/envs/ih_DA_env/lib/python3.9/site-packages/sklearn/utils/validation.py:1858: FutureWarning: Feature names only support names that are all strings. Got feature names with dtypes: ['int', 'str']. An error will be raised in 1.2.\n",
      "  warnings.warn(\n",
      "/Users/antares/.pyenv/versions/mambaforge-4.10.1-4/envs/ih_DA_env/lib/python3.9/site-packages/sklearn/utils/validation.py:1858: FutureWarning: Feature names only support names that are all strings. Got feature names with dtypes: ['int', 'str']. An error will be raised in 1.2.\n",
      "  warnings.warn(\n",
      "/Users/antares/.pyenv/versions/mambaforge-4.10.1-4/envs/ih_DA_env/lib/python3.9/site-packages/sklearn/utils/validation.py:1858: FutureWarning: Feature names only support names that are all strings. Got feature names with dtypes: ['int', 'str']. An error will be raised in 1.2.\n",
      "  warnings.warn(\n",
      "/Users/antares/.pyenv/versions/mambaforge-4.10.1-4/envs/ih_DA_env/lib/python3.9/site-packages/sklearn/utils/validation.py:1858: FutureWarning: Feature names only support names that are all strings. Got feature names with dtypes: ['int', 'str']. An error will be raised in 1.2.\n",
      "  warnings.warn(\n",
      "/Users/antares/.pyenv/versions/mambaforge-4.10.1-4/envs/ih_DA_env/lib/python3.9/site-packages/sklearn/utils/validation.py:1858: FutureWarning: Feature names only support names that are all strings. Got feature names with dtypes: ['int', 'str']. An error will be raised in 1.2.\n",
      "  warnings.warn(\n",
      "/Users/antares/.pyenv/versions/mambaforge-4.10.1-4/envs/ih_DA_env/lib/python3.9/site-packages/sklearn/utils/validation.py:1858: FutureWarning: Feature names only support names that are all strings. Got feature names with dtypes: ['int', 'str']. An error will be raised in 1.2.\n",
      "  warnings.warn(\n",
      "/Users/antares/.pyenv/versions/mambaforge-4.10.1-4/envs/ih_DA_env/lib/python3.9/site-packages/sklearn/utils/validation.py:1858: FutureWarning: Feature names only support names that are all strings. Got feature names with dtypes: ['int', 'str']. An error will be raised in 1.2.\n",
      "  warnings.warn(\n",
      "/Users/antares/.pyenv/versions/mambaforge-4.10.1-4/envs/ih_DA_env/lib/python3.9/site-packages/sklearn/utils/validation.py:1858: FutureWarning: Feature names only support names that are all strings. Got feature names with dtypes: ['int', 'str']. An error will be raised in 1.2.\n",
      "  warnings.warn(\n",
      "/Users/antares/.pyenv/versions/mambaforge-4.10.1-4/envs/ih_DA_env/lib/python3.9/site-packages/sklearn/utils/validation.py:1858: FutureWarning: Feature names only support names that are all strings. Got feature names with dtypes: ['int', 'str']. An error will be raised in 1.2.\n",
      "  warnings.warn(\n",
      "/Users/antares/.pyenv/versions/mambaforge-4.10.1-4/envs/ih_DA_env/lib/python3.9/site-packages/sklearn/utils/validation.py:1858: FutureWarning: Feature names only support names that are all strings. Got feature names with dtypes: ['int', 'str']. An error will be raised in 1.2.\n",
      "  warnings.warn(\n",
      "/Users/antares/.pyenv/versions/mambaforge-4.10.1-4/envs/ih_DA_env/lib/python3.9/site-packages/sklearn/utils/validation.py:1858: FutureWarning: Feature names only support names that are all strings. Got feature names with dtypes: ['int', 'str']. An error will be raised in 1.2.\n",
      "  warnings.warn(\n",
      "/Users/antares/.pyenv/versions/mambaforge-4.10.1-4/envs/ih_DA_env/lib/python3.9/site-packages/sklearn/utils/validation.py:1858: FutureWarning: Feature names only support names that are all strings. Got feature names with dtypes: ['int', 'str']. An error will be raised in 1.2.\n",
      "  warnings.warn(\n",
      "/Users/antares/.pyenv/versions/mambaforge-4.10.1-4/envs/ih_DA_env/lib/python3.9/site-packages/sklearn/utils/validation.py:1858: FutureWarning: Feature names only support names that are all strings. Got feature names with dtypes: ['int', 'str']. An error will be raised in 1.2.\n",
      "  warnings.warn(\n",
      "/Users/antares/.pyenv/versions/mambaforge-4.10.1-4/envs/ih_DA_env/lib/python3.9/site-packages/sklearn/utils/validation.py:1858: FutureWarning: Feature names only support names that are all strings. Got feature names with dtypes: ['int', 'str']. An error will be raised in 1.2.\n",
      "  warnings.warn(\n",
      "/Users/antares/.pyenv/versions/mambaforge-4.10.1-4/envs/ih_DA_env/lib/python3.9/site-packages/sklearn/utils/validation.py:1858: FutureWarning: Feature names only support names that are all strings. Got feature names with dtypes: ['int', 'str']. An error will be raised in 1.2.\n",
      "  warnings.warn(\n",
      "/Users/antares/.pyenv/versions/mambaforge-4.10.1-4/envs/ih_DA_env/lib/python3.9/site-packages/sklearn/utils/validation.py:1858: FutureWarning: Feature names only support names that are all strings. Got feature names with dtypes: ['int', 'str']. An error will be raised in 1.2.\n",
      "  warnings.warn(\n",
      "/Users/antares/.pyenv/versions/mambaforge-4.10.1-4/envs/ih_DA_env/lib/python3.9/site-packages/sklearn/utils/validation.py:1858: FutureWarning: Feature names only support names that are all strings. Got feature names with dtypes: ['int', 'str']. An error will be raised in 1.2.\n",
      "  warnings.warn(\n",
      "/Users/antares/.pyenv/versions/mambaforge-4.10.1-4/envs/ih_DA_env/lib/python3.9/site-packages/sklearn/utils/validation.py:1858: FutureWarning: Feature names only support names that are all strings. Got feature names with dtypes: ['int', 'str']. An error will be raised in 1.2.\n",
      "  warnings.warn(\n",
      "/Users/antares/.pyenv/versions/mambaforge-4.10.1-4/envs/ih_DA_env/lib/python3.9/site-packages/sklearn/utils/validation.py:1858: FutureWarning: Feature names only support names that are all strings. Got feature names with dtypes: ['int', 'str']. An error will be raised in 1.2.\n",
      "  warnings.warn(\n",
      "/Users/antares/.pyenv/versions/mambaforge-4.10.1-4/envs/ih_DA_env/lib/python3.9/site-packages/sklearn/utils/validation.py:1858: FutureWarning: Feature names only support names that are all strings. Got feature names with dtypes: ['int', 'str']. An error will be raised in 1.2.\n",
      "  warnings.warn(\n",
      "/Users/antares/.pyenv/versions/mambaforge-4.10.1-4/envs/ih_DA_env/lib/python3.9/site-packages/sklearn/utils/validation.py:1858: FutureWarning: Feature names only support names that are all strings. Got feature names with dtypes: ['int', 'str']. An error will be raised in 1.2.\n",
      "  warnings.warn(\n",
      "/Users/antares/.pyenv/versions/mambaforge-4.10.1-4/envs/ih_DA_env/lib/python3.9/site-packages/sklearn/utils/validation.py:1858: FutureWarning: Feature names only support names that are all strings. Got feature names with dtypes: ['int', 'str']. An error will be raised in 1.2.\n",
      "  warnings.warn(\n",
      "/Users/antares/.pyenv/versions/mambaforge-4.10.1-4/envs/ih_DA_env/lib/python3.9/site-packages/sklearn/utils/validation.py:1858: FutureWarning: Feature names only support names that are all strings. Got feature names with dtypes: ['int', 'str']. An error will be raised in 1.2.\n",
      "  warnings.warn(\n",
      "/Users/antares/.pyenv/versions/mambaforge-4.10.1-4/envs/ih_DA_env/lib/python3.9/site-packages/sklearn/utils/validation.py:1858: FutureWarning: Feature names only support names that are all strings. Got feature names with dtypes: ['int', 'str']. An error will be raised in 1.2.\n",
      "  warnings.warn(\n",
      "/Users/antares/.pyenv/versions/mambaforge-4.10.1-4/envs/ih_DA_env/lib/python3.9/site-packages/sklearn/utils/validation.py:1858: FutureWarning: Feature names only support names that are all strings. Got feature names with dtypes: ['int', 'str']. An error will be raised in 1.2.\n",
      "  warnings.warn(\n",
      "/Users/antares/.pyenv/versions/mambaforge-4.10.1-4/envs/ih_DA_env/lib/python3.9/site-packages/sklearn/utils/validation.py:1858: FutureWarning: Feature names only support names that are all strings. Got feature names with dtypes: ['int', 'str']. An error will be raised in 1.2.\n",
      "  warnings.warn(\n",
      "/Users/antares/.pyenv/versions/mambaforge-4.10.1-4/envs/ih_DA_env/lib/python3.9/site-packages/sklearn/utils/validation.py:1858: FutureWarning: Feature names only support names that are all strings. Got feature names with dtypes: ['int', 'str']. An error will be raised in 1.2.\n",
      "  warnings.warn(\n",
      "/Users/antares/.pyenv/versions/mambaforge-4.10.1-4/envs/ih_DA_env/lib/python3.9/site-packages/sklearn/utils/validation.py:1858: FutureWarning: Feature names only support names that are all strings. Got feature names with dtypes: ['int', 'str']. An error will be raised in 1.2.\n",
      "  warnings.warn(\n",
      "/Users/antares/.pyenv/versions/mambaforge-4.10.1-4/envs/ih_DA_env/lib/python3.9/site-packages/sklearn/utils/validation.py:1858: FutureWarning: Feature names only support names that are all strings. Got feature names with dtypes: ['int', 'str']. An error will be raised in 1.2.\n",
      "  warnings.warn(\n",
      "/Users/antares/.pyenv/versions/mambaforge-4.10.1-4/envs/ih_DA_env/lib/python3.9/site-packages/sklearn/utils/validation.py:1858: FutureWarning: Feature names only support names that are all strings. Got feature names with dtypes: ['int', 'str']. An error will be raised in 1.2.\n",
      "  warnings.warn(\n",
      "/Users/antares/.pyenv/versions/mambaforge-4.10.1-4/envs/ih_DA_env/lib/python3.9/site-packages/sklearn/utils/validation.py:1858: FutureWarning: Feature names only support names that are all strings. Got feature names with dtypes: ['int', 'str']. An error will be raised in 1.2.\n",
      "  warnings.warn(\n",
      "/Users/antares/.pyenv/versions/mambaforge-4.10.1-4/envs/ih_DA_env/lib/python3.9/site-packages/sklearn/utils/validation.py:1858: FutureWarning: Feature names only support names that are all strings. Got feature names with dtypes: ['int', 'str']. An error will be raised in 1.2.\n",
      "  warnings.warn(\n",
      "/Users/antares/.pyenv/versions/mambaforge-4.10.1-4/envs/ih_DA_env/lib/python3.9/site-packages/sklearn/utils/validation.py:1858: FutureWarning: Feature names only support names that are all strings. Got feature names with dtypes: ['int', 'str']. An error will be raised in 1.2.\n",
      "  warnings.warn(\n",
      "/Users/antares/.pyenv/versions/mambaforge-4.10.1-4/envs/ih_DA_env/lib/python3.9/site-packages/sklearn/utils/validation.py:1858: FutureWarning: Feature names only support names that are all strings. Got feature names with dtypes: ['int', 'str']. An error will be raised in 1.2.\n",
      "  warnings.warn(\n",
      "/Users/antares/.pyenv/versions/mambaforge-4.10.1-4/envs/ih_DA_env/lib/python3.9/site-packages/sklearn/utils/validation.py:1858: FutureWarning: Feature names only support names that are all strings. Got feature names with dtypes: ['int', 'str']. An error will be raised in 1.2.\n",
      "  warnings.warn(\n",
      "/Users/antares/.pyenv/versions/mambaforge-4.10.1-4/envs/ih_DA_env/lib/python3.9/site-packages/sklearn/utils/validation.py:1858: FutureWarning: Feature names only support names that are all strings. Got feature names with dtypes: ['int', 'str']. An error will be raised in 1.2.\n",
      "  warnings.warn(\n",
      "/Users/antares/.pyenv/versions/mambaforge-4.10.1-4/envs/ih_DA_env/lib/python3.9/site-packages/sklearn/utils/validation.py:1858: FutureWarning: Feature names only support names that are all strings. Got feature names with dtypes: ['int', 'str']. An error will be raised in 1.2.\n",
      "  warnings.warn(\n",
      "/Users/antares/.pyenv/versions/mambaforge-4.10.1-4/envs/ih_DA_env/lib/python3.9/site-packages/sklearn/utils/validation.py:1858: FutureWarning: Feature names only support names that are all strings. Got feature names with dtypes: ['int', 'str']. An error will be raised in 1.2.\n",
      "  warnings.warn(\n",
      "/Users/antares/.pyenv/versions/mambaforge-4.10.1-4/envs/ih_DA_env/lib/python3.9/site-packages/sklearn/utils/validation.py:1858: FutureWarning: Feature names only support names that are all strings. Got feature names with dtypes: ['int', 'str']. An error will be raised in 1.2.\n",
      "  warnings.warn(\n",
      "/Users/antares/.pyenv/versions/mambaforge-4.10.1-4/envs/ih_DA_env/lib/python3.9/site-packages/sklearn/utils/validation.py:1858: FutureWarning: Feature names only support names that are all strings. Got feature names with dtypes: ['int', 'str']. An error will be raised in 1.2.\n",
      "  warnings.warn(\n",
      "/Users/antares/.pyenv/versions/mambaforge-4.10.1-4/envs/ih_DA_env/lib/python3.9/site-packages/sklearn/utils/validation.py:1858: FutureWarning: Feature names only support names that are all strings. Got feature names with dtypes: ['int', 'str']. An error will be raised in 1.2.\n",
      "  warnings.warn(\n",
      "/Users/antares/.pyenv/versions/mambaforge-4.10.1-4/envs/ih_DA_env/lib/python3.9/site-packages/sklearn/utils/validation.py:1858: FutureWarning: Feature names only support names that are all strings. Got feature names with dtypes: ['int', 'str']. An error will be raised in 1.2.\n",
      "  warnings.warn(\n",
      "/Users/antares/.pyenv/versions/mambaforge-4.10.1-4/envs/ih_DA_env/lib/python3.9/site-packages/sklearn/utils/validation.py:1858: FutureWarning: Feature names only support names that are all strings. Got feature names with dtypes: ['int', 'str']. An error will be raised in 1.2.\n",
      "  warnings.warn(\n",
      "/Users/antares/.pyenv/versions/mambaforge-4.10.1-4/envs/ih_DA_env/lib/python3.9/site-packages/sklearn/utils/validation.py:1858: FutureWarning: Feature names only support names that are all strings. Got feature names with dtypes: ['int', 'str']. An error will be raised in 1.2.\n",
      "  warnings.warn(\n",
      "/Users/antares/.pyenv/versions/mambaforge-4.10.1-4/envs/ih_DA_env/lib/python3.9/site-packages/sklearn/utils/validation.py:1858: FutureWarning: Feature names only support names that are all strings. Got feature names with dtypes: ['int', 'str']. An error will be raised in 1.2.\n",
      "  warnings.warn(\n",
      "/Users/antares/.pyenv/versions/mambaforge-4.10.1-4/envs/ih_DA_env/lib/python3.9/site-packages/sklearn/utils/validation.py:1858: FutureWarning: Feature names only support names that are all strings. Got feature names with dtypes: ['int', 'str']. An error will be raised in 1.2.\n",
      "  warnings.warn(\n",
      "/Users/antares/.pyenv/versions/mambaforge-4.10.1-4/envs/ih_DA_env/lib/python3.9/site-packages/sklearn/utils/validation.py:1858: FutureWarning: Feature names only support names that are all strings. Got feature names with dtypes: ['int', 'str']. An error will be raised in 1.2.\n",
      "  warnings.warn(\n",
      "/Users/antares/.pyenv/versions/mambaforge-4.10.1-4/envs/ih_DA_env/lib/python3.9/site-packages/sklearn/utils/validation.py:1858: FutureWarning: Feature names only support names that are all strings. Got feature names with dtypes: ['int', 'str']. An error will be raised in 1.2.\n",
      "  warnings.warn(\n",
      "/Users/antares/.pyenv/versions/mambaforge-4.10.1-4/envs/ih_DA_env/lib/python3.9/site-packages/sklearn/utils/validation.py:1858: FutureWarning: Feature names only support names that are all strings. Got feature names with dtypes: ['int', 'str']. An error will be raised in 1.2.\n",
      "  warnings.warn(\n",
      "/Users/antares/.pyenv/versions/mambaforge-4.10.1-4/envs/ih_DA_env/lib/python3.9/site-packages/sklearn/utils/validation.py:1858: FutureWarning: Feature names only support names that are all strings. Got feature names with dtypes: ['int', 'str']. An error will be raised in 1.2.\n",
      "  warnings.warn(\n",
      "/Users/antares/.pyenv/versions/mambaforge-4.10.1-4/envs/ih_DA_env/lib/python3.9/site-packages/sklearn/utils/validation.py:1858: FutureWarning: Feature names only support names that are all strings. Got feature names with dtypes: ['int', 'str']. An error will be raised in 1.2.\n",
      "  warnings.warn(\n",
      "/Users/antares/.pyenv/versions/mambaforge-4.10.1-4/envs/ih_DA_env/lib/python3.9/site-packages/sklearn/utils/validation.py:1858: FutureWarning: Feature names only support names that are all strings. Got feature names with dtypes: ['int', 'str']. An error will be raised in 1.2.\n",
      "  warnings.warn(\n",
      "/Users/antares/.pyenv/versions/mambaforge-4.10.1-4/envs/ih_DA_env/lib/python3.9/site-packages/sklearn/utils/validation.py:1858: FutureWarning: Feature names only support names that are all strings. Got feature names with dtypes: ['int', 'str']. An error will be raised in 1.2.\n",
      "  warnings.warn(\n",
      "/Users/antares/.pyenv/versions/mambaforge-4.10.1-4/envs/ih_DA_env/lib/python3.9/site-packages/sklearn/utils/validation.py:1858: FutureWarning: Feature names only support names that are all strings. Got feature names with dtypes: ['int', 'str']. An error will be raised in 1.2.\n",
      "  warnings.warn(\n",
      "/Users/antares/.pyenv/versions/mambaforge-4.10.1-4/envs/ih_DA_env/lib/python3.9/site-packages/sklearn/utils/validation.py:1858: FutureWarning: Feature names only support names that are all strings. Got feature names with dtypes: ['int', 'str']. An error will be raised in 1.2.\n",
      "  warnings.warn(\n",
      "/Users/antares/.pyenv/versions/mambaforge-4.10.1-4/envs/ih_DA_env/lib/python3.9/site-packages/sklearn/utils/validation.py:1858: FutureWarning: Feature names only support names that are all strings. Got feature names with dtypes: ['int', 'str']. An error will be raised in 1.2.\n",
      "  warnings.warn(\n",
      "/Users/antares/.pyenv/versions/mambaforge-4.10.1-4/envs/ih_DA_env/lib/python3.9/site-packages/sklearn/utils/validation.py:1858: FutureWarning: Feature names only support names that are all strings. Got feature names with dtypes: ['int', 'str']. An error will be raised in 1.2.\n",
      "  warnings.warn(\n",
      "/Users/antares/.pyenv/versions/mambaforge-4.10.1-4/envs/ih_DA_env/lib/python3.9/site-packages/sklearn/utils/validation.py:1858: FutureWarning: Feature names only support names that are all strings. Got feature names with dtypes: ['int', 'str']. An error will be raised in 1.2.\n",
      "  warnings.warn(\n",
      "/Users/antares/.pyenv/versions/mambaforge-4.10.1-4/envs/ih_DA_env/lib/python3.9/site-packages/sklearn/utils/validation.py:1858: FutureWarning: Feature names only support names that are all strings. Got feature names with dtypes: ['int', 'str']. An error will be raised in 1.2.\n",
      "  warnings.warn(\n"
     ]
    },
    {
     "data": {
      "text/plain": "GridSearchCV(cv=5, estimator=RandomForestClassifier(random_state=42), n_jobs=-1,\n             param_grid={'max_features': ['sqrt'], 'min_samples_leaf': [1, 2],\n                         'min_samples_split': [2, 4],\n                         'n_estimators': [50, 100, 500]},\n             return_train_score=True)",
      "text/html": "<style>#sk-container-id-1 {color: black;background-color: white;}#sk-container-id-1 pre{padding: 0;}#sk-container-id-1 div.sk-toggleable {background-color: white;}#sk-container-id-1 label.sk-toggleable__label {cursor: pointer;display: block;width: 100%;margin-bottom: 0;padding: 0.3em;box-sizing: border-box;text-align: center;}#sk-container-id-1 label.sk-toggleable__label-arrow:before {content: \"▸\";float: left;margin-right: 0.25em;color: #696969;}#sk-container-id-1 label.sk-toggleable__label-arrow:hover:before {color: black;}#sk-container-id-1 div.sk-estimator:hover label.sk-toggleable__label-arrow:before {color: black;}#sk-container-id-1 div.sk-toggleable__content {max-height: 0;max-width: 0;overflow: hidden;text-align: left;background-color: #f0f8ff;}#sk-container-id-1 div.sk-toggleable__content pre {margin: 0.2em;color: black;border-radius: 0.25em;background-color: #f0f8ff;}#sk-container-id-1 input.sk-toggleable__control:checked~div.sk-toggleable__content {max-height: 200px;max-width: 100%;overflow: auto;}#sk-container-id-1 input.sk-toggleable__control:checked~label.sk-toggleable__label-arrow:before {content: \"▾\";}#sk-container-id-1 div.sk-estimator input.sk-toggleable__control:checked~label.sk-toggleable__label {background-color: #d4ebff;}#sk-container-id-1 div.sk-label input.sk-toggleable__control:checked~label.sk-toggleable__label {background-color: #d4ebff;}#sk-container-id-1 input.sk-hidden--visually {border: 0;clip: rect(1px 1px 1px 1px);clip: rect(1px, 1px, 1px, 1px);height: 1px;margin: -1px;overflow: hidden;padding: 0;position: absolute;width: 1px;}#sk-container-id-1 div.sk-estimator {font-family: monospace;background-color: #f0f8ff;border: 1px dotted black;border-radius: 0.25em;box-sizing: border-box;margin-bottom: 0.5em;}#sk-container-id-1 div.sk-estimator:hover {background-color: #d4ebff;}#sk-container-id-1 div.sk-parallel-item::after {content: \"\";width: 100%;border-bottom: 1px solid gray;flex-grow: 1;}#sk-container-id-1 div.sk-label:hover label.sk-toggleable__label {background-color: #d4ebff;}#sk-container-id-1 div.sk-serial::before {content: \"\";position: absolute;border-left: 1px solid gray;box-sizing: border-box;top: 0;bottom: 0;left: 50%;z-index: 0;}#sk-container-id-1 div.sk-serial {display: flex;flex-direction: column;align-items: center;background-color: white;padding-right: 0.2em;padding-left: 0.2em;position: relative;}#sk-container-id-1 div.sk-item {position: relative;z-index: 1;}#sk-container-id-1 div.sk-parallel {display: flex;align-items: stretch;justify-content: center;background-color: white;position: relative;}#sk-container-id-1 div.sk-item::before, #sk-container-id-1 div.sk-parallel-item::before {content: \"\";position: absolute;border-left: 1px solid gray;box-sizing: border-box;top: 0;bottom: 0;left: 50%;z-index: -1;}#sk-container-id-1 div.sk-parallel-item {display: flex;flex-direction: column;z-index: 1;position: relative;background-color: white;}#sk-container-id-1 div.sk-parallel-item:first-child::after {align-self: flex-end;width: 50%;}#sk-container-id-1 div.sk-parallel-item:last-child::after {align-self: flex-start;width: 50%;}#sk-container-id-1 div.sk-parallel-item:only-child::after {width: 0;}#sk-container-id-1 div.sk-dashed-wrapped {border: 1px dashed gray;margin: 0 0.4em 0.5em 0.4em;box-sizing: border-box;padding-bottom: 0.4em;background-color: white;}#sk-container-id-1 div.sk-label label {font-family: monospace;font-weight: bold;display: inline-block;line-height: 1.2em;}#sk-container-id-1 div.sk-label-container {text-align: center;}#sk-container-id-1 div.sk-container {/* jupyter's `normalize.less` sets `[hidden] { display: none; }` but bootstrap.min.css set `[hidden] { display: none !important; }` so we also need the `!important` here to be able to override the default hidden behavior on the sphinx rendered scikit-learn.org. See: https://github.com/scikit-learn/scikit-learn/issues/21755 */display: inline-block !important;position: relative;}#sk-container-id-1 div.sk-text-repr-fallback {display: none;}</style><div id=\"sk-container-id-1\" class=\"sk-top-container\"><div class=\"sk-text-repr-fallback\"><pre>GridSearchCV(cv=5, estimator=RandomForestClassifier(random_state=42), n_jobs=-1,\n             param_grid={&#x27;max_features&#x27;: [&#x27;sqrt&#x27;], &#x27;min_samples_leaf&#x27;: [1, 2],\n                         &#x27;min_samples_split&#x27;: [2, 4],\n                         &#x27;n_estimators&#x27;: [50, 100, 500]},\n             return_train_score=True)</pre><b>In a Jupyter environment, please rerun this cell to show the HTML representation or trust the notebook. <br />On GitHub, the HTML representation is unable to render, please try loading this page with nbviewer.org.</b></div><div class=\"sk-container\" hidden><div class=\"sk-item sk-dashed-wrapped\"><div class=\"sk-label-container\"><div class=\"sk-label sk-toggleable\"><input class=\"sk-toggleable__control sk-hidden--visually\" id=\"sk-estimator-id-1\" type=\"checkbox\" ><label for=\"sk-estimator-id-1\" class=\"sk-toggleable__label sk-toggleable__label-arrow\">GridSearchCV</label><div class=\"sk-toggleable__content\"><pre>GridSearchCV(cv=5, estimator=RandomForestClassifier(random_state=42), n_jobs=-1,\n             param_grid={&#x27;max_features&#x27;: [&#x27;sqrt&#x27;], &#x27;min_samples_leaf&#x27;: [1, 2],\n                         &#x27;min_samples_split&#x27;: [2, 4],\n                         &#x27;n_estimators&#x27;: [50, 100, 500]},\n             return_train_score=True)</pre></div></div></div><div class=\"sk-parallel\"><div class=\"sk-parallel-item\"><div class=\"sk-item\"><div class=\"sk-label-container\"><div class=\"sk-label sk-toggleable\"><input class=\"sk-toggleable__control sk-hidden--visually\" id=\"sk-estimator-id-2\" type=\"checkbox\" ><label for=\"sk-estimator-id-2\" class=\"sk-toggleable__label sk-toggleable__label-arrow\">estimator: RandomForestClassifier</label><div class=\"sk-toggleable__content\"><pre>RandomForestClassifier(random_state=42)</pre></div></div></div><div class=\"sk-serial\"><div class=\"sk-item\"><div class=\"sk-estimator sk-toggleable\"><input class=\"sk-toggleable__control sk-hidden--visually\" id=\"sk-estimator-id-3\" type=\"checkbox\" ><label for=\"sk-estimator-id-3\" class=\"sk-toggleable__label sk-toggleable__label-arrow\">RandomForestClassifier</label><div class=\"sk-toggleable__content\"><pre>RandomForestClassifier(random_state=42)</pre></div></div></div></div></div></div></div></div></div></div>"
     },
     "execution_count": 11,
     "metadata": {},
     "output_type": "execute_result"
    }
   ],
   "source": [
    "grid_search.fit(X_train,y_train.values.ravel())"
   ],
   "metadata": {
    "collapsed": false
   }
  },
  {
   "cell_type": "code",
   "execution_count": 12,
   "outputs": [
    {
     "data": {
      "text/plain": "{'max_features': 'sqrt',\n 'min_samples_leaf': 1,\n 'min_samples_split': 2,\n 'n_estimators': 500}"
     },
     "execution_count": 12,
     "metadata": {},
     "output_type": "execute_result"
    }
   ],
   "source": [
    "best_params = grid_search.best_params_ #To check the best set of parameters returned\n",
    "best_params"
   ],
   "metadata": {
    "collapsed": false
   }
  },
  {
   "cell_type": "code",
   "execution_count": 13,
   "outputs": [
    {
     "data": {
      "text/plain": "    mean_fit_time  std_fit_time  mean_score_time  std_score_time  \\\n0       48.232684      1.154276         0.559298        0.100726   \n1       88.627390      2.212101         0.935751        0.099336   \n2      454.482473     13.119797         4.266331        0.171342   \n3       47.724138      2.640214         0.518331        0.065678   \n4       90.854703      2.200466         0.969913        0.064261   \n5      469.180213     28.959546        11.798043       15.125033   \n6       44.969731      1.001785         0.472277        0.024615   \n7       88.949101      2.494044         0.892414        0.068782   \n8      496.162207      9.476106         4.084767        0.317170   \n9       55.918928     23.727436         0.464603        0.035474   \n10      87.753903      3.014054         0.882916        0.042009   \n11     365.707040      7.163086         2.705081        0.282441   \n\n   param_max_features param_min_samples_leaf param_min_samples_split  \\\n0                sqrt                      1                       2   \n1                sqrt                      1                       2   \n2                sqrt                      1                       2   \n3                sqrt                      1                       4   \n4                sqrt                      1                       4   \n5                sqrt                      1                       4   \n6                sqrt                      2                       2   \n7                sqrt                      2                       2   \n8                sqrt                      2                       2   \n9                sqrt                      2                       4   \n10               sqrt                      2                       4   \n11               sqrt                      2                       4   \n\n   param_n_estimators                                             params  \\\n0                  50  {'max_features': 'sqrt', 'min_samples_leaf': 1...   \n1                 100  {'max_features': 'sqrt', 'min_samples_leaf': 1...   \n2                 500  {'max_features': 'sqrt', 'min_samples_leaf': 1...   \n3                  50  {'max_features': 'sqrt', 'min_samples_leaf': 1...   \n4                 100  {'max_features': 'sqrt', 'min_samples_leaf': 1...   \n5                 500  {'max_features': 'sqrt', 'min_samples_leaf': 1...   \n6                  50  {'max_features': 'sqrt', 'min_samples_leaf': 2...   \n7                 100  {'max_features': 'sqrt', 'min_samples_leaf': 2...   \n8                 500  {'max_features': 'sqrt', 'min_samples_leaf': 2...   \n9                  50  {'max_features': 'sqrt', 'min_samples_leaf': 2...   \n10                100  {'max_features': 'sqrt', 'min_samples_leaf': 2...   \n11                500  {'max_features': 'sqrt', 'min_samples_leaf': 2...   \n\n    split0_test_score  split1_test_score  split2_test_score  \\\n0            0.870223           0.998932           0.998417   \n1            0.869818           0.998969           0.998711   \n2            0.869229           0.999337           0.999116   \n3            0.870886           0.999080           0.998895   \n4            0.869892           0.999080           0.999006   \n5            0.868935           0.999116           0.999116   \n6            0.868971           0.998711           0.998527   \n7            0.868382           0.998895           0.998785   \n8            0.867536           0.999116           0.998859   \n9            0.868971           0.998711           0.998527   \n10           0.868382           0.998895           0.998785   \n11           0.867536           0.999116           0.998859   \n\n    split3_test_score  split4_test_score  mean_test_score  std_test_score  \\\n0            0.999080           0.998895         0.973109        0.051444   \n1            0.999300           0.999080         0.973176        0.051679   \n2            0.999632           0.999337         0.973330        0.052051   \n3            0.999190           0.998564         0.973323        0.051219   \n4            0.999374           0.998859         0.973242        0.051675   \n5            0.999485           0.999264         0.973183        0.052124   \n6            0.999080           0.998638         0.972785        0.051907   \n7            0.999411           0.999190         0.972933        0.052276   \n8            0.999558           0.999116         0.972837        0.052651   \n9            0.999080           0.998638         0.972785        0.051907   \n10           0.999411           0.999190         0.972933        0.052276   \n11           0.999558           0.999116         0.972837        0.052651   \n\n    rank_test_score  split0_train_score  split1_train_score  \\\n0                 6            1.000000            0.999963   \n1                 5            1.000000            1.000000   \n2                 1            1.000000            1.000000   \n3                 2            1.000000            0.999807   \n4                 3            1.000000            0.999917   \n5                 4            1.000000            0.999963   \n6                11            0.999991            0.998058   \n7                 7            0.999991            0.998886   \n8                 9            1.000000            0.999402   \n9                11            0.999991            0.998058   \n10                7            0.999991            0.998886   \n11                9            1.000000            0.999402   \n\n    split2_train_score  split3_train_score  split4_train_score  \\\n0             0.999982            0.999936            0.999936   \n1             1.000000            1.000000            1.000000   \n2             1.000000            1.000000            1.000000   \n3             0.999798            0.999687            0.999687   \n4             0.999917            0.999908            0.999908   \n5             0.999963            0.999982            0.999954   \n6             0.998132            0.998067            0.998012   \n7             0.998822            0.998923            0.998923   \n8             0.999356            0.999411            0.999383   \n9             0.998132            0.998067            0.998012   \n10            0.998822            0.998923            0.998923   \n11            0.999356            0.999411            0.999383   \n\n    mean_train_score  std_train_score  \n0           0.999963         0.000025  \n1           1.000000         0.000000  \n2           1.000000         0.000000  \n3           0.999796         0.000114  \n4           0.999930         0.000035  \n5           0.999972         0.000016  \n6           0.998452         0.000770  \n7           0.999109         0.000442  \n8           0.999510         0.000246  \n9           0.998452         0.000770  \n10          0.999109         0.000442  \n11          0.999510         0.000246  ",
      "text/html": "<div>\n<style scoped>\n    .dataframe tbody tr th:only-of-type {\n        vertical-align: middle;\n    }\n\n    .dataframe tbody tr th {\n        vertical-align: top;\n    }\n\n    .dataframe thead th {\n        text-align: right;\n    }\n</style>\n<table border=\"1\" class=\"dataframe\">\n  <thead>\n    <tr style=\"text-align: right;\">\n      <th></th>\n      <th>mean_fit_time</th>\n      <th>std_fit_time</th>\n      <th>mean_score_time</th>\n      <th>std_score_time</th>\n      <th>param_max_features</th>\n      <th>param_min_samples_leaf</th>\n      <th>param_min_samples_split</th>\n      <th>param_n_estimators</th>\n      <th>params</th>\n      <th>split0_test_score</th>\n      <th>split1_test_score</th>\n      <th>split2_test_score</th>\n      <th>split3_test_score</th>\n      <th>split4_test_score</th>\n      <th>mean_test_score</th>\n      <th>std_test_score</th>\n      <th>rank_test_score</th>\n      <th>split0_train_score</th>\n      <th>split1_train_score</th>\n      <th>split2_train_score</th>\n      <th>split3_train_score</th>\n      <th>split4_train_score</th>\n      <th>mean_train_score</th>\n      <th>std_train_score</th>\n    </tr>\n  </thead>\n  <tbody>\n    <tr>\n      <th>0</th>\n      <td>48.232684</td>\n      <td>1.154276</td>\n      <td>0.559298</td>\n      <td>0.100726</td>\n      <td>sqrt</td>\n      <td>1</td>\n      <td>2</td>\n      <td>50</td>\n      <td>{'max_features': 'sqrt', 'min_samples_leaf': 1...</td>\n      <td>0.870223</td>\n      <td>0.998932</td>\n      <td>0.998417</td>\n      <td>0.999080</td>\n      <td>0.998895</td>\n      <td>0.973109</td>\n      <td>0.051444</td>\n      <td>6</td>\n      <td>1.000000</td>\n      <td>0.999963</td>\n      <td>0.999982</td>\n      <td>0.999936</td>\n      <td>0.999936</td>\n      <td>0.999963</td>\n      <td>0.000025</td>\n    </tr>\n    <tr>\n      <th>1</th>\n      <td>88.627390</td>\n      <td>2.212101</td>\n      <td>0.935751</td>\n      <td>0.099336</td>\n      <td>sqrt</td>\n      <td>1</td>\n      <td>2</td>\n      <td>100</td>\n      <td>{'max_features': 'sqrt', 'min_samples_leaf': 1...</td>\n      <td>0.869818</td>\n      <td>0.998969</td>\n      <td>0.998711</td>\n      <td>0.999300</td>\n      <td>0.999080</td>\n      <td>0.973176</td>\n      <td>0.051679</td>\n      <td>5</td>\n      <td>1.000000</td>\n      <td>1.000000</td>\n      <td>1.000000</td>\n      <td>1.000000</td>\n      <td>1.000000</td>\n      <td>1.000000</td>\n      <td>0.000000</td>\n    </tr>\n    <tr>\n      <th>2</th>\n      <td>454.482473</td>\n      <td>13.119797</td>\n      <td>4.266331</td>\n      <td>0.171342</td>\n      <td>sqrt</td>\n      <td>1</td>\n      <td>2</td>\n      <td>500</td>\n      <td>{'max_features': 'sqrt', 'min_samples_leaf': 1...</td>\n      <td>0.869229</td>\n      <td>0.999337</td>\n      <td>0.999116</td>\n      <td>0.999632</td>\n      <td>0.999337</td>\n      <td>0.973330</td>\n      <td>0.052051</td>\n      <td>1</td>\n      <td>1.000000</td>\n      <td>1.000000</td>\n      <td>1.000000</td>\n      <td>1.000000</td>\n      <td>1.000000</td>\n      <td>1.000000</td>\n      <td>0.000000</td>\n    </tr>\n    <tr>\n      <th>3</th>\n      <td>47.724138</td>\n      <td>2.640214</td>\n      <td>0.518331</td>\n      <td>0.065678</td>\n      <td>sqrt</td>\n      <td>1</td>\n      <td>4</td>\n      <td>50</td>\n      <td>{'max_features': 'sqrt', 'min_samples_leaf': 1...</td>\n      <td>0.870886</td>\n      <td>0.999080</td>\n      <td>0.998895</td>\n      <td>0.999190</td>\n      <td>0.998564</td>\n      <td>0.973323</td>\n      <td>0.051219</td>\n      <td>2</td>\n      <td>1.000000</td>\n      <td>0.999807</td>\n      <td>0.999798</td>\n      <td>0.999687</td>\n      <td>0.999687</td>\n      <td>0.999796</td>\n      <td>0.000114</td>\n    </tr>\n    <tr>\n      <th>4</th>\n      <td>90.854703</td>\n      <td>2.200466</td>\n      <td>0.969913</td>\n      <td>0.064261</td>\n      <td>sqrt</td>\n      <td>1</td>\n      <td>4</td>\n      <td>100</td>\n      <td>{'max_features': 'sqrt', 'min_samples_leaf': 1...</td>\n      <td>0.869892</td>\n      <td>0.999080</td>\n      <td>0.999006</td>\n      <td>0.999374</td>\n      <td>0.998859</td>\n      <td>0.973242</td>\n      <td>0.051675</td>\n      <td>3</td>\n      <td>1.000000</td>\n      <td>0.999917</td>\n      <td>0.999917</td>\n      <td>0.999908</td>\n      <td>0.999908</td>\n      <td>0.999930</td>\n      <td>0.000035</td>\n    </tr>\n    <tr>\n      <th>5</th>\n      <td>469.180213</td>\n      <td>28.959546</td>\n      <td>11.798043</td>\n      <td>15.125033</td>\n      <td>sqrt</td>\n      <td>1</td>\n      <td>4</td>\n      <td>500</td>\n      <td>{'max_features': 'sqrt', 'min_samples_leaf': 1...</td>\n      <td>0.868935</td>\n      <td>0.999116</td>\n      <td>0.999116</td>\n      <td>0.999485</td>\n      <td>0.999264</td>\n      <td>0.973183</td>\n      <td>0.052124</td>\n      <td>4</td>\n      <td>1.000000</td>\n      <td>0.999963</td>\n      <td>0.999963</td>\n      <td>0.999982</td>\n      <td>0.999954</td>\n      <td>0.999972</td>\n      <td>0.000016</td>\n    </tr>\n    <tr>\n      <th>6</th>\n      <td>44.969731</td>\n      <td>1.001785</td>\n      <td>0.472277</td>\n      <td>0.024615</td>\n      <td>sqrt</td>\n      <td>2</td>\n      <td>2</td>\n      <td>50</td>\n      <td>{'max_features': 'sqrt', 'min_samples_leaf': 2...</td>\n      <td>0.868971</td>\n      <td>0.998711</td>\n      <td>0.998527</td>\n      <td>0.999080</td>\n      <td>0.998638</td>\n      <td>0.972785</td>\n      <td>0.051907</td>\n      <td>11</td>\n      <td>0.999991</td>\n      <td>0.998058</td>\n      <td>0.998132</td>\n      <td>0.998067</td>\n      <td>0.998012</td>\n      <td>0.998452</td>\n      <td>0.000770</td>\n    </tr>\n    <tr>\n      <th>7</th>\n      <td>88.949101</td>\n      <td>2.494044</td>\n      <td>0.892414</td>\n      <td>0.068782</td>\n      <td>sqrt</td>\n      <td>2</td>\n      <td>2</td>\n      <td>100</td>\n      <td>{'max_features': 'sqrt', 'min_samples_leaf': 2...</td>\n      <td>0.868382</td>\n      <td>0.998895</td>\n      <td>0.998785</td>\n      <td>0.999411</td>\n      <td>0.999190</td>\n      <td>0.972933</td>\n      <td>0.052276</td>\n      <td>7</td>\n      <td>0.999991</td>\n      <td>0.998886</td>\n      <td>0.998822</td>\n      <td>0.998923</td>\n      <td>0.998923</td>\n      <td>0.999109</td>\n      <td>0.000442</td>\n    </tr>\n    <tr>\n      <th>8</th>\n      <td>496.162207</td>\n      <td>9.476106</td>\n      <td>4.084767</td>\n      <td>0.317170</td>\n      <td>sqrt</td>\n      <td>2</td>\n      <td>2</td>\n      <td>500</td>\n      <td>{'max_features': 'sqrt', 'min_samples_leaf': 2...</td>\n      <td>0.867536</td>\n      <td>0.999116</td>\n      <td>0.998859</td>\n      <td>0.999558</td>\n      <td>0.999116</td>\n      <td>0.972837</td>\n      <td>0.052651</td>\n      <td>9</td>\n      <td>1.000000</td>\n      <td>0.999402</td>\n      <td>0.999356</td>\n      <td>0.999411</td>\n      <td>0.999383</td>\n      <td>0.999510</td>\n      <td>0.000246</td>\n    </tr>\n    <tr>\n      <th>9</th>\n      <td>55.918928</td>\n      <td>23.727436</td>\n      <td>0.464603</td>\n      <td>0.035474</td>\n      <td>sqrt</td>\n      <td>2</td>\n      <td>4</td>\n      <td>50</td>\n      <td>{'max_features': 'sqrt', 'min_samples_leaf': 2...</td>\n      <td>0.868971</td>\n      <td>0.998711</td>\n      <td>0.998527</td>\n      <td>0.999080</td>\n      <td>0.998638</td>\n      <td>0.972785</td>\n      <td>0.051907</td>\n      <td>11</td>\n      <td>0.999991</td>\n      <td>0.998058</td>\n      <td>0.998132</td>\n      <td>0.998067</td>\n      <td>0.998012</td>\n      <td>0.998452</td>\n      <td>0.000770</td>\n    </tr>\n    <tr>\n      <th>10</th>\n      <td>87.753903</td>\n      <td>3.014054</td>\n      <td>0.882916</td>\n      <td>0.042009</td>\n      <td>sqrt</td>\n      <td>2</td>\n      <td>4</td>\n      <td>100</td>\n      <td>{'max_features': 'sqrt', 'min_samples_leaf': 2...</td>\n      <td>0.868382</td>\n      <td>0.998895</td>\n      <td>0.998785</td>\n      <td>0.999411</td>\n      <td>0.999190</td>\n      <td>0.972933</td>\n      <td>0.052276</td>\n      <td>7</td>\n      <td>0.999991</td>\n      <td>0.998886</td>\n      <td>0.998822</td>\n      <td>0.998923</td>\n      <td>0.998923</td>\n      <td>0.999109</td>\n      <td>0.000442</td>\n    </tr>\n    <tr>\n      <th>11</th>\n      <td>365.707040</td>\n      <td>7.163086</td>\n      <td>2.705081</td>\n      <td>0.282441</td>\n      <td>sqrt</td>\n      <td>2</td>\n      <td>4</td>\n      <td>500</td>\n      <td>{'max_features': 'sqrt', 'min_samples_leaf': 2...</td>\n      <td>0.867536</td>\n      <td>0.999116</td>\n      <td>0.998859</td>\n      <td>0.999558</td>\n      <td>0.999116</td>\n      <td>0.972837</td>\n      <td>0.052651</td>\n      <td>9</td>\n      <td>1.000000</td>\n      <td>0.999402</td>\n      <td>0.999356</td>\n      <td>0.999411</td>\n      <td>0.999383</td>\n      <td>0.999510</td>\n      <td>0.000246</td>\n    </tr>\n  </tbody>\n</table>\n</div>"
     },
     "execution_count": 13,
     "metadata": {},
     "output_type": "execute_result"
    }
   ],
   "source": [
    "pd.DataFrame(grid_search.cv_results_)"
   ],
   "metadata": {
    "collapsed": false
   }
  },
  {
   "cell_type": "markdown",
   "source": [
    "<b> Please check RandomSearch as another algorithm comparable to GridSearch"
   ],
   "metadata": {
    "collapsed": false
   }
  },
  {
   "cell_type": "code",
   "execution_count": 14,
   "outputs": [
    {
     "name": "stdout",
     "output_type": "stream",
     "text": [
      "0.9733303690654246\n"
     ]
    }
   ],
   "source": [
    "from sklearn.model_selection import cross_val_score\n",
    "clf = RandomForestClassifier(random_state=RAND_STATE, **best_params)\n",
    "cross_val_scores = cross_val_score(clf, X_train, y_train, cv=5)\n",
    "print(np.mean(cross_val_scores))"
   ],
   "metadata": {
    "collapsed": false
   }
  },
  {
   "cell_type": "markdown",
   "source": [
    "## Feature Importance"
   ],
   "metadata": {
    "collapsed": false
   }
  },
  {
   "cell_type": "markdown",
   "source": [
    "<b> Higher the score, the more important the feature is"
   ],
   "metadata": {
    "collapsed": false
   }
  },
  {
   "cell_type": "code",
   "execution_count": 15,
   "outputs": [
    {
     "data": {
      "text/plain": "RandomForestClassifier(n_estimators=500, random_state=42)",
      "text/html": "<style>#sk-container-id-2 {color: black;background-color: white;}#sk-container-id-2 pre{padding: 0;}#sk-container-id-2 div.sk-toggleable {background-color: white;}#sk-container-id-2 label.sk-toggleable__label {cursor: pointer;display: block;width: 100%;margin-bottom: 0;padding: 0.3em;box-sizing: border-box;text-align: center;}#sk-container-id-2 label.sk-toggleable__label-arrow:before {content: \"▸\";float: left;margin-right: 0.25em;color: #696969;}#sk-container-id-2 label.sk-toggleable__label-arrow:hover:before {color: black;}#sk-container-id-2 div.sk-estimator:hover label.sk-toggleable__label-arrow:before {color: black;}#sk-container-id-2 div.sk-toggleable__content {max-height: 0;max-width: 0;overflow: hidden;text-align: left;background-color: #f0f8ff;}#sk-container-id-2 div.sk-toggleable__content pre {margin: 0.2em;color: black;border-radius: 0.25em;background-color: #f0f8ff;}#sk-container-id-2 input.sk-toggleable__control:checked~div.sk-toggleable__content {max-height: 200px;max-width: 100%;overflow: auto;}#sk-container-id-2 input.sk-toggleable__control:checked~label.sk-toggleable__label-arrow:before {content: \"▾\";}#sk-container-id-2 div.sk-estimator input.sk-toggleable__control:checked~label.sk-toggleable__label {background-color: #d4ebff;}#sk-container-id-2 div.sk-label input.sk-toggleable__control:checked~label.sk-toggleable__label {background-color: #d4ebff;}#sk-container-id-2 input.sk-hidden--visually {border: 0;clip: rect(1px 1px 1px 1px);clip: rect(1px, 1px, 1px, 1px);height: 1px;margin: -1px;overflow: hidden;padding: 0;position: absolute;width: 1px;}#sk-container-id-2 div.sk-estimator {font-family: monospace;background-color: #f0f8ff;border: 1px dotted black;border-radius: 0.25em;box-sizing: border-box;margin-bottom: 0.5em;}#sk-container-id-2 div.sk-estimator:hover {background-color: #d4ebff;}#sk-container-id-2 div.sk-parallel-item::after {content: \"\";width: 100%;border-bottom: 1px solid gray;flex-grow: 1;}#sk-container-id-2 div.sk-label:hover label.sk-toggleable__label {background-color: #d4ebff;}#sk-container-id-2 div.sk-serial::before {content: \"\";position: absolute;border-left: 1px solid gray;box-sizing: border-box;top: 0;bottom: 0;left: 50%;z-index: 0;}#sk-container-id-2 div.sk-serial {display: flex;flex-direction: column;align-items: center;background-color: white;padding-right: 0.2em;padding-left: 0.2em;position: relative;}#sk-container-id-2 div.sk-item {position: relative;z-index: 1;}#sk-container-id-2 div.sk-parallel {display: flex;align-items: stretch;justify-content: center;background-color: white;position: relative;}#sk-container-id-2 div.sk-item::before, #sk-container-id-2 div.sk-parallel-item::before {content: \"\";position: absolute;border-left: 1px solid gray;box-sizing: border-box;top: 0;bottom: 0;left: 50%;z-index: -1;}#sk-container-id-2 div.sk-parallel-item {display: flex;flex-direction: column;z-index: 1;position: relative;background-color: white;}#sk-container-id-2 div.sk-parallel-item:first-child::after {align-self: flex-end;width: 50%;}#sk-container-id-2 div.sk-parallel-item:last-child::after {align-self: flex-start;width: 50%;}#sk-container-id-2 div.sk-parallel-item:only-child::after {width: 0;}#sk-container-id-2 div.sk-dashed-wrapped {border: 1px dashed gray;margin: 0 0.4em 0.5em 0.4em;box-sizing: border-box;padding-bottom: 0.4em;background-color: white;}#sk-container-id-2 div.sk-label label {font-family: monospace;font-weight: bold;display: inline-block;line-height: 1.2em;}#sk-container-id-2 div.sk-label-container {text-align: center;}#sk-container-id-2 div.sk-container {/* jupyter's `normalize.less` sets `[hidden] { display: none; }` but bootstrap.min.css set `[hidden] { display: none !important; }` so we also need the `!important` here to be able to override the default hidden behavior on the sphinx rendered scikit-learn.org. See: https://github.com/scikit-learn/scikit-learn/issues/21755 */display: inline-block !important;position: relative;}#sk-container-id-2 div.sk-text-repr-fallback {display: none;}</style><div id=\"sk-container-id-2\" class=\"sk-top-container\"><div class=\"sk-text-repr-fallback\"><pre>RandomForestClassifier(n_estimators=500, random_state=42)</pre><b>In a Jupyter environment, please rerun this cell to show the HTML representation or trust the notebook. <br />On GitHub, the HTML representation is unable to render, please try loading this page with nbviewer.org.</b></div><div class=\"sk-container\" hidden><div class=\"sk-item\"><div class=\"sk-estimator sk-toggleable\"><input class=\"sk-toggleable__control sk-hidden--visually\" id=\"sk-estimator-id-4\" type=\"checkbox\" checked><label for=\"sk-estimator-id-4\" class=\"sk-toggleable__label sk-toggleable__label-arrow\">RandomForestClassifier</label><div class=\"sk-toggleable__content\"><pre>RandomForestClassifier(n_estimators=500, random_state=42)</pre></div></div></div></div></div>"
     },
     "execution_count": 15,
     "metadata": {},
     "output_type": "execute_result"
    }
   ],
   "source": [
    "clf.fit(X_train, y_train)"
   ],
   "metadata": {
    "collapsed": false
   }
  },
  {
   "cell_type": "code",
   "execution_count": 16,
   "outputs": [
    {
     "data": {
      "text/plain": "360"
     },
     "execution_count": 16,
     "metadata": {},
     "output_type": "execute_result"
    }
   ],
   "source": [
    "len(X_train.columns)"
   ],
   "metadata": {
    "collapsed": false
   }
  },
  {
   "cell_type": "code",
   "execution_count": 17,
   "outputs": [],
   "source": [
    "feature_names = X_train.columns\n",
    "feature_names = list(feature_names)"
   ],
   "metadata": {
    "collapsed": false
   }
  },
  {
   "cell_type": "code",
   "execution_count": 18,
   "outputs": [
    {
     "data": {
      "text/plain": "    columns_name  score_feature_importance\n349           19                  0.050890\n348           18                  0.038808\n343           13                  0.036900\n344           14                  0.036894\n350           20                  0.032789\n..           ...                       ...\n332            2                  0.000200\n288         HC15                  0.000199\n32         ETH12                  0.000101\n319    ODATEW_MM                  0.000055\n346           16                  0.000000\n\n[360 rows x 2 columns]",
      "text/html": "<div>\n<style scoped>\n    .dataframe tbody tr th:only-of-type {\n        vertical-align: middle;\n    }\n\n    .dataframe tbody tr th {\n        vertical-align: top;\n    }\n\n    .dataframe thead th {\n        text-align: right;\n    }\n</style>\n<table border=\"1\" class=\"dataframe\">\n  <thead>\n    <tr style=\"text-align: right;\">\n      <th></th>\n      <th>columns_name</th>\n      <th>score_feature_importance</th>\n    </tr>\n  </thead>\n  <tbody>\n    <tr>\n      <th>349</th>\n      <td>19</td>\n      <td>0.050890</td>\n    </tr>\n    <tr>\n      <th>348</th>\n      <td>18</td>\n      <td>0.038808</td>\n    </tr>\n    <tr>\n      <th>343</th>\n      <td>13</td>\n      <td>0.036900</td>\n    </tr>\n    <tr>\n      <th>344</th>\n      <td>14</td>\n      <td>0.036894</td>\n    </tr>\n    <tr>\n      <th>350</th>\n      <td>20</td>\n      <td>0.032789</td>\n    </tr>\n    <tr>\n      <th>...</th>\n      <td>...</td>\n      <td>...</td>\n    </tr>\n    <tr>\n      <th>332</th>\n      <td>2</td>\n      <td>0.000200</td>\n    </tr>\n    <tr>\n      <th>288</th>\n      <td>HC15</td>\n      <td>0.000199</td>\n    </tr>\n    <tr>\n      <th>32</th>\n      <td>ETH12</td>\n      <td>0.000101</td>\n    </tr>\n    <tr>\n      <th>319</th>\n      <td>ODATEW_MM</td>\n      <td>0.000055</td>\n    </tr>\n    <tr>\n      <th>346</th>\n      <td>16</td>\n      <td>0.000000</td>\n    </tr>\n  </tbody>\n</table>\n<p>360 rows × 2 columns</p>\n</div>"
     },
     "execution_count": 18,
     "metadata": {},
     "output_type": "execute_result"
    }
   ],
   "source": [
    "df = pd.DataFrame(list(zip(feature_names, clf.feature_importances_)))\n",
    "df.columns = ['columns_name', 'score_feature_importance']\n",
    "df.sort_values(by=['score_feature_importance'], ascending = False)"
   ],
   "metadata": {
    "collapsed": false
   }
  },
  {
   "cell_type": "code",
   "execution_count": null,
   "outputs": [],
   "source": [],
   "metadata": {
    "collapsed": false
   }
  },
  {
   "cell_type": "code",
   "execution_count": null,
   "outputs": [],
   "source": [],
   "metadata": {
    "collapsed": false
   }
  }
 ],
 "metadata": {
  "kernelspec": {
   "display_name": "Python 3 (ipykernel)",
   "language": "python",
   "name": "python3"
  },
  "language_info": {
   "codemirror_mode": {
    "name": "ipython",
    "version": 3
   },
   "file_extension": ".py",
   "mimetype": "text/x-python",
   "name": "python",
   "nbconvert_exporter": "python",
   "pygments_lexer": "ipython3",
   "version": "3.9.7"
  },
  "toc": {
   "base_numbering": 1,
   "nav_menu": {},
   "number_sections": true,
   "sideBar": true,
   "skip_h1_title": false,
   "title_cell": "Table of Contents",
   "title_sidebar": "Contents",
   "toc_cell": false,
   "toc_position": {},
   "toc_section_display": true,
   "toc_window_display": false
  }
 },
 "nbformat": 4,
 "nbformat_minor": 2
}
