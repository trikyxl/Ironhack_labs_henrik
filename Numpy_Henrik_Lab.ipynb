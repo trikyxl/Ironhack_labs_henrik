{
 "cells": [
  {
   "cell_type": "code",
   "execution_count": 1,
   "metadata": {},
   "outputs": [],
   "source": [
    "#### 1. Import the numpy package under the name `np` (★☆☆)\n",
    "\n",
    "\n",
    "import numpy as np\n"
   ]
  },
  {
   "cell_type": "code",
   "execution_count": 2,
   "metadata": {},
   "outputs": [
    {
     "data": {
      "text/plain": [
       "array([0., 0., 0., 0., 0., 0., 0., 0., 0., 0.])"
      ]
     },
     "execution_count": 2,
     "metadata": {},
     "output_type": "execute_result"
    }
   ],
   "source": [
    "#### 2. Create a null vector of size 10 (★☆☆)\n",
    "np.zeros(10)"
   ]
  },
  {
   "cell_type": "code",
   "execution_count": 3,
   "metadata": {},
   "outputs": [
    {
     "data": {
      "text/plain": [
       "array([0., 0., 0., 0., 1., 0., 0., 0., 0., 0.])"
      ]
     },
     "execution_count": 3,
     "metadata": {},
     "output_type": "execute_result"
    }
   ],
   "source": [
    "#### 3. Create a null vector of size 10 but the fifth value which is 1 (★☆☆)\n",
    "np.zeros(10)\n",
    "x = np.zeros(10)\n",
    "x[4]=1\n",
    "x"
   ]
  },
  {
   "cell_type": "code",
   "execution_count": 4,
   "metadata": {},
   "outputs": [
    {
     "data": {
      "text/plain": [
       "array([10, 11, 12, 13, 14, 15, 16, 17, 18, 19, 20, 21, 22, 23, 24, 25, 26,\n",
       "       27, 28, 29, 30, 31, 32, 33, 34, 35, 36, 37, 38, 39, 40, 41, 42, 43,\n",
       "       44, 45, 46, 47, 48, 49])"
      ]
     },
     "execution_count": 4,
     "metadata": {},
     "output_type": "execute_result"
    }
   ],
   "source": [
    "#### 4. Create a vector with values ranging from 10 to 49 (★☆☆)\n",
    "np.arange(10,50)"
   ]
  },
  {
   "cell_type": "code",
   "execution_count": 5,
   "metadata": {},
   "outputs": [
    {
     "data": {
      "text/plain": [
       "array([[0, 1, 2],\n",
       "       [3, 4, 5],\n",
       "       [6, 7, 8]])"
      ]
     },
     "execution_count": 5,
     "metadata": {},
     "output_type": "execute_result"
    }
   ],
   "source": [
    "#### 5. Create a 3x3 matrix with values ranging from 0 to 8 (★☆☆)\n",
    "x = np.arange(0,9).reshape(3,3)\n",
    "x"
   ]
  },
  {
   "cell_type": "code",
   "execution_count": 6,
   "metadata": {},
   "outputs": [
    {
     "data": {
      "text/plain": [
       "(array([0, 1, 4]),)"
      ]
     },
     "execution_count": 6,
     "metadata": {},
     "output_type": "execute_result"
    }
   ],
   "source": [
    "#### 6. Find indices of non-zero elements from [1,2,0,0,4,0] (★☆☆)\n",
    "\n",
    "\n",
    "A = [1,2,0,0,4,0]\n",
    "np.nonzero(A)\n"
   ]
  },
  {
   "cell_type": "code",
   "execution_count": 7,
   "metadata": {},
   "outputs": [
    {
     "data": {
      "text/plain": [
       "array([[1., 0., 0.],\n",
       "       [0., 1., 0.],\n",
       "       [0., 0., 1.]])"
      ]
     },
     "execution_count": 7,
     "metadata": {},
     "output_type": "execute_result"
    }
   ],
   "source": [
    "#### 7. Create a 3x3 identity matrix (★☆☆)\n",
    "npeye= np.eye(3,3)\n",
    "npeye"
   ]
  },
  {
   "cell_type": "code",
   "execution_count": 8,
   "metadata": {},
   "outputs": [
    {
     "data": {
      "text/plain": [
       "array([[[0.08430716, 0.09927432, 0.96678068],\n",
       "        [0.21434739, 0.72301801, 0.87012143],\n",
       "        [0.29806788, 0.97816464, 0.66657149]],\n",
       "\n",
       "       [[0.07531149, 0.24393109, 0.09516321],\n",
       "        [0.46202164, 0.64773446, 0.10043575],\n",
       "        [0.83698206, 0.367787  , 0.02585721]],\n",
       "\n",
       "       [[0.35599523, 0.64344409, 0.2067267 ],\n",
       "        [0.73905786, 0.93221403, 0.20756884],\n",
       "        [0.68095114, 0.74318968, 0.98430527]]])"
      ]
     },
     "execution_count": 8,
     "metadata": {},
     "output_type": "execute_result"
    }
   ],
   "source": [
    "#### 8. Create a 3x3x3 array with random values (★☆☆)\n",
    "np.random.random([3,3,3])"
   ]
  },
  {
   "cell_type": "code",
   "execution_count": 9,
   "metadata": {},
   "outputs": [
    {
     "data": {
      "text/plain": [
       "0.9932290161609234"
      ]
     },
     "execution_count": 9,
     "metadata": {},
     "output_type": "execute_result"
    }
   ],
   "source": [
    "#### 9. Create a 10x10 array with random values and find the minimum and maximum values (★☆☆)\n",
    "array_10x10 = np.random.random([10,10])\n",
    "array_10x10.min()\n",
    "array_10x10.max()"
   ]
  },
  {
   "cell_type": "code",
   "execution_count": 20,
   "metadata": {},
   "outputs": [
    {
     "name": "stdout",
     "output_type": "stream",
     "text": [
      "[0.31618496 0.49465938 0.61536777 0.7048849  0.78867822 0.6492134\n",
      " 0.18322631 0.27585906 0.16847648 0.59668525 0.03847149 0.01378974\n",
      " 0.15105786 0.58049291 0.30841684 0.70466936 0.36016183 0.33340079\n",
      " 0.69205998 0.90626749 0.72182743 0.52462298 0.30178292 0.51626368\n",
      " 0.45870573 0.88550897 0.94876196 0.67203801 0.29209199 0.65533542]\n"
     ]
    },
    {
     "data": {
      "text/plain": [
       "0.4952987705545839"
      ]
     },
     "execution_count": 20,
     "metadata": {},
     "output_type": "execute_result"
    }
   ],
   "source": [
    "#### 10. Create a random vector of size 30 and find the mean value (★☆☆)\n",
    "random_vector = np.random.random(30)\n",
    "print(random_vector)\n",
    "random_vector.mean()"
   ]
  },
  {
   "cell_type": "code",
   "execution_count": 11,
   "metadata": {},
   "outputs": [
    {
     "data": {
      "text/plain": [
       "array([[0, 0, 0, 0, 0],\n",
       "       [1, 0, 0, 0, 0],\n",
       "       [0, 2, 0, 0, 0],\n",
       "       [0, 0, 3, 0, 0],\n",
       "       [0, 0, 0, 4, 0]])"
      ]
     },
     "execution_count": 11,
     "metadata": {},
     "output_type": "execute_result"
    }
   ],
   "source": [
    "#### 11. Create a 5x5 matrix with values 1,2,3,4 just below the diagonal (★☆☆)\n",
    "matrix_5_5 = np.diag(1+np.arange(4), k=-1)\n",
    "matrix_5_5"
   ]
  },
  {
   "cell_type": "code",
   "execution_count": 12,
   "metadata": {},
   "outputs": [
    {
     "name": "stdout",
     "output_type": "stream",
     "text": [
      "[[0.94432599 0.47772514 0.17126001 0.43520026 0.03109459]\n",
      " [0.96164161 0.13403879 0.29292475 0.74376014 0.40545042]\n",
      " [0.71221476 0.65100143 0.99235411 0.88048505 1.        ]\n",
      " [0.72217885 0.51116875 0.5156662  0.         0.13212112]\n",
      " [0.53958591 0.03760906 0.59769604 0.28764554 0.73668131]]\n"
     ]
    }
   ],
   "source": [
    "#### 12. Normalize a 5x5 random matrix (★☆☆)\n",
    "normalized_5x5_matrix = np.random.random((5,5))\n",
    "min = normalized_5x5_matrix.min()\n",
    "max = normalized_5x5_matrix.max()\n",
    "\n",
    "normalize = (normalized_5x5_matrix-min) / (max-min)\n",
    "print(normalize)"
   ]
  },
  {
   "cell_type": "code",
   "execution_count": 13,
   "metadata": {},
   "outputs": [
    {
     "data": {
      "text/plain": [
       "array([2, 3, 4, 5])"
      ]
     },
     "execution_count": 13,
     "metadata": {},
     "output_type": "execute_result"
    }
   ],
   "source": [
    "#### 13. How to find common values between two arrays? (★☆☆)\n",
    "a = np.arange(0,6)\n",
    "b = np.arange(2,9)\n",
    "\n",
    "common_values = np.intersect1d(a,b)\n",
    "common_values"
   ]
  },
  {
   "cell_type": "code",
   "execution_count": 14,
   "metadata": {},
   "outputs": [
    {
     "name": "stdout",
     "output_type": "stream",
     "text": [
      "[0.09963044 0.16699137 0.39383512 0.39727583 0.45958996 0.51577011\n",
      " 0.56096989 0.72418682 0.7599368  0.89417734]\n"
     ]
    }
   ],
   "source": [
    "#### 14. Create a random vector of size 10 and sort it (★★☆)\n",
    "c = np.random.random(10)\n",
    "\n",
    "c.sort()\n",
    "\n",
    "print(c)"
   ]
  },
  {
   "cell_type": "code",
   "execution_count": 15,
   "metadata": {},
   "outputs": [
    {
     "data": {
      "text/plain": [
       "array([0.        , 0.37196352, 0.57464543, 0.32965165, 0.83301305,\n",
       "       0.23788023, 0.46985698, 0.89769405, 0.44644781, 0.12707114])"
      ]
     },
     "execution_count": 15,
     "metadata": {},
     "output_type": "execute_result"
    }
   ],
   "source": [
    "#### 15. Create random vector of size 10 and replace the maximum value by 0 (★★☆)\n",
    "random_vector = np.random.random(10)\n",
    "random_vector[random_vector.argmax()] = 0\n",
    "random_vector"
   ]
  },
  {
   "cell_type": "code",
   "execution_count": 16,
   "metadata": {},
   "outputs": [
    {
     "data": {
      "text/plain": [
       "array([[0, 1],\n",
       "       [2, 3]])"
      ]
     },
     "execution_count": 16,
     "metadata": {},
     "output_type": "execute_result"
    }
   ],
   "source": [
    "#### 16. Subtract the mean of each row of a matrix (★★☆)\n",
    "matrix = np.arange(0,4).reshape(2,2)\n",
    "matrix\n"
   ]
  },
  {
   "cell_type": "code",
   "execution_count": 17,
   "metadata": {},
   "outputs": [
    {
     "data": {
      "text/plain": [
       "array([[-0.5,  0.5],\n",
       "       [-0.5,  0.5]])"
      ]
     },
     "execution_count": 17,
     "metadata": {},
     "output_type": "execute_result"
    }
   ],
   "source": [
    "z = matrix - matrix.mean(axis=1,keepdims=True)\n",
    "z"
   ]
  },
  {
   "cell_type": "code",
   "execution_count": 18,
   "metadata": {},
   "outputs": [
    {
     "data": {
      "text/plain": [
       "array([9995, 9996, 9997, 9998, 9999])"
      ]
     },
     "execution_count": 18,
     "metadata": {},
     "output_type": "execute_result"
    }
   ],
   "source": [
    "#### 17. How to get the n largest values of an array (★★★)\n",
    "#hint: np.argsort | np.argpartition`\n",
    "Y = np.arange(10000)\n",
    "np.random.shuffle(Y)\n",
    "n = 5\n",
    "\n",
    "Y[np.argsort(Y)[-5:]]\n"
   ]
  },
  {
   "cell_type": "code",
   "execution_count": 19,
   "metadata": {},
   "outputs": [
    {
     "name": "stdout",
     "output_type": "stream",
     "text": [
      "[[ 8  3  4]\n",
      " [ 2  1  9]\n",
      " [10 10 13]\n",
      " [ 7 13 13]\n",
      " [12  8 11]]\n",
      "[[ 64   3   4]\n",
      " [  2   1  81]\n",
      " [100 100 169]\n",
      " [ 49 169 169]\n",
      " [144  64 121]]\n"
     ]
    }
   ],
   "source": [
    "#Create a random 5*3 matrix and replace items that are larger than 4 by their squares ( Example:  6 --> 36 )\n",
    "\n",
    "matrix_5_3 = np.random.randint(15, size=(5,3))\n",
    "print(matrix_5_3)\n",
    "#h = matrix_5_3[matrix_5_3 > 4]\n",
    "#h\n",
    "h = np.where(matrix_5_3 > 4, matrix_5_3*matrix_5_3, matrix_5_3)\n",
    "print(h)"
   ]
  },
  {
   "cell_type": "code",
   "execution_count": null,
   "metadata": {},
   "outputs": [],
   "source": []
  }
 ],
 "metadata": {
  "kernelspec": {
   "display_name": "base",
   "language": "python",
   "name": "python3"
  },
  "language_info": {
   "codemirror_mode": {
    "name": "ipython",
    "version": 3
   },
   "file_extension": ".py",
   "mimetype": "text/x-python",
   "name": "python",
   "nbconvert_exporter": "python",
   "pygments_lexer": "ipython3",
   "version": "3.9.13"
  },
  "orig_nbformat": 4,
  "vscode": {
   "interpreter": {
    "hash": "40d3a090f54c6569ab1632332b64b2c03c39dcf918b08424e98f38b5ae0af88f"
   }
  }
 },
 "nbformat": 4,
 "nbformat_minor": 2
}
