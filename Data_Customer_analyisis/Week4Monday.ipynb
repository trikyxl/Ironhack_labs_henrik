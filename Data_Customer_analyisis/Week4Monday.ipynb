{
 "cells": [
  {
   "cell_type": "code",
   "execution_count": 46,
   "id": "8c2c5b00",
   "metadata": {},
   "outputs": [],
   "source": [
    "import numpy as np\n",
    "import pandas as pd\n",
    "import matplotlib.pyplot as plt\n",
    "%matplotlib inline\n",
    "import seaborn as sns\n",
    "import statsmodels.api as sm\n",
    "from scipy.stats import boxcox\n",
    "import sklearn as sk\n",
    "from sklearn.preprocessing import MinMaxScaler\n",
    "from sklearn.preprocessing import PowerTransformer, StandardScaler, minmax_scale\n",
    "pd.options.display.max_rows = 100"
   ]
  },
  {
   "cell_type": "code",
   "execution_count": 2,
   "id": "9ce0a2f5",
   "metadata": {},
   "outputs": [],
   "source": [
    "df = pd.read_csv('Data_Marketing_Customer_Analysis_Round3.csv')\n"
   ]
  },
  {
   "cell_type": "code",
   "execution_count": 21,
   "id": "0f394b84",
   "metadata": {},
   "outputs": [
    {
     "data": {
      "text/html": [
       "<div>\n",
       "<style scoped>\n",
       "    .dataframe tbody tr th:only-of-type {\n",
       "        vertical-align: middle;\n",
       "    }\n",
       "\n",
       "    .dataframe tbody tr th {\n",
       "        vertical-align: top;\n",
       "    }\n",
       "\n",
       "    .dataframe thead th {\n",
       "        text-align: right;\n",
       "    }\n",
       "</style>\n",
       "<table border=\"1\" class=\"dataframe\">\n",
       "  <thead>\n",
       "    <tr style=\"text-align: right;\">\n",
       "      <th></th>\n",
       "      <th>region</th>\n",
       "      <th>response</th>\n",
       "      <th>coverage</th>\n",
       "      <th>education</th>\n",
       "      <th>effective_to_date</th>\n",
       "      <th>month</th>\n",
       "      <th>employment_status</th>\n",
       "      <th>gender</th>\n",
       "      <th>location_code</th>\n",
       "      <th>marital_status</th>\n",
       "      <th>policy_type</th>\n",
       "      <th>policy</th>\n",
       "      <th>renew_offer_type</th>\n",
       "      <th>sales_channel</th>\n",
       "      <th>vehicle_class</th>\n",
       "      <th>vehicle_size</th>\n",
       "    </tr>\n",
       "  </thead>\n",
       "  <tbody>\n",
       "    <tr>\n",
       "      <th>count</th>\n",
       "      <td>10689</td>\n",
       "      <td>10689</td>\n",
       "      <td>10689</td>\n",
       "      <td>10689</td>\n",
       "      <td>10689</td>\n",
       "      <td>10689</td>\n",
       "      <td>10689</td>\n",
       "      <td>10689</td>\n",
       "      <td>10689</td>\n",
       "      <td>10689</td>\n",
       "      <td>10689</td>\n",
       "      <td>10689</td>\n",
       "      <td>10689</td>\n",
       "      <td>10689</td>\n",
       "      <td>10689</td>\n",
       "      <td>10689</td>\n",
       "    </tr>\n",
       "    <tr>\n",
       "      <th>unique</th>\n",
       "      <td>4</td>\n",
       "      <td>2</td>\n",
       "      <td>3</td>\n",
       "      <td>5</td>\n",
       "      <td>59</td>\n",
       "      <td>2</td>\n",
       "      <td>5</td>\n",
       "      <td>2</td>\n",
       "      <td>3</td>\n",
       "      <td>3</td>\n",
       "      <td>3</td>\n",
       "      <td>9</td>\n",
       "      <td>4</td>\n",
       "      <td>4</td>\n",
       "      <td>6</td>\n",
       "      <td>3</td>\n",
       "    </tr>\n",
       "    <tr>\n",
       "      <th>top</th>\n",
       "      <td>west region</td>\n",
       "      <td>no</td>\n",
       "      <td>basic</td>\n",
       "      <td>bachelor</td>\n",
       "      <td>1/27/11</td>\n",
       "      <td>jan</td>\n",
       "      <td>employed</td>\n",
       "      <td>f</td>\n",
       "      <td>suburban</td>\n",
       "      <td>married</td>\n",
       "      <td>personal auto</td>\n",
       "      <td>personal l3</td>\n",
       "      <td>offer1</td>\n",
       "      <td>agent</td>\n",
       "      <td>four-door car</td>\n",
       "      <td>medsize</td>\n",
       "    </tr>\n",
       "    <tr>\n",
       "      <th>freq</th>\n",
       "      <td>3678</td>\n",
       "      <td>9316</td>\n",
       "      <td>6523</td>\n",
       "      <td>3210</td>\n",
       "      <td>236</td>\n",
       "      <td>5684</td>\n",
       "      <td>6658</td>\n",
       "      <td>5469</td>\n",
       "      <td>6742</td>\n",
       "      <td>6199</td>\n",
       "      <td>7937</td>\n",
       "      <td>4006</td>\n",
       "      <td>4394</td>\n",
       "      <td>4019</td>\n",
       "      <td>5424</td>\n",
       "      <td>7528</td>\n",
       "    </tr>\n",
       "  </tbody>\n",
       "</table>\n",
       "</div>"
      ],
      "text/plain": [
       "             region response coverage education effective_to_date  month  \\\n",
       "count         10689    10689    10689     10689             10689  10689   \n",
       "unique            4        2        3         5                59      2   \n",
       "top     west region       no    basic  bachelor           1/27/11    jan   \n",
       "freq           3678     9316     6523      3210               236   5684   \n",
       "\n",
       "       employment_status gender location_code marital_status    policy_type  \\\n",
       "count              10689  10689         10689          10689          10689   \n",
       "unique                 5      2             3              3              3   \n",
       "top             employed      f      suburban        married  personal auto   \n",
       "freq                6658   5469          6742           6199           7937   \n",
       "\n",
       "             policy renew_offer_type sales_channel  vehicle_class vehicle_size  \n",
       "count         10689            10689         10689          10689        10689  \n",
       "unique            9                4             4              6            3  \n",
       "top     personal l3           offer1         agent  four-door car      medsize  \n",
       "freq           4006             4394          4019           5424         7528  "
      ]
     },
     "execution_count": 21,
     "metadata": {},
     "output_type": "execute_result"
    }
   ],
   "source": [
    "#splitting the dataframe\n",
    "\n",
    "num_df = df.select_dtypes(include=[np.number])\n",
    "num_df.head(10)\n",
    "\n",
    "cat_df = df.select_dtypes(exclude=[np.number])\n",
    "cat_df.describe()"
   ]
  },
  {
   "cell_type": "code",
   "execution_count": 11,
   "id": "68383835",
   "metadata": {},
   "outputs": [],
   "source": [
    "#cat_df_encoded = pd.get_dummies(cat_df, drop_first=True)"
   ]
  },
  {
   "cell_type": "code",
   "execution_count": 12,
   "id": "a0d51384",
   "metadata": {},
   "outputs": [
    {
     "data": {
      "text/html": [
       "<div>\n",
       "<style scoped>\n",
       "    .dataframe tbody tr th:only-of-type {\n",
       "        vertical-align: middle;\n",
       "    }\n",
       "\n",
       "    .dataframe tbody tr th {\n",
       "        vertical-align: top;\n",
       "    }\n",
       "\n",
       "    .dataframe thead th {\n",
       "        text-align: right;\n",
       "    }\n",
       "</style>\n",
       "<table border=\"1\" class=\"dataframe\">\n",
       "  <thead>\n",
       "    <tr style=\"text-align: right;\">\n",
       "      <th></th>\n",
       "      <th>region_east</th>\n",
       "      <th>region_north west</th>\n",
       "      <th>region_west region</th>\n",
       "      <th>response_yes</th>\n",
       "      <th>coverage_extended</th>\n",
       "      <th>coverage_premium</th>\n",
       "      <th>education_college</th>\n",
       "      <th>education_doctor</th>\n",
       "      <th>education_high school or below</th>\n",
       "      <th>education_master</th>\n",
       "      <th>...</th>\n",
       "      <th>sales_channel_branch</th>\n",
       "      <th>sales_channel_call center</th>\n",
       "      <th>sales_channel_web</th>\n",
       "      <th>vehicle_class_luxury car</th>\n",
       "      <th>vehicle_class_luxury suv</th>\n",
       "      <th>vehicle_class_sports car</th>\n",
       "      <th>vehicle_class_suv</th>\n",
       "      <th>vehicle_class_two-door car</th>\n",
       "      <th>vehicle_size_medsize</th>\n",
       "      <th>vehicle_size_small</th>\n",
       "    </tr>\n",
       "  </thead>\n",
       "  <tbody>\n",
       "    <tr>\n",
       "      <th>0</th>\n",
       "      <td>0</td>\n",
       "      <td>0</td>\n",
       "      <td>0</td>\n",
       "      <td>0</td>\n",
       "      <td>0</td>\n",
       "      <td>0</td>\n",
       "      <td>1</td>\n",
       "      <td>0</td>\n",
       "      <td>0</td>\n",
       "      <td>0</td>\n",
       "      <td>...</td>\n",
       "      <td>0</td>\n",
       "      <td>0</td>\n",
       "      <td>0</td>\n",
       "      <td>0</td>\n",
       "      <td>0</td>\n",
       "      <td>0</td>\n",
       "      <td>0</td>\n",
       "      <td>0</td>\n",
       "      <td>1</td>\n",
       "      <td>0</td>\n",
       "    </tr>\n",
       "    <tr>\n",
       "      <th>1</th>\n",
       "      <td>0</td>\n",
       "      <td>0</td>\n",
       "      <td>1</td>\n",
       "      <td>0</td>\n",
       "      <td>0</td>\n",
       "      <td>0</td>\n",
       "      <td>1</td>\n",
       "      <td>0</td>\n",
       "      <td>0</td>\n",
       "      <td>0</td>\n",
       "      <td>...</td>\n",
       "      <td>0</td>\n",
       "      <td>1</td>\n",
       "      <td>0</td>\n",
       "      <td>0</td>\n",
       "      <td>0</td>\n",
       "      <td>0</td>\n",
       "      <td>0</td>\n",
       "      <td>0</td>\n",
       "      <td>1</td>\n",
       "      <td>0</td>\n",
       "    </tr>\n",
       "    <tr>\n",
       "      <th>2</th>\n",
       "      <td>1</td>\n",
       "      <td>0</td>\n",
       "      <td>0</td>\n",
       "      <td>0</td>\n",
       "      <td>0</td>\n",
       "      <td>0</td>\n",
       "      <td>0</td>\n",
       "      <td>0</td>\n",
       "      <td>0</td>\n",
       "      <td>0</td>\n",
       "      <td>...</td>\n",
       "      <td>0</td>\n",
       "      <td>1</td>\n",
       "      <td>0</td>\n",
       "      <td>0</td>\n",
       "      <td>0</td>\n",
       "      <td>0</td>\n",
       "      <td>1</td>\n",
       "      <td>0</td>\n",
       "      <td>1</td>\n",
       "      <td>0</td>\n",
       "    </tr>\n",
       "    <tr>\n",
       "      <th>3</th>\n",
       "      <td>0</td>\n",
       "      <td>1</td>\n",
       "      <td>0</td>\n",
       "      <td>1</td>\n",
       "      <td>1</td>\n",
       "      <td>0</td>\n",
       "      <td>1</td>\n",
       "      <td>0</td>\n",
       "      <td>0</td>\n",
       "      <td>0</td>\n",
       "      <td>...</td>\n",
       "      <td>1</td>\n",
       "      <td>0</td>\n",
       "      <td>0</td>\n",
       "      <td>0</td>\n",
       "      <td>0</td>\n",
       "      <td>0</td>\n",
       "      <td>0</td>\n",
       "      <td>0</td>\n",
       "      <td>1</td>\n",
       "      <td>0</td>\n",
       "    </tr>\n",
       "    <tr>\n",
       "      <th>4</th>\n",
       "      <td>0</td>\n",
       "      <td>1</td>\n",
       "      <td>0</td>\n",
       "      <td>0</td>\n",
       "      <td>0</td>\n",
       "      <td>1</td>\n",
       "      <td>0</td>\n",
       "      <td>0</td>\n",
       "      <td>0</td>\n",
       "      <td>0</td>\n",
       "      <td>...</td>\n",
       "      <td>1</td>\n",
       "      <td>0</td>\n",
       "      <td>0</td>\n",
       "      <td>0</td>\n",
       "      <td>0</td>\n",
       "      <td>0</td>\n",
       "      <td>0</td>\n",
       "      <td>0</td>\n",
       "      <td>1</td>\n",
       "      <td>0</td>\n",
       "    </tr>\n",
       "  </tbody>\n",
       "</table>\n",
       "<p>5 rows × 101 columns</p>\n",
       "</div>"
      ],
      "text/plain": [
       "   region_east  region_north west  region_west region  response_yes  \\\n",
       "0            0                  0                   0             0   \n",
       "1            0                  0                   1             0   \n",
       "2            1                  0                   0             0   \n",
       "3            0                  1                   0             1   \n",
       "4            0                  1                   0             0   \n",
       "\n",
       "   coverage_extended  coverage_premium  education_college  education_doctor  \\\n",
       "0                  0                 0                  1                 0   \n",
       "1                  0                 0                  1                 0   \n",
       "2                  0                 0                  0                 0   \n",
       "3                  1                 0                  1                 0   \n",
       "4                  0                 1                  0                 0   \n",
       "\n",
       "   education_high school or below  education_master  ...  \\\n",
       "0                               0                 0  ...   \n",
       "1                               0                 0  ...   \n",
       "2                               0                 0  ...   \n",
       "3                               0                 0  ...   \n",
       "4                               0                 0  ...   \n",
       "\n",
       "   sales_channel_branch  sales_channel_call center  sales_channel_web  \\\n",
       "0                     0                          0                  0   \n",
       "1                     0                          1                  0   \n",
       "2                     0                          1                  0   \n",
       "3                     1                          0                  0   \n",
       "4                     1                          0                  0   \n",
       "\n",
       "   vehicle_class_luxury car  vehicle_class_luxury suv  \\\n",
       "0                         0                         0   \n",
       "1                         0                         0   \n",
       "2                         0                         0   \n",
       "3                         0                         0   \n",
       "4                         0                         0   \n",
       "\n",
       "   vehicle_class_sports car  vehicle_class_suv  vehicle_class_two-door car  \\\n",
       "0                         0                  0                           0   \n",
       "1                         0                  0                           0   \n",
       "2                         0                  1                           0   \n",
       "3                         0                  0                           0   \n",
       "4                         0                  0                           0   \n",
       "\n",
       "   vehicle_size_medsize  vehicle_size_small  \n",
       "0                     1                   0  \n",
       "1                     1                   0  \n",
       "2                     1                   0  \n",
       "3                     1                   0  \n",
       "4                     1                   0  \n",
       "\n",
       "[5 rows x 101 columns]"
      ]
     },
     "execution_count": 12,
     "metadata": {},
     "output_type": "execute_result"
    }
   ],
   "source": [
    "cat_df_encoded.head()"
   ]
  },
  {
   "cell_type": "code",
   "execution_count": 22,
   "id": "f8cc1192",
   "metadata": {},
   "outputs": [
    {
     "data": {
      "text/plain": [
       "array(['college', 'bachelor', 'high school or below', 'doctor', 'master'],\n",
       "      dtype=object)"
      ]
     },
     "execution_count": 22,
     "metadata": {},
     "output_type": "execute_result"
    }
   ],
   "source": [
    "cat_df['education'].unique()"
   ]
  },
  {
   "cell_type": "code",
   "execution_count": 26,
   "id": "794a3aa4",
   "metadata": {},
   "outputs": [],
   "source": [
    "   education_map = {\"high school or below\":0, \"college\":1, \"bachelor\":1, \"master\":2, \"doctor\":3}\n",
    "   cat_df[\"education\"] = cat_df[\"education\"].replace(education_map)"
   ]
  },
  {
   "cell_type": "code",
   "execution_count": 27,
   "id": "90136d3d",
   "metadata": {},
   "outputs": [
    {
     "data": {
      "text/plain": [
       "array([1, 0, 3, 2])"
      ]
     },
     "execution_count": 27,
     "metadata": {},
     "output_type": "execute_result"
    }
   ],
   "source": [
    " cat_df[\"education\"].unique()"
   ]
  },
  {
   "cell_type": "code",
   "execution_count": 32,
   "id": "c61032d3",
   "metadata": {},
   "outputs": [],
   "source": [
    "cat_df.replace({'offer1':1, 'offer2':2, 'offer3':3, 'offer4':4}, inplace=True)"
   ]
  },
  {
   "cell_type": "code",
   "execution_count": 33,
   "id": "a623e6e1",
   "metadata": {},
   "outputs": [],
   "source": [
    "cat_df.replace({'small':0, 'medsize':1, 'large':2}, inplace=True)"
   ]
  },
  {
   "cell_type": "code",
   "execution_count": 34,
   "id": "bbed95cf",
   "metadata": {},
   "outputs": [],
   "source": [
    "cat_df_encoded = pd.get_dummies(cat_df, drop_first=True)"
   ]
  },
  {
   "cell_type": "code",
   "execution_count": null,
   "id": "35a8c43c",
   "metadata": {},
   "outputs": [],
   "source": []
  },
  {
   "cell_type": "code",
   "execution_count": null,
   "id": "5f4bae3e",
   "metadata": {},
   "outputs": [],
   "source": []
  },
  {
   "cell_type": "code",
   "execution_count": 49,
   "id": "63286c65",
   "metadata": {},
   "outputs": [],
   "source": [
    "varA = num_df['income']\n",
    "varB = num_df['customer_lifetime_value']"
   ]
  },
  {
   "cell_type": "code",
   "execution_count": 41,
   "id": "867e3310",
   "metadata": {},
   "outputs": [
    {
     "data": {
      "text/plain": [
       "MinMaxScaler()"
      ]
     },
     "execution_count": 41,
     "metadata": {},
     "output_type": "execute_result"
    }
   ],
   "source": [
    "scaler = MinMaxScaler()\n",
    "scaler.fit(num_df[['income']])"
   ]
  },
  {
   "cell_type": "code",
   "execution_count": 50,
   "id": "e5aa8559",
   "metadata": {},
   "outputs": [],
   "source": [
    "num_df['income_scaled'] = scaler.transform(num_df[['income']])\n",
    "#varA_scaled = minmax_scale(varA)"
   ]
  },
  {
   "cell_type": "code",
   "execution_count": 43,
   "id": "9debe95d",
   "metadata": {},
   "outputs": [
    {
     "data": {
      "text/plain": [
       "0        0.422396\n",
       "1        0.914158\n",
       "2        0.134550\n",
       "3        0.434059\n",
       "4        0.151628\n",
       "           ...   \n",
       "10684    0.572623\n",
       "10685    0.568231\n",
       "10686    0.331317\n",
       "10687    0.602130\n",
       "10688    0.654907\n",
       "Name: income_scaled, Length: 10689, dtype: float64"
      ]
     },
     "execution_count": 43,
     "metadata": {},
     "output_type": "execute_result"
    }
   ],
   "source": [
    "num_df['income_scaled']"
   ]
  },
  {
   "cell_type": "code",
   "execution_count": 44,
   "id": "64a54944",
   "metadata": {},
   "outputs": [
    {
     "data": {
      "text/plain": [
       "<AxesSubplot:xlabel='income_scaled', ylabel='Count'>"
      ]
     },
     "execution_count": 44,
     "metadata": {},
     "output_type": "execute_result"
    },
    {
     "data": {
      "image/png": "[encoded data removed]",
      "text/plain": [
       "<Figure size 640x480 with 1 Axes>"
      ]
     },
     "metadata": {},
     "output_type": "display_data"
    }
   ],
   "source": [
    "sns.histplot(data=num_df, x='income_scaled', kde=True)\n"
   ]
  },
  {
   "cell_type": "code",
   "execution_count": null,
   "id": "b263f8fc",
   "metadata": {},
   "outputs": [],
   "source": [
    "varB = num_df['customer_lifetime_value']"
   ]
  },
  {
   "cell_type": "code",
   "execution_count": 59,
   "id": "395ba809",
   "metadata": {},
   "outputs": [
    {
     "data": {
      "text/plain": [
       "StandardScaler()"
      ]
     },
     "execution_count": 59,
     "metadata": {},
     "output_type": "execute_result"
    }
   ],
   "source": [
    "scaler_standard = StandardScaler()\n",
    "scaler_standard.fit(num_df[['customer_lifetime_value']])"
   ]
  },
  {
   "cell_type": "code",
   "execution_count": 70,
   "id": "6310da66",
   "metadata": {},
   "outputs": [
    {
     "data": {
      "text/plain": [
       "count    10689.0\n",
       "mean         0.0\n",
       "std          1.0\n",
       "min         -1.0\n",
       "25%         -1.0\n",
       "50%         -0.0\n",
       "75%          0.0\n",
       "max         11.0\n",
       "Name: customer_lifetime_value_scaled_standard, dtype: float64"
      ]
     },
     "execution_count": 70,
     "metadata": {},
     "output_type": "execute_result"
    }
   ],
   "source": [
    "num_df['customer_lifetime_value_scaled_standard'] = scaler_standard.transform(num_df[['customer_lifetime_value']])\n",
    "num_df['customer_lifetime_value_scaled_standard'].describe().round()\n"
   ]
  },
  {
   "cell_type": "code",
   "execution_count": 63,
   "id": "9ddaa371",
   "metadata": {},
   "outputs": [
    {
     "data": {
      "text/plain": [
       "PowerTransformer()"
      ]
     },
     "execution_count": 63,
     "metadata": {},
     "output_type": "execute_result"
    }
   ],
   "source": [
    "pt = PowerTransformer\n",
    "pt = PowerTransformer(method='yeo-johnson') \n",
    "pt.fit(num_df[['customer_lifetime_value']])"
   ]
  },
  {
   "cell_type": "code",
   "execution_count": 64,
   "id": "7c49fe86",
   "metadata": {},
   "outputs": [],
   "source": [
    "num_df['customer_lifetime_value_pt'] = pt.transform(num_df[['customer_lifetime_value']])"
   ]
  },
  {
   "cell_type": "code",
   "execution_count": 69,
   "id": "5727b5c8",
   "metadata": {},
   "outputs": [
    {
     "data": {
      "text/plain": [
       "count    10689.0\n",
       "mean         0.0\n",
       "std          1.0\n",
       "min         -2.0\n",
       "25%         -1.0\n",
       "50%         -0.0\n",
       "75%          1.0\n",
       "max          3.0\n",
       "Name: customer_lifetime_value_pt, dtype: float64"
      ]
     },
     "execution_count": 69,
     "metadata": {},
     "output_type": "execute_result"
    }
   ],
   "source": [
    "num_df['customer_lifetime_value_pt'].describe().round()"
   ]
  },
  {
   "cell_type": "code",
   "execution_count": 66,
   "id": "64d3d37a",
   "metadata": {},
   "outputs": [
    {
     "data": {
      "text/plain": [
       "<AxesSubplot:xlabel='customer_lifetime_value_pt', ylabel='Count'>"
      ]
     },
     "execution_count": 66,
     "metadata": {},
     "output_type": "execute_result"
    },
    {
     "data": {
      "image/png": "[encoded data removed]",
      "text/plain": [
       "<Figure size 640x480 with 1 Axes>"
      ]
     },
     "metadata": {},
     "output_type": "display_data"
    }
   ],
   "source": [
    "sns.histplot(data=num_df, x='customer_lifetime_value_pt', kde=True)\n"
   ]
  },
  {
   "cell_type": "code",
   "execution_count": null,
   "id": "9dad2406",
   "metadata": {},
   "outputs": [],
   "source": []
  }
 ],
 "metadata": {
  "kernelspec": {
   "display_name": "base",
   "language": "python",
   "name": "python3"
  },
  "language_info": {
   "codemirror_mode": {
    "name": "ipython",
    "version": 3
   },
   "file_extension": ".py",
   "mimetype": "text/x-python",
   "name": "python",
   "nbconvert_exporter": "python",
   "pygments_lexer": "ipython3",
   "version": "3.9.13"
  },
  "vscode": {
   "interpreter": {
    "hash": "40d3a090f54c6569ab1632332b64b2c03c39dcf918b08424e98f38b5ae0af88f"
   }
  }
 },
 "nbformat": 4,
 "nbformat_minor": 5
}
