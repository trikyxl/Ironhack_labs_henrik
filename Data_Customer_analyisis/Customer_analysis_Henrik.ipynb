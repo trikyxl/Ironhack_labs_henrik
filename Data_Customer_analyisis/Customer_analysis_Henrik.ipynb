{
 "cells": [
  {
   "cell_type": "code",
   "execution_count": null,
   "id": "05969ec5",
   "metadata": {},
   "outputs": [],
   "source": [
    "#importing all the stuff\n",
    "\n",
    "import numpy as np\n",
    "import math as math\n",
    "import pandas as pd\n",
    "import matplotlib.pyplot as plt\n",
    "%matplotlib inline\n",
    "import seaborn as sns\n",
    "import statsmodels.api as sm\n",
    "from scipy.stats import boxcox\n",
    "pd.options.display.max_rows = 100\n",
    "\n",
    "\n",
    "def lower_case_column_names(df):\n",
    "    df.columns=[i.lower() for i in df.columns]\n",
    "    return df\n",
    "\n",
    "def clean_state_column(dataframe):\n",
    "    dataframe.rename(columns={'st':'state'}, inplace=True)\n",
    "    return dataframe"
   ]
  },
  {
   "cell_type": "code",
   "execution_count": null,
   "id": "967eaa1c",
   "metadata": {},
   "outputs": [],
   "source": [
    "#lowercasing and indexing the columns of the three different files\n",
    "\n",
    "file1 = pd.read_csv('file1.csv')\n",
    "file1 = lower_case_column_names(file1)\n",
    "file1 = file1 = file1.sort_index(axis=1)\n",
    "clean_state_column(file1)"
   ]
  },
  {
   "cell_type": "code",
   "execution_count": null,
   "id": "6aba8ad7",
   "metadata": {},
   "outputs": [],
   "source": [
    "file2 = pd.read_csv('file2.csv')\n",
    "file2 = lower_case_column_names(file2)\n",
    "file2 = file2 = file2.sort_index(axis=1)\n",
    "clean_state_column(file2)"
   ]
  },
  {
   "cell_type": "code",
   "execution_count": null,
   "id": "0018c5bc",
   "metadata": {},
   "outputs": [],
   "source": [
    "file3 = pd.read_csv('file3.csv')\n",
    "file3 = lower_case_column_names(file3)\n",
    "file3 = file3 = file3.sort_index(axis=1)\n",
    "clean_state_column(file3)"
   ]
  },
  {
   "cell_type": "code",
   "execution_count": null,
   "id": "98d2aa7a",
   "metadata": {},
   "outputs": [],
   "source": []
  },
  {
   "cell_type": "code",
   "execution_count": null,
   "id": "639be6e8",
   "metadata": {},
   "outputs": [],
   "source": [
    "#ensuring all have the same format and merging\n",
    "file1.columns == file2.columns\n",
    "file2.columns == file3.columns"
   ]
  },
  {
   "cell_type": "code",
   "execution_count": null,
   "id": "a1045bd9",
   "metadata": {},
   "outputs": [],
   "source": [
    "df = pd.concat([file1,file2,file3], axis=0)\n",
    "df\n"
   ]
  },
  {
   "cell_type": "code",
   "execution_count": null,
   "id": "05068dcf",
   "metadata": {},
   "outputs": [],
   "source": [
    "\n",
    "#drop duplicatees and unnecessary columns\n",
    "df = df.drop_duplicates()\n",
    "df = df.drop(\"customer\", axis=1)\n"
   ]
  },
  {
   "cell_type": "code",
   "execution_count": null,
   "id": "274fadec",
   "metadata": {},
   "outputs": [],
   "source": [
    "df.info()"
   ]
  },
  {
   "cell_type": "code",
   "execution_count": null,
   "id": "f62cd482",
   "metadata": {},
   "outputs": [],
   "source": [
    "#cleaning some data\n",
    "\n",
    "\n",
    "df['customer lifetime value'] = (\n",
    "    df['customer lifetime value'].apply(lambda x: float(x.replace('%', ''))/100 if type(x) == str else x))\n",
    "#convert Customer Lifetime Value into integer by first converting it into float\n",
    "df['customer lifetime value'] = pd.to_numeric(df[\"customer lifetime value\"], errors = 'coerce')\n",
    "df['customer lifetime value'] = df['customer lifetime value'].apply(lambda x: math.trunc(x) if np.isnan(x) != True else 0)\n",
    "\n",
    "df.info()"
   ]
  },
  {
   "cell_type": "code",
   "execution_count": null,
   "id": "91199a1e",
   "metadata": {},
   "outputs": [],
   "source": [
    "#cleaning all the states\n",
    "df[\"state\"].unique()\n"
   ]
  },
  {
   "cell_type": "code",
   "execution_count": null,
   "id": "bac45756",
   "metadata": {},
   "outputs": [],
   "source": [
    "def clean_state(x):\n",
    "    if x in ['AZ', 'Arizona']:\n",
    "        return 'Arizona'\n",
    "    elif x in ['Cali', 'California']:\n",
    "        return 'California'\n",
    "    elif x in ['Washington', 'WA']:\n",
    "        return 'Washington'\n",
    "    elif x in ['Nevada']:\n",
    "        return 'Nevada'\n",
    "    elif x in ['Oregon']:\n",
    "        return 'Oregon'\n",
    "        "
   ]
  },
  {
   "cell_type": "code",
   "execution_count": null,
   "id": "5f1002a2",
   "metadata": {},
   "outputs": [],
   "source": [
    "df['state'] = list(map(clean_state, df['state'])) "
   ]
  },
  {
   "cell_type": "code",
   "execution_count": null,
   "id": "b2f5759d",
   "metadata": {},
   "outputs": [],
   "source": [
    "df['state'].unique()"
   ]
  },
  {
   "cell_type": "code",
   "execution_count": null,
   "id": "dddf0267",
   "metadata": {},
   "outputs": [],
   "source": [
    "#cleaning the gender column\n",
    "df[\"gender\"].unique()"
   ]
  },
  {
   "cell_type": "code",
   "execution_count": null,
   "id": "0c1b11f3",
   "metadata": {},
   "outputs": [],
   "source": [
    "def clean_gender(x):\n",
    "    if x in ['M', 'Male']:\n",
    "        return 'M'\n",
    "    elif x in ['F', 'Femal', 'female']:\n",
    "        return 'F'\n",
    "    else:\n",
    "        return 'NaN'"
   ]
  },
  {
   "cell_type": "code",
   "execution_count": null,
   "id": "439964df",
   "metadata": {},
   "outputs": [],
   "source": [
    "df['gender'] = list(map(clean_gender, df['gender'])) \n",
    "df['gender'].value_counts()"
   ]
  },
  {
   "cell_type": "code",
   "execution_count": null,
   "id": "bbc615ab",
   "metadata": {},
   "outputs": [],
   "source": [
    "#cleaning the number of open complaints by extracting the middle number\n",
    "\n",
    "\n",
    "\n",
    "df['number of open complaints'] = df['number of open complaints'].astype(str).str.replace('(.*)/0/(.*)','0', regex=True)\n"
   ]
  },
  {
   "cell_type": "code",
   "execution_count": null,
   "id": "90ff912a",
   "metadata": {},
   "outputs": [],
   "source": [
    "df['number of open complaints'] = df['number of open complaints'].astype(str).str.replace('(.*)/1/(.*)','1', regex=True)\n"
   ]
  },
  {
   "cell_type": "code",
   "execution_count": null,
   "id": "7be36705",
   "metadata": {},
   "outputs": [],
   "source": [
    "df['number of open complaints'] = df['number of open complaints'].astype(str).str.replace('(.*)/2/(.*)','2', regex=True)\n"
   ]
  },
  {
   "cell_type": "code",
   "execution_count": null,
   "id": "f76608c2",
   "metadata": {},
   "outputs": [],
   "source": [
    "df['number of open complaints'] = df['number of open complaints'].astype(str).str.replace('(.*)/3/(.*)','3', regex=True)\n"
   ]
  },
  {
   "cell_type": "code",
   "execution_count": null,
   "id": "4fa224c4",
   "metadata": {},
   "outputs": [],
   "source": [
    "df['number of open complaints'] = df['number of open complaints'].astype(str).str.replace('(.*)/4/(.*)','4', regex=True)\n"
   ]
  },
  {
   "cell_type": "code",
   "execution_count": null,
   "id": "9d97b43d",
   "metadata": {},
   "outputs": [],
   "source": [
    "df['number of open complaints'] = df['number of open complaints'].astype(str).str.replace('(.*)/5/(.*)','5', regex=True)"
   ]
  },
  {
   "cell_type": "code",
   "execution_count": null,
   "id": "f5bdd8f7",
   "metadata": {},
   "outputs": [],
   "source": [
    "df['number of open complaints'] =  pd.to_numeric(df['number of open complaints'], errors='coerce')"
   ]
  },
  {
   "cell_type": "code",
   "execution_count": null,
   "id": "22409b05",
   "metadata": {},
   "outputs": [],
   "source": [
    "df.info()\n",
    "#df.reset_index()"
   ]
  },
  {
   "cell_type": "code",
   "execution_count": null,
   "id": "eaeb7865",
   "metadata": {},
   "outputs": [],
   "source": [
    "df['number of open complaints'].value_counts()"
   ]
  },
  {
   "cell_type": "code",
   "execution_count": null,
   "id": "fd7db060",
   "metadata": {},
   "outputs": [],
   "source": [
    "#cleaning the income column, replacing 0 with NaN, replacing NaN with the mean\n",
    "\n",
    "df['income'] = df['income'].replace(0, np.nan)\n",
    "df"
   ]
  },
  {
   "cell_type": "code",
   "execution_count": null,
   "id": "de68874c",
   "metadata": {},
   "outputs": [],
   "source": [
    "df['total claim amount'] = pd.to_numeric(df['total claim amount'], errors='coerce')\n",
    "mean_tca = df['total claim amount'].mean()\n",
    "mean_tca\n",
    "df['income'] = pd.to_numeric(df['income'], errors='coerce')\n",
    "#mean_i = df['income'].mean()\n",
    "#mean_i"
   ]
  },
  {
   "cell_type": "code",
   "execution_count": null,
   "id": "b7ccc175",
   "metadata": {},
   "outputs": [],
   "source": [
    "#replacing the missing values of total claim amount with the mean of tca\n",
    "\n",
    "\n",
    "df['total claim amount'] = df['total claim amount'].fillna(mean_tca)\n",
    "df['total claim amount'].value_counts()\n",
    "df.info()"
   ]
  },
  {
   "cell_type": "code",
   "execution_count": null,
   "id": "e9024b7b",
   "metadata": {},
   "outputs": [],
   "source": [
    "#replacing the missing values of income with the mean of income\n",
    "\n",
    "\n",
    "df['income'] = df['income'].fillna(df['income'].mean())\n",
    "df['income'].value_counts()"
   ]
  },
  {
   "cell_type": "code",
   "execution_count": null,
   "id": "31c4ae26",
   "metadata": {},
   "outputs": [],
   "source": [
    "#replacing the missing values of monthly premium auto with the mean of monthly premium auto\n",
    "\n",
    "df['monthly premium auto'] = df['monthly premium auto'].fillna(df['monthly premium auto'].mean())\n",
    "df['monthly premium auto']"
   ]
  },
  {
   "cell_type": "code",
   "execution_count": null,
   "id": "2fbaa7d3",
   "metadata": {},
   "outputs": [],
   "source": [
    "#replacing the missing values of customer lifetime value\n",
    "df['customer lifetime value'] = df['customer lifetime value'].fillna(df['customer lifetime value'].mean())\n",
    "df['customer lifetime value']"
   ]
  },
  {
   "cell_type": "code",
   "execution_count": null,
   "id": "92ff20dc",
   "metadata": {},
   "outputs": [],
   "source": [
    "#converting state into regions via function\n",
    "df = df.rename(columns={'state': 'region'})"
   ]
  },
  {
   "cell_type": "code",
   "execution_count": null,
   "id": "b62b8f6c",
   "metadata": {},
   "outputs": [],
   "source": [
    "def state_region(x):\n",
    "    if x in ['California']:\n",
    "        return 'West'\n",
    "    elif x in ['Oregon']:\n",
    "        return 'Northwest'\n",
    "    elif x in ['Washington']:\n",
    "        return 'East'\n",
    "    elif x in ['Arizona', 'Nevada']:\n",
    "        return 'Central'\n",
    "\n",
    "#state_dict = {}"
   ]
  },
  {
   "cell_type": "code",
   "execution_count": null,
   "id": "bace3c54",
   "metadata": {},
   "outputs": [],
   "source": [
    "df['region'] = list(map(state_region, df['region']))\n",
    "df.head()\n"
   ]
  },
  {
   "cell_type": "code",
   "execution_count": null,
   "id": "ec69efbc",
   "metadata": {},
   "outputs": [],
   "source": [
    "#clean the vehicle class by merging the luxury classes\n",
    "df['vehicle class'].unique()"
   ]
  },
  {
   "cell_type": "code",
   "execution_count": null,
   "id": "d596282f",
   "metadata": {},
   "outputs": [],
   "source": [
    "#merge the ctaegories\n",
    "merge_dict = {'Luxury SUV': 'Luxury Vehicle', 'Luxury Car': 'Luxury Vehicle'}\n",
    "df['vehicle class'] = df['vehicle class'].replace(merge_dict)"
   ]
  },
  {
   "cell_type": "code",
   "execution_count": null,
   "id": "6dbf5a9b",
   "metadata": {},
   "outputs": [],
   "source": [
    "#df['vehicle class'].unique()\n",
    "df.head(100)"
   ]
  },
  {
   "cell_type": "code",
   "execution_count": null,
   "id": "b4aafc2f",
   "metadata": {},
   "outputs": [],
   "source": []
  },
  {
   "cell_type": "code",
   "execution_count": null,
   "id": "931d8e95",
   "metadata": {},
   "outputs": [],
   "source": [
    "#removing the outliers with the help of the zscore\n",
    "from scipy.stats import zscore"
   ]
  },
  {
   "cell_type": "code",
   "execution_count": null,
   "id": "2a125b1c",
   "metadata": {},
   "outputs": [],
   "source": [
    "\n",
    "\n",
    "z = np.abs(zscore(df['monthly premium auto']))\n",
    "df = df[(z < 2.698)]\n"
   ]
  },
  {
   "cell_type": "code",
   "execution_count": null,
   "id": "f4b812ad",
   "metadata": {},
   "outputs": [],
   "source": [
    "#y = np.abs(zscore(df['total claim amount']))\n",
    "#df = df[(y < 2.698)]"
   ]
  },
  {
   "cell_type": "code",
   "execution_count": null,
   "id": "c2b23a1e",
   "metadata": {},
   "outputs": [],
   "source": [
    "x = np.abs(zscore(df['income']))\n",
    "df = df[(x < 2.698)]"
   ]
  },
  {
   "cell_type": "code",
   "execution_count": null,
   "id": "62fad6a9",
   "metadata": {},
   "outputs": [],
   "source": [
    "df.info()"
   ]
  },
  {
   "cell_type": "code",
   "execution_count": null,
   "id": "354cb384",
   "metadata": {},
   "outputs": [],
   "source": [
    "#rounding the numbers\n",
    "df['income'] = df['income'].round()\n",
    "df['total claim amount'] = df['total claim amount'].round()\n",
    "df['customer lifetime value'] = df['customer lifetime value'].round(1)"
   ]
  },
  {
   "cell_type": "code",
   "execution_count": null,
   "id": "832c5509",
   "metadata": {},
   "outputs": [],
   "source": [
    "#standardizing the text to lower case\n",
    "\n",
    "df['education'] = df['education'].str.lower()\n",
    "df['gender'] = df['gender'].str.lower()\n",
    "df['policy type'] = df['policy type'].str.lower()\n",
    "df['region'] = df['region'].str.lower()\n",
    "df['vehicle class'] = df['vehicle class'].str.lower()"
   ]
  },
  {
   "cell_type": "code",
   "execution_count": null,
   "id": "7a0b09a9",
   "metadata": {},
   "outputs": [],
   "source": [
    "df.head()"
   ]
  }
 ],
 "metadata": {
  "kernelspec": {
   "display_name": "base",
   "language": "python",
   "name": "python3"
  },
  "language_info": {
   "codemirror_mode": {
    "name": "ipython",
    "version": 3
   },
   "file_extension": ".py",
   "mimetype": "text/x-python",
   "name": "python",
   "nbconvert_exporter": "python",
   "pygments_lexer": "ipython3",
   "version": "3.9.13"
  },
  "vscode": {
   "interpreter": {
    "hash": "40d3a090f54c6569ab1632332b64b2c03c39dcf918b08424e98f38b5ae0af88f"
   }
  }
 },
 "nbformat": 4,
 "nbformat_minor": 5
}
