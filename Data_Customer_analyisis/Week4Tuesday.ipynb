{
 "cells": [
  {
   "cell_type": "code",
   "execution_count": 1,
   "id": "8c2c5b00",
   "metadata": {},
   "outputs": [],
   "source": [
    "import numpy as np\n",
    "import pandas as pd\n",
    "import matplotlib.pyplot as plt\n",
    "%matplotlib inline\n",
    "import seaborn as sns\n",
    "import statsmodels.api as sm\n",
    "from scipy.stats import boxcox\n",
    "import sklearn as sk\n",
    "from sklearn.preprocessing import MinMaxScaler\n",
    "from sklearn.preprocessing import PowerTransformer, StandardScaler, minmax_scale\n",
    "import numpy as np\n",
    "import pandas as pd\n",
    "import matplotlib.pyplot as plt\n",
    "%matplotlib inline\n",
    "import seaborn as sns\n",
    "from sklearn.preprocessing import PowerTransformer\n",
    "from sklearn.compose import ColumnTransformer\n",
    "from sklearn.linear_model import LinearRegression\n",
    "from sklearn.model_selection import train_test_split\n",
    "\n",
    "import statsmodels.api as sm\n",
    "from sklearn.metrics import r2_score\n",
    "from sklearn.metrics import mean_squared_error as mse\n",
    "from sklearn.metrics import mean_absolute_error as mae\n",
    "pd.options.display.max_rows = 50\n",
    "pd.options.display.max_rows = 100"
   ]
  },
  {
   "cell_type": "code",
   "execution_count": 2,
   "id": "5dd981aa",
   "metadata": {},
   "outputs": [],
   "source": [
    "RAND_STATE = 34 # for reproducible shuffling\n",
    "TT_RATIO = 0.3 # test/train\n",
    "\n"
   ]
  },
  {
   "cell_type": "code",
   "execution_count": 5,
   "id": "70254bdf",
   "metadata": {},
   "outputs": [
    {
     "data": {
      "text/plain": [
       "Index(['region', 'customer_lifetime_value', 'response', 'coverage',\n",
       "       'education', 'effective_to_date', 'month', 'employment_status',\n",
       "       'gender', 'income', 'location_code', 'marital_status',\n",
       "       'monthly_premium_auto', 'months_since_last_claim',\n",
       "       'months_since_policy_inception', 'number_of_open_complaints',\n",
       "       'number_of_policies', 'policy_type', 'policy', 'renew_offer_type',\n",
       "       'sales_channel', 'total_claim_amount', 'vehicle_class', 'vehicle_size'],\n",
       "      dtype='object')"
      ]
     },
     "execution_count": 5,
     "metadata": {},
     "output_type": "execute_result"
    }
   ],
   "source": [
    "df = pd.read_csv('Data_Marketing_Customer_Analysis_Round3.csv')\n",
    "df.columns\n",
    "\n"
   ]
  },
  {
   "cell_type": "code",
   "execution_count": 6,
   "id": "686a1be9",
   "metadata": {},
   "outputs": [
    {
     "data": {
      "text/html": [
       "<div>\n",
       "<style scoped>\n",
       "    .dataframe tbody tr th:only-of-type {\n",
       "        vertical-align: middle;\n",
       "    }\n",
       "\n",
       "    .dataframe tbody tr th {\n",
       "        vertical-align: top;\n",
       "    }\n",
       "\n",
       "    .dataframe thead th {\n",
       "        text-align: right;\n",
       "    }\n",
       "</style>\n",
       "<table border=\"1\" class=\"dataframe\">\n",
       "  <thead>\n",
       "    <tr style=\"text-align: right;\">\n",
       "      <th></th>\n",
       "      <th>customer_lifetime_value</th>\n",
       "      <th>income</th>\n",
       "      <th>monthly_premium_auto</th>\n",
       "      <th>months_since_last_claim</th>\n",
       "      <th>months_since_policy_inception</th>\n",
       "      <th>number_of_open_complaints</th>\n",
       "      <th>number_of_policies</th>\n",
       "      <th>total_claim_amount</th>\n",
       "    </tr>\n",
       "  </thead>\n",
       "  <tbody>\n",
       "    <tr>\n",
       "      <th>0</th>\n",
       "      <td>4809</td>\n",
       "      <td>48029</td>\n",
       "      <td>61</td>\n",
       "      <td>7</td>\n",
       "      <td>52</td>\n",
       "      <td>0</td>\n",
       "      <td>9</td>\n",
       "      <td>292</td>\n",
       "    </tr>\n",
       "    <tr>\n",
       "      <th>1</th>\n",
       "      <td>2228</td>\n",
       "      <td>92260</td>\n",
       "      <td>64</td>\n",
       "      <td>3</td>\n",
       "      <td>26</td>\n",
       "      <td>0</td>\n",
       "      <td>1</td>\n",
       "      <td>744</td>\n",
       "    </tr>\n",
       "    <tr>\n",
       "      <th>2</th>\n",
       "      <td>14947</td>\n",
       "      <td>22139</td>\n",
       "      <td>100</td>\n",
       "      <td>34</td>\n",
       "      <td>31</td>\n",
       "      <td>0</td>\n",
       "      <td>2</td>\n",
       "      <td>480</td>\n",
       "    </tr>\n",
       "    <tr>\n",
       "      <th>3</th>\n",
       "      <td>22332</td>\n",
       "      <td>49078</td>\n",
       "      <td>97</td>\n",
       "      <td>10</td>\n",
       "      <td>3</td>\n",
       "      <td>0</td>\n",
       "      <td>2</td>\n",
       "      <td>484</td>\n",
       "    </tr>\n",
       "    <tr>\n",
       "      <th>4</th>\n",
       "      <td>9025</td>\n",
       "      <td>23675</td>\n",
       "      <td>117</td>\n",
       "      <td>33</td>\n",
       "      <td>31</td>\n",
       "      <td>0</td>\n",
       "      <td>7</td>\n",
       "      <td>707</td>\n",
       "    </tr>\n",
       "    <tr>\n",
       "      <th>5</th>\n",
       "      <td>4745</td>\n",
       "      <td>50549</td>\n",
       "      <td>61</td>\n",
       "      <td>2</td>\n",
       "      <td>73</td>\n",
       "      <td>0</td>\n",
       "      <td>7</td>\n",
       "      <td>292</td>\n",
       "    </tr>\n",
       "    <tr>\n",
       "      <th>6</th>\n",
       "      <td>5035</td>\n",
       "      <td>37405</td>\n",
       "      <td>63</td>\n",
       "      <td>8</td>\n",
       "      <td>99</td>\n",
       "      <td>3</td>\n",
       "      <td>4</td>\n",
       "      <td>287</td>\n",
       "    </tr>\n",
       "    <tr>\n",
       "      <th>7</th>\n",
       "      <td>4956</td>\n",
       "      <td>87197</td>\n",
       "      <td>63</td>\n",
       "      <td>35</td>\n",
       "      <td>45</td>\n",
       "      <td>0</td>\n",
       "      <td>3</td>\n",
       "      <td>247</td>\n",
       "    </tr>\n",
       "    <tr>\n",
       "      <th>8</th>\n",
       "      <td>5989</td>\n",
       "      <td>66839</td>\n",
       "      <td>154</td>\n",
       "      <td>33</td>\n",
       "      <td>24</td>\n",
       "      <td>0</td>\n",
       "      <td>1</td>\n",
       "      <td>739</td>\n",
       "    </tr>\n",
       "    <tr>\n",
       "      <th>9</th>\n",
       "      <td>17114</td>\n",
       "      <td>70961</td>\n",
       "      <td>85</td>\n",
       "      <td>19</td>\n",
       "      <td>8</td>\n",
       "      <td>0</td>\n",
       "      <td>2</td>\n",
       "      <td>408</td>\n",
       "    </tr>\n",
       "  </tbody>\n",
       "</table>\n",
       "</div>"
      ],
      "text/plain": [
       "   customer_lifetime_value  income  monthly_premium_auto  \\\n",
       "0                     4809   48029                    61   \n",
       "1                     2228   92260                    64   \n",
       "2                    14947   22139                   100   \n",
       "3                    22332   49078                    97   \n",
       "4                     9025   23675                   117   \n",
       "5                     4745   50549                    61   \n",
       "6                     5035   37405                    63   \n",
       "7                     4956   87197                    63   \n",
       "8                     5989   66839                   154   \n",
       "9                    17114   70961                    85   \n",
       "\n",
       "   months_since_last_claim  months_since_policy_inception  \\\n",
       "0                        7                             52   \n",
       "1                        3                             26   \n",
       "2                       34                             31   \n",
       "3                       10                              3   \n",
       "4                       33                             31   \n",
       "5                        2                             73   \n",
       "6                        8                             99   \n",
       "7                       35                             45   \n",
       "8                       33                             24   \n",
       "9                       19                              8   \n",
       "\n",
       "   number_of_open_complaints  number_of_policies  total_claim_amount  \n",
       "0                          0                   9                 292  \n",
       "1                          0                   1                 744  \n",
       "2                          0                   2                 480  \n",
       "3                          0                   2                 484  \n",
       "4                          0                   7                 707  \n",
       "5                          0                   7                 292  \n",
       "6                          3                   4                 287  \n",
       "7                          0                   3                 247  \n",
       "8                          0                   1                 739  \n",
       "9                          0                   2                 408  "
      ]
     },
     "execution_count": 6,
     "metadata": {},
     "output_type": "execute_result"
    }
   ],
   "source": [
    "numericalX = df.select_dtypes(include=[np.number])\n",
    "numericalX.head(10)"
   ]
  },
  {
   "cell_type": "code",
   "execution_count": 7,
   "id": "a35ae86a",
   "metadata": {},
   "outputs": [],
   "source": [
    "RAND_STATE = 34 # for reproducible shuffling\n",
    "TT_RATIO = 0.3 # test/train"
   ]
  },
  {
   "cell_type": "code",
   "execution_count": 8,
   "id": "9dad2406",
   "metadata": {},
   "outputs": [],
   "source": [
    "####### Tuesdays Work##########"
   ]
  },
  {
   "cell_type": "code",
   "execution_count": 18,
   "id": "b452ee2d",
   "metadata": {},
   "outputs": [],
   "source": [
    "#x-y split\n",
    "\n",
    "\n",
    "X = df.drop('total_claim_amount', axis=1)\n",
    "y = df['total_claim_amount']\n",
    "\n"
   ]
  },
  {
   "cell_type": "code",
   "execution_count": 19,
   "id": "b8980c97",
   "metadata": {},
   "outputs": [
    {
     "name": "stderr",
     "output_type": "stream",
     "text": [
      "/var/folders/yc/wft790592j143k8gw6c_18z40000gn/T/ipykernel_6081/96702193.py:4: DeprecationWarning: `np.object` is a deprecated alias for the builtin `object`. To silence this warning, use `object` by itself. Doing this will not modify any behavior and is safe. \n",
      "Deprecated in NumPy 1.20; for more details and guidance: https://numpy.org/devdocs/release/1.20.0-notes.html#deprecations\n",
      "  categoricalX = X.select_dtypes(np.object)\n"
     ]
    }
   ],
   "source": [
    "#n/c split\n",
    "\n",
    "numericalX = X.select_dtypes(np.number)\n",
    "categoricalX = X.select_dtypes(np.object)\n",
    "\n"
   ]
  },
  {
   "cell_type": "code",
   "execution_count": 20,
   "id": "0559fc58",
   "metadata": {},
   "outputs": [
    {
     "data": {
      "text/html": [
       "<div>\n",
       "<style scoped>\n",
       "    .dataframe tbody tr th:only-of-type {\n",
       "        vertical-align: middle;\n",
       "    }\n",
       "\n",
       "    .dataframe tbody tr th {\n",
       "        vertical-align: top;\n",
       "    }\n",
       "\n",
       "    .dataframe thead th {\n",
       "        text-align: right;\n",
       "    }\n",
       "</style>\n",
       "<table border=\"1\" class=\"dataframe\">\n",
       "  <thead>\n",
       "    <tr style=\"text-align: right;\">\n",
       "      <th></th>\n",
       "      <th>region</th>\n",
       "      <th>customer_lifetime_value</th>\n",
       "      <th>response</th>\n",
       "      <th>coverage</th>\n",
       "      <th>education</th>\n",
       "      <th>effective_to_date</th>\n",
       "      <th>month</th>\n",
       "      <th>employment_status</th>\n",
       "      <th>gender</th>\n",
       "      <th>income</th>\n",
       "      <th>...</th>\n",
       "      <th>months_since_last_claim</th>\n",
       "      <th>months_since_policy_inception</th>\n",
       "      <th>number_of_open_complaints</th>\n",
       "      <th>number_of_policies</th>\n",
       "      <th>policy_type</th>\n",
       "      <th>policy</th>\n",
       "      <th>renew_offer_type</th>\n",
       "      <th>sales_channel</th>\n",
       "      <th>vehicle_class</th>\n",
       "      <th>vehicle_size</th>\n",
       "    </tr>\n",
       "  </thead>\n",
       "  <tbody>\n",
       "    <tr>\n",
       "      <th>10646</th>\n",
       "      <td>west region</td>\n",
       "      <td>5480</td>\n",
       "      <td>no</td>\n",
       "      <td>basic</td>\n",
       "      <td>doctor</td>\n",
       "      <td>1/19/11</td>\n",
       "      <td>jan</td>\n",
       "      <td>employed</td>\n",
       "      <td>m</td>\n",
       "      <td>59311</td>\n",
       "      <td>...</td>\n",
       "      <td>8</td>\n",
       "      <td>38</td>\n",
       "      <td>0</td>\n",
       "      <td>9</td>\n",
       "      <td>corporate auto</td>\n",
       "      <td>corporate l3</td>\n",
       "      <td>offer1</td>\n",
       "      <td>web</td>\n",
       "      <td>four-door car</td>\n",
       "      <td>medsize</td>\n",
       "    </tr>\n",
       "    <tr>\n",
       "      <th>8298</th>\n",
       "      <td>west region</td>\n",
       "      <td>2980</td>\n",
       "      <td>no</td>\n",
       "      <td>extended</td>\n",
       "      <td>college</td>\n",
       "      <td>2/9/11</td>\n",
       "      <td>feb</td>\n",
       "      <td>medical leave</td>\n",
       "      <td>f</td>\n",
       "      <td>13535</td>\n",
       "      <td>...</td>\n",
       "      <td>7</td>\n",
       "      <td>53</td>\n",
       "      <td>1</td>\n",
       "      <td>1</td>\n",
       "      <td>personal auto</td>\n",
       "      <td>personal l3</td>\n",
       "      <td>offer2</td>\n",
       "      <td>agent</td>\n",
       "      <td>four-door car</td>\n",
       "      <td>small</td>\n",
       "    </tr>\n",
       "    <tr>\n",
       "      <th>3952</th>\n",
       "      <td>east</td>\n",
       "      <td>8750</td>\n",
       "      <td>no</td>\n",
       "      <td>premium</td>\n",
       "      <td>high school or below</td>\n",
       "      <td>1/5/11</td>\n",
       "      <td>jan</td>\n",
       "      <td>employed</td>\n",
       "      <td>f</td>\n",
       "      <td>25806</td>\n",
       "      <td>...</td>\n",
       "      <td>20</td>\n",
       "      <td>43</td>\n",
       "      <td>0</td>\n",
       "      <td>5</td>\n",
       "      <td>personal auto</td>\n",
       "      <td>personal l3</td>\n",
       "      <td>offer4</td>\n",
       "      <td>call center</td>\n",
       "      <td>four-door car</td>\n",
       "      <td>medsize</td>\n",
       "    </tr>\n",
       "  </tbody>\n",
       "</table>\n",
       "<p>3 rows × 23 columns</p>\n",
       "</div>"
      ],
      "text/plain": [
       "            region  customer_lifetime_value response  coverage  \\\n",
       "10646  west region                     5480       no     basic   \n",
       "8298   west region                     2980       no  extended   \n",
       "3952          east                     8750       no   premium   \n",
       "\n",
       "                  education effective_to_date month employment_status gender  \\\n",
       "10646                doctor           1/19/11   jan          employed      m   \n",
       "8298                college            2/9/11   feb     medical leave      f   \n",
       "3952   high school or below            1/5/11   jan          employed      f   \n",
       "\n",
       "       income  ... months_since_last_claim months_since_policy_inception  \\\n",
       "10646   59311  ...                       8                            38   \n",
       "8298    13535  ...                       7                            53   \n",
       "3952    25806  ...                      20                            43   \n",
       "\n",
       "       number_of_open_complaints  number_of_policies     policy_type  \\\n",
       "10646                          0                   9  corporate auto   \n",
       "8298                           1                   1   personal auto   \n",
       "3952                           0                   5   personal auto   \n",
       "\n",
       "             policy  renew_offer_type sales_channel  vehicle_class  \\\n",
       "10646  corporate l3            offer1           web  four-door car   \n",
       "8298    personal l3            offer2         agent  four-door car   \n",
       "3952    personal l3            offer4   call center  four-door car   \n",
       "\n",
       "      vehicle_size  \n",
       "10646      medsize  \n",
       "8298         small  \n",
       "3952       medsize  \n",
       "\n",
       "[3 rows x 23 columns]"
      ]
     },
     "execution_count": 20,
     "metadata": {},
     "output_type": "execute_result"
    }
   ],
   "source": [
    "#train-test split\n",
    "X_train, X_test, y_train, y_test = train_test_split(X, y, test_size=TT_RATIO)\n",
    "X_train = pd.DataFrame(X_train)\n",
    "X_test = pd.DataFrame(X_test)\n",
    "X_train.head(3)"
   ]
  },
  {
   "cell_type": "code",
   "execution_count": 21,
   "id": "984d616c",
   "metadata": {},
   "outputs": [],
   "source": [
    "pt = PowerTransformer()\n"
   ]
  },
  {
   "cell_type": "code",
   "execution_count": 22,
   "id": "26ac130f",
   "metadata": {},
   "outputs": [
    {
     "name": "stdout",
     "output_type": "stream",
     "text": [
      "[ColumnTransformer] ............ (1 of 1) Processing pt, total=   0.1s\n"
     ]
    },
    {
     "data": {
      "text/html": [
       "<div>\n",
       "<style scoped>\n",
       "    .dataframe tbody tr th:only-of-type {\n",
       "        vertical-align: middle;\n",
       "    }\n",
       "\n",
       "    .dataframe tbody tr th {\n",
       "        vertical-align: top;\n",
       "    }\n",
       "\n",
       "    .dataframe thead th {\n",
       "        text-align: right;\n",
       "    }\n",
       "</style>\n",
       "<table border=\"1\" class=\"dataframe\">\n",
       "  <thead>\n",
       "    <tr style=\"text-align: right;\">\n",
       "      <th></th>\n",
       "      <th>pt__customer_lifetime_value</th>\n",
       "      <th>pt__income</th>\n",
       "      <th>pt__monthly_premium_auto</th>\n",
       "      <th>pt__months_since_last_claim</th>\n",
       "      <th>pt__months_since_policy_inception</th>\n",
       "      <th>pt__number_of_open_complaints</th>\n",
       "      <th>pt__number_of_policies</th>\n",
       "    </tr>\n",
       "  </thead>\n",
       "  <tbody>\n",
       "    <tr>\n",
       "      <th>0</th>\n",
       "      <td>-0.104487</td>\n",
       "      <td>0.402753</td>\n",
       "      <td>-0.839396</td>\n",
       "      <td>-0.588249</td>\n",
       "      <td>-0.249730</td>\n",
       "      <td>-0.513515</td>\n",
       "      <td>1.670127</td>\n",
       "    </tr>\n",
       "    <tr>\n",
       "      <th>1</th>\n",
       "      <td>-1.235864</td>\n",
       "      <td>-1.797816</td>\n",
       "      <td>-0.148691</td>\n",
       "      <td>-0.710561</td>\n",
       "      <td>0.265531</td>\n",
       "      <td>1.898104</td>\n",
       "      <td>-1.145964</td>\n",
       "    </tr>\n",
       "    <tr>\n",
       "      <th>2</th>\n",
       "      <td>0.612242</td>\n",
       "      <td>-1.044772</td>\n",
       "      <td>0.910985</td>\n",
       "      <td>0.573588</td>\n",
       "      <td>-0.072441</td>\n",
       "      <td>-0.513515</td>\n",
       "      <td>1.136908</td>\n",
       "    </tr>\n",
       "    <tr>\n",
       "      <th>3</th>\n",
       "      <td>0.061435</td>\n",
       "      <td>-0.699822</td>\n",
       "      <td>-0.371276</td>\n",
       "      <td>-0.253479</td>\n",
       "      <td>0.491245</td>\n",
       "      <td>-0.513515</td>\n",
       "      <td>1.464422</td>\n",
       "    </tr>\n",
       "    <tr>\n",
       "      <th>4</th>\n",
       "      <td>-0.390691</td>\n",
       "      <td>1.616741</td>\n",
       "      <td>1.022854</td>\n",
       "      <td>1.524440</td>\n",
       "      <td>0.491245</td>\n",
       "      <td>1.898104</td>\n",
       "      <td>-1.145964</td>\n",
       "    </tr>\n",
       "    <tr>\n",
       "      <th>...</th>\n",
       "      <td>...</td>\n",
       "      <td>...</td>\n",
       "      <td>...</td>\n",
       "      <td>...</td>\n",
       "      <td>...</td>\n",
       "      <td>...</td>\n",
       "      <td>...</td>\n",
       "    </tr>\n",
       "    <tr>\n",
       "      <th>7477</th>\n",
       "      <td>0.484444</td>\n",
       "      <td>-0.512684</td>\n",
       "      <td>0.837561</td>\n",
       "      <td>-1.288269</td>\n",
       "      <td>0.647853</td>\n",
       "      <td>-0.513515</td>\n",
       "      <td>0.521597</td>\n",
       "    </tr>\n",
       "    <tr>\n",
       "      <th>7478</th>\n",
       "      <td>1.304195</td>\n",
       "      <td>-0.916180</td>\n",
       "      <td>1.894314</td>\n",
       "      <td>-0.471823</td>\n",
       "      <td>1.010330</td>\n",
       "      <td>-0.513515</td>\n",
       "      <td>0.521597</td>\n",
       "    </tr>\n",
       "    <tr>\n",
       "      <th>7479</th>\n",
       "      <td>0.958544</td>\n",
       "      <td>-0.289746</td>\n",
       "      <td>0.674224</td>\n",
       "      <td>0.654663</td>\n",
       "      <td>-1.179721</td>\n",
       "      <td>1.898104</td>\n",
       "      <td>-0.057673</td>\n",
       "    </tr>\n",
       "    <tr>\n",
       "      <th>7480</th>\n",
       "      <td>0.341398</td>\n",
       "      <td>-1.905963</td>\n",
       "      <td>0.450308</td>\n",
       "      <td>0.230657</td>\n",
       "      <td>-0.828036</td>\n",
       "      <td>-0.513515</td>\n",
       "      <td>1.136908</td>\n",
       "    </tr>\n",
       "    <tr>\n",
       "      <th>7481</th>\n",
       "      <td>0.546860</td>\n",
       "      <td>-0.971591</td>\n",
       "      <td>1.084350</td>\n",
       "      <td>0.963757</td>\n",
       "      <td>-0.586778</td>\n",
       "      <td>-0.513515</td>\n",
       "      <td>1.464422</td>\n",
       "    </tr>\n",
       "  </tbody>\n",
       "</table>\n",
       "<p>7482 rows × 7 columns</p>\n",
       "</div>"
      ],
      "text/plain": [
       "      pt__customer_lifetime_value  pt__income  pt__monthly_premium_auto  \\\n",
       "0                       -0.104487    0.402753                 -0.839396   \n",
       "1                       -1.235864   -1.797816                 -0.148691   \n",
       "2                        0.612242   -1.044772                  0.910985   \n",
       "3                        0.061435   -0.699822                 -0.371276   \n",
       "4                       -0.390691    1.616741                  1.022854   \n",
       "...                           ...         ...                       ...   \n",
       "7477                     0.484444   -0.512684                  0.837561   \n",
       "7478                     1.304195   -0.916180                  1.894314   \n",
       "7479                     0.958544   -0.289746                  0.674224   \n",
       "7480                     0.341398   -1.905963                  0.450308   \n",
       "7481                     0.546860   -0.971591                  1.084350   \n",
       "\n",
       "      pt__months_since_last_claim  pt__months_since_policy_inception  \\\n",
       "0                       -0.588249                          -0.249730   \n",
       "1                       -0.710561                           0.265531   \n",
       "2                        0.573588                          -0.072441   \n",
       "3                       -0.253479                           0.491245   \n",
       "4                        1.524440                           0.491245   \n",
       "...                           ...                                ...   \n",
       "7477                    -1.288269                           0.647853   \n",
       "7478                    -0.471823                           1.010330   \n",
       "7479                     0.654663                          -1.179721   \n",
       "7480                     0.230657                          -0.828036   \n",
       "7481                     0.963757                          -0.586778   \n",
       "\n",
       "      pt__number_of_open_complaints  pt__number_of_policies  \n",
       "0                         -0.513515                1.670127  \n",
       "1                          1.898104               -1.145964  \n",
       "2                         -0.513515                1.136908  \n",
       "3                         -0.513515                1.464422  \n",
       "4                          1.898104               -1.145964  \n",
       "...                             ...                     ...  \n",
       "7477                      -0.513515                0.521597  \n",
       "7478                      -0.513515                0.521597  \n",
       "7479                       1.898104               -0.057673  \n",
       "7480                      -0.513515                1.136908  \n",
       "7481                      -0.513515                1.464422  \n",
       "\n",
       "[7482 rows x 7 columns]"
      ]
     },
     "execution_count": 22,
     "metadata": {},
     "output_type": "execute_result"
    }
   ],
   "source": [
    "#standardizing the data\n",
    "\n",
    "ct = ColumnTransformer([(\"pt\", pt, list(numericalX.columns))],\n",
    "                        remainder='drop',verbose_feature_names_out=True,verbose=True).fit(X_train)\n",
    "X_train_ct = pd.DataFrame(ct.transform(X_train),columns=ct.get_feature_names_out())\n",
    "X_test_ct = pd.DataFrame(ct.transform(X_test),columns=ct.get_feature_names_out())\n",
    "\n",
    "\n",
    "\n",
    "X_train = pd.DataFrame(X_train_ct)\n",
    "X_train_ct\n",
    "\n"
   ]
  },
  {
   "cell_type": "code",
   "execution_count": 14,
   "id": "5118e058",
   "metadata": {},
   "outputs": [
    {
     "name": "stdout",
     "output_type": "stream",
     "text": [
      "                            OLS Regression Results                            \n",
      "==============================================================================\n",
      "Dep. Variable:     total_claim_amount   R-squared:                       0.312\n",
      "Model:                            OLS   Adj. R-squared:                  0.312\n",
      "Method:                 Least Squares   F-statistic:                     484.8\n",
      "Date:                Tue, 31 Jan 2023   Prob (F-statistic):               0.00\n",
      "Time:                        16:58:13   Log-Likelihood:                -51738.\n",
      "No. Observations:                7482   AIC:                         1.035e+05\n",
      "Df Residuals:                    7474   BIC:                         1.035e+05\n",
      "Df Model:                           7                                         \n",
      "Covariance Type:            nonrobust                                         \n",
      "==============================================================================\n",
      "                 coef    std err          t      P>|t|      [0.025      0.975]\n",
      "------------------------------------------------------------------------------\n",
      "const        435.0175      2.819    154.309      0.000     429.491     440.544\n",
      "x1            -2.9600      3.764     -0.786      0.432     -10.338       4.418\n",
      "x2           -35.8533      2.822    -12.706      0.000     -41.385     -30.322\n",
      "x3           161.7650      3.319     48.732      0.000     155.258     168.272\n",
      "x4             1.3561      2.823      0.480      0.631      -4.179       6.891\n",
      "x5            -1.6654      2.821     -0.590      0.555      -7.196       3.866\n",
      "x6            -4.5963      2.821     -1.629      0.103     -10.127       0.934\n",
      "x7            -2.5338      3.342     -0.758      0.448      -9.085       4.017\n",
      "==============================================================================\n",
      "Omnibus:                     1964.675   Durbin-Watson:                   2.019\n",
      "Prob(Omnibus):                  0.000   Jarque-Bera (JB):            12334.871\n",
      "Skew:                           1.107   Prob(JB):                         0.00\n",
      "Kurtosis:                       8.888   Cond. No.                         2.22\n",
      "==============================================================================\n",
      "\n",
      "Notes:\n",
      "[1] Standard Errors assume that the covariance matrix of the errors is correctly specified.\n"
     ]
    }
   ],
   "source": [
    "#linear regression\n",
    "X_train_const_ct = sm.add_constant(X_train_ct.to_numpy()) # adding a constant\n",
    "\n",
    "model = sm.OLS(y_train, X_train_const_ct).fit()\n",
    "predictions_train = model.predict(X_train_const_ct)\n",
    "\n",
    "X_test_const_ct = sm.add_constant(X_test_ct) # adding a constant\n",
    "predictions_test = model.predict(X_test_const_ct)\n",
    "print_model = model.summary()\n",
    "print(print_model)\n",
    "\n"
   ]
  },
  {
   "cell_type": "code",
   "execution_count": 15,
   "id": "43d07c66",
   "metadata": {},
   "outputs": [
    {
     "data": {
      "text/plain": [
       "LinearRegression()"
      ]
     },
     "execution_count": 15,
     "metadata": {},
     "output_type": "execute_result"
    }
   ],
   "source": [
    "#scikit learn\n",
    "model=LinearRegression()    # model\n",
    "model.fit(X_train_ct, y_train)   # model train"
   ]
  },
  {
   "cell_type": "code",
   "execution_count": 16,
   "id": "1ad98964",
   "metadata": {},
   "outputs": [
    {
     "data": {
      "text/plain": [
       "array([ -2.95995177, -35.85327773, 161.76504024,   1.35607006,\n",
       "        -1.66538382,  -4.59630552,  -2.53382321])"
      ]
     },
     "execution_count": 16,
     "metadata": {},
     "output_type": "execute_result"
    }
   ],
   "source": [
    "model.coef_"
   ]
  },
  {
   "cell_type": "code",
   "execution_count": 25,
   "id": "d45e9992",
   "metadata": {},
   "outputs": [
    {
     "data": {
      "text/plain": [
       "433.2473937449879"
      ]
     },
     "execution_count": 25,
     "metadata": {},
     "output_type": "execute_result"
    }
   ],
   "source": [
    "model.intercept_"
   ]
  },
  {
   "cell_type": "code",
   "execution_count": 24,
   "id": "a7400b68",
   "metadata": {},
   "outputs": [],
   "source": [
    "y_pred = pd.DataFrame(model.predict(X_test_ct),columns = ['total_claim_amount'] )      # model prediction\n",
    "y_pred_train =  pd.DataFrame(model.predict(X_train_ct),columns = ['total_claim_amount'])"
   ]
  },
  {
   "cell_type": "code",
   "execution_count": null,
   "id": "a390769e",
   "metadata": {},
   "outputs": [],
   "source": [
    "#Model Validation\n",
    "#Model Evaluation:\n",
    "#        MSE.\n",
    " #       RMSE.\n",
    "  #      MAE.\n",
    "   #     R2.\n",
    "    #    Adjusted R2.\n",
    "     #Feature Importance."
   ]
  },
  {
   "cell_type": "code",
   "execution_count": 26,
   "id": "6c5d462b",
   "metadata": {},
   "outputs": [
    {
     "name": "stdout",
     "output_type": "stream",
     "text": [
      "60579.53968836596\n",
      "58501.88380408256\n"
     ]
    }
   ],
   "source": [
    "print(mse(y_test,y_pred))\n",
    "print(mse(y_train,y_pred_train))"
   ]
  },
  {
   "cell_type": "code",
   "execution_count": 33,
   "id": "b7740a08",
   "metadata": {},
   "outputs": [
    {
     "name": "stdout",
     "output_type": "stream",
     "text": [
      "246.12911182622418\n"
     ]
    }
   ],
   "source": [
    "rmse = np.sqrt(mse(y_test,y_pred))\n",
    "print(rmse)"
   ]
  },
  {
   "cell_type": "code",
   "execution_count": null,
   "id": "c024068c",
   "metadata": {},
   "outputs": [],
   "source": [
    "print(mae(y_test,y_pred))\n"
   ]
  },
  {
   "cell_type": "code",
   "execution_count": 27,
   "id": "0878f264",
   "metadata": {},
   "outputs": [
    {
     "data": {
      "text/plain": [
       "0.32269949130879383"
      ]
     },
     "execution_count": 27,
     "metadata": {},
     "output_type": "execute_result"
    }
   ],
   "source": [
    "R2=r2_score(y_test,y_pred)\n",
    "R2"
   ]
  },
  {
   "cell_type": "code",
   "execution_count": 28,
   "id": "974b4f9b",
   "metadata": {},
   "outputs": [
    {
     "data": {
      "text/plain": [
       "0.31780539401067953"
      ]
     },
     "execution_count": 28,
     "metadata": {},
     "output_type": "execute_result"
    }
   ],
   "source": [
    "R2_test=model.score(X_test_ct,y_test)\n",
    "R2_train=model.score(X_train_ct,y_train)\n",
    "Adj_R2= 1 - (1-R2)*(len(y_test)-1)/(len(y_test)-X_test.shape[1]-1)\n",
    "Adj_R2"
   ]
  },
  {
   "cell_type": "code",
   "execution_count": 29,
   "id": "dead828f",
   "metadata": {},
   "outputs": [
    {
     "data": {
      "text/html": [
       "<div>\n",
       "<style scoped>\n",
       "    .dataframe tbody tr th:only-of-type {\n",
       "        vertical-align: middle;\n",
       "    }\n",
       "\n",
       "    .dataframe tbody tr th {\n",
       "        vertical-align: top;\n",
       "    }\n",
       "\n",
       "    .dataframe thead th {\n",
       "        text-align: right;\n",
       "    }\n",
       "</style>\n",
       "<table border=\"1\" class=\"dataframe\">\n",
       "  <thead>\n",
       "    <tr style=\"text-align: right;\">\n",
       "      <th></th>\n",
       "      <th>Attribute</th>\n",
       "      <th>Importance</th>\n",
       "    </tr>\n",
       "  </thead>\n",
       "  <tbody>\n",
       "    <tr>\n",
       "      <th>2</th>\n",
       "      <td>pt__monthly_premium_auto</td>\n",
       "      <td>161.765040</td>\n",
       "    </tr>\n",
       "    <tr>\n",
       "      <th>1</th>\n",
       "      <td>pt__income</td>\n",
       "      <td>35.853278</td>\n",
       "    </tr>\n",
       "    <tr>\n",
       "      <th>5</th>\n",
       "      <td>pt__number_of_open_complaints</td>\n",
       "      <td>4.596306</td>\n",
       "    </tr>\n",
       "    <tr>\n",
       "      <th>0</th>\n",
       "      <td>pt__customer_lifetime_value</td>\n",
       "      <td>2.959952</td>\n",
       "    </tr>\n",
       "    <tr>\n",
       "      <th>6</th>\n",
       "      <td>pt__number_of_policies</td>\n",
       "      <td>2.533823</td>\n",
       "    </tr>\n",
       "    <tr>\n",
       "      <th>4</th>\n",
       "      <td>pt__months_since_policy_inception</td>\n",
       "      <td>1.665384</td>\n",
       "    </tr>\n",
       "    <tr>\n",
       "      <th>3</th>\n",
       "      <td>pt__months_since_last_claim</td>\n",
       "      <td>1.356070</td>\n",
       "    </tr>\n",
       "  </tbody>\n",
       "</table>\n",
       "</div>"
      ],
      "text/plain": [
       "                           Attribute  Importance\n",
       "2           pt__monthly_premium_auto  161.765040\n",
       "1                         pt__income   35.853278\n",
       "5      pt__number_of_open_complaints    4.596306\n",
       "0        pt__customer_lifetime_value    2.959952\n",
       "6             pt__number_of_policies    2.533823\n",
       "4  pt__months_since_policy_inception    1.665384\n",
       "3        pt__months_since_last_claim    1.356070"
      ]
     },
     "execution_count": 29,
     "metadata": {},
     "output_type": "execute_result"
    }
   ],
   "source": [
    "features_importances = pd.DataFrame(data={\n",
    "    'Attribute': X_train.columns,\n",
    "    'Importance': abs(model.coef_.reshape(len(X_train.columns),))\n",
    "})\n",
    "features_importances = features_importances.sort_values(by='Importance', ascending=False)\n",
    "features_importances"
   ]
  },
  {
   "cell_type": "code",
   "execution_count": 30,
   "id": "2c16e478",
   "metadata": {},
   "outputs": [
    {
     "data": {
      "image/png": "[encoded data removed]",
      "text/plain": [
       "<Figure size 640x480 with 1 Axes>"
      ]
     },
     "metadata": {},
     "output_type": "display_data"
    }
   ],
   "source": [
    "plt.bar(x=features_importances['Attribute'].iloc[:10], height=features_importances['Importance'].iloc[:10], color='#087E8B')\n",
    "plt.title('Feature importance rankings', size=12)\n",
    "plt.xticks(rotation='vertical')\n",
    "plt.show()"
   ]
  },
  {
   "cell_type": "code",
   "execution_count": null,
   "id": "b2ca7ae7",
   "metadata": {},
   "outputs": [],
   "source": []
  }
 ],
 "metadata": {
  "kernelspec": {
   "display_name": "base",
   "language": "python",
   "name": "python3"
  },
  "language_info": {
   "codemirror_mode": {
    "name": "ipython",
    "version": 3
   },
   "file_extension": ".py",
   "mimetype": "text/x-python",
   "name": "python",
   "nbconvert_exporter": "python",
   "pygments_lexer": "ipython3",
   "version": "3.9.13"
  },
  "vscode": {
   "interpreter": {
    "hash": "40d3a090f54c6569ab1632332b64b2c03c39dcf918b08424e98f38b5ae0af88f"
   }
  }
 },
 "nbformat": 4,
 "nbformat_minor": 5
}
