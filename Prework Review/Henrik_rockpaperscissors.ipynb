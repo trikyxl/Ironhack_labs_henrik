{
 "cells": [
  {
   "cell_type": "markdown",
   "metadata": {},
   "source": [
    "<img src=\"https://bit.ly/2VnXWr2\" width=\"100\" align=\"left\">"
   ]
  },
  {
   "cell_type": "markdown",
   "metadata": {},
   "source": [
    "# Rock, Paper & Scissors\n",
    "\n",
    "Let's play the famous game against our computer. You can check the rules [here](https://en.wikipedia.org/wiki/Rock%E2%80%93paper%E2%80%93scissors). \n",
    "\n",
    "## Task\n",
    "Create a program that imitates the playability of the well known game of rock, paper, scissors. Follow the guidelines provided.\n",
    "\n",
    "## Tools\n",
    "1. Loop: **for/while**\n",
    "2. Functions: **input(), print()...**\n",
    "3. Conditional statements: **if, elif, else**\n",
    "4. Definition of functions. Modular programming\n",
    "5. Import modules\n",
    "\n",
    "- **To solve this challenge, the use of functions is recommended.**\n",
    "- <b>Hint: You dont need necessarily to follow the instructions in this notebook to solve the tasks. simply just get the job done effeciently ;) \n",
    "\n",
    "#### 1. Import the choice function of the random module."
   ]
  },
  {
   "cell_type": "code",
   "execution_count": 1,
   "metadata": {},
   "outputs": [],
   "source": [
    "import random"
   ]
  },
  {
   "cell_type": "markdown",
   "metadata": {},
   "source": [
    "#### 2. Create a list that includes the 3 possible gesture options of the game: 'rock', 'paper' or 'scissors'. Store the list in a variable called `gestures`."
   ]
  },
  {
   "cell_type": "code",
   "execution_count": 2,
   "metadata": {},
   "outputs": [
    {
     "data": {
      "text/plain": [
       "'rock'"
      ]
     },
     "execution_count": 2,
     "metadata": {},
     "output_type": "execute_result"
    }
   ],
   "source": [
    "possible_gestures = [\"rock\", \"paper\", \"scissors\"]\n",
    "\n",
    "gestures = possible_gestures\n",
    "\n",
    "random.choice(possible_gestures)"
   ]
  },
  {
   "cell_type": "markdown",
   "metadata": {},
   "source": [
    "#### 3. Create a variable called `n_rounds` to store the maximum number of rounds to play in a game. \n",
    "Remember that the number of rounds must be odd: 1, 3, 5, ..."
   ]
  },
  {
   "cell_type": "code",
   "execution_count": 3,
   "metadata": {},
   "outputs": [],
   "source": [
    "n_rounds = 7"
   ]
  },
  {
   "cell_type": "markdown",
   "metadata": {},
   "source": [
    "#### 4. Create a variable called `rounds_to_win` to store the number of rounds that a player must win to win the game.\n",
    "**Hint**: the value stored in `rounds_to_win` depends on the value of `n_rounds`. "
   ]
  },
  {
   "cell_type": "code",
   "execution_count": 4,
   "metadata": {},
   "outputs": [],
   "source": [
    "rounds_to_win = 2"
   ]
  },
  {
   "cell_type": "markdown",
   "metadata": {},
   "source": [
    "#### 5. Create two variables to store the number of rounds that the computer and the player have won. Call these variables `cpu_score` and `player_score`."
   ]
  },
  {
   "cell_type": "code",
   "execution_count": 5,
   "metadata": {},
   "outputs": [],
   "source": [
    "cpu_score = 0\n",
    "player_score = 0"
   ]
  },
  {
   "cell_type": "markdown",
   "metadata": {},
   "source": [
    "#### 6. Define a function that randomly returns one of the 3 gesture options.\n",
    "You will use this function to simulate the gesture choice of the computer. "
   ]
  },
  {
   "cell_type": "code",
   "execution_count": 6,
   "metadata": {},
   "outputs": [
    {
     "data": {
      "text/plain": [
       "'scissors'"
      ]
     },
     "execution_count": 6,
     "metadata": {},
     "output_type": "execute_result"
    }
   ],
   "source": [
    "#this function simulates the cpu's choice and returns it, so it can be used in the game \n",
    "\n",
    "def cpu_choice(): \n",
    "    return random.choice(possible_gestures)\n",
    "\n",
    "cpu_choice()"
   ]
  },
  {
   "cell_type": "markdown",
   "metadata": {},
   "source": [
    "#### 7. Define a function that asks the player which is the gesture he or she wants to show: 'rock', 'paper' or 'scissors'.\n",
    "The player should only be allowed to choose one of the 3 gesture options. If the player's choice is not rock, paper or scissors, keep asking until it is."
   ]
  },
  {
   "cell_type": "code",
   "execution_count": 8,
   "metadata": {},
   "outputs": [
    {
     "name": "stdout",
     "output_type": "stream",
     "text": [
      "rock\n"
     ]
    },
    {
     "data": {
      "text/plain": [
       "'rock'"
      ]
     },
     "execution_count": 8,
     "metadata": {},
     "output_type": "execute_result"
    }
   ],
   "source": [
    "#this function asks the user for input and returns it, so it can be used during the game \n",
    "\n",
    "\n",
    "def players_choice():\n",
    "    players_choice = input().lower()\n",
    "\n",
    "    while players_choice not in possible_gestures:\n",
    "            print(\"Wrong Input!\")\n",
    "            players_choice = input(\"input has to be rock, paper or scissors\").lower()\n",
    "    \n",
    "    return players_choice\n",
    "\n",
    "players_choice()"
   ]
  },
  {
   "cell_type": "markdown",
   "metadata": {},
   "source": [
    "#### 8. Define a function that checks who won a round. \n",
    "The function should return 0 if there is a tie, 1 if the computer wins and 2 if the player wins."
   ]
  },
  {
   "cell_type": "code",
   "execution_count": 9,
   "metadata": {},
   "outputs": [
    {
     "name": "stdout",
     "output_type": "stream",
     "text": [
      "rock\n",
      "It's a Tie\n"
     ]
    },
    {
     "data": {
      "text/plain": [
       "'tie'"
      ]
     },
     "execution_count": 9,
     "metadata": {},
     "output_type": "execute_result"
    }
   ],
   "source": [
    "\n",
    "possible_gestures = [\"rock\", \"paper\", \"scissors\"]\n",
    "\n",
    "#This function determines who won a round, conditionals of the game\n",
    "\n",
    "def round_winner(): \n",
    "    \n",
    "    player = players_choice()\n",
    "    cpu = cpu_choice()\n",
    "   \n",
    "    if player == cpu:\n",
    "        #print(\"It's a Tie\")\n",
    "        return('tie')\n",
    "    elif player== \"rock\":\n",
    "        if cpu== \"scissors\":\n",
    "            print(\"rock beats scissors\")\n",
    "            return ('player won')\n",
    "        else:\n",
    "            print(\"paper beats rock\")\n",
    "            return ('cpu won')\n",
    "    elif player== \"paper\":\n",
    "        if cpu== \"rock\":\n",
    "            print(\"paper beats rock\")\n",
    "            return ('player won')\n",
    "        else:\n",
    "            print(\"scissors beat paper\")\n",
    "            return ('cpu won')\n",
    "    elif player== \"scissors\":\n",
    "        if cpu== \"paper\":\n",
    "            print(\"scissors beat paper\")\n",
    "            return ('player won')\n",
    "        else:\n",
    "            print(\"rock beats scissors\")\n",
    "            return ('cpu won')\n",
    "\n",
    "\n",
    "round_winner()\n",
    "        \n",
    "            "
   ]
  },
  {
   "cell_type": "markdown",
   "metadata": {},
   "source": [
    "#### 9. Define a function that prints the choice of the computer, the choice of the player and a message that announces who won the current round. \n",
    "You should also use this function to update the variables that count the number of rounds that the computer and the player have won. The score of the winner increases by one point. If there is a tie, the score does not increase."
   ]
  },
  {
   "cell_type": "code",
   "execution_count": 10,
   "metadata": {},
   "outputs": [
    {
     "name": "stdout",
     "output_type": "stream",
     "text": [
      "rock\n",
      "rock beats scissors\n",
      "you won this round\n",
      "your score is 1, cpu score is 0 \n",
      "paper\n",
      "It's a Tie\n",
      "it is a tie\n",
      "your score is 1, cpu score is 0 \n",
      "scissors\n",
      "rock beats scissors\n",
      "cpu won this round\n",
      "your score is 1, cpu score is 1 \n",
      "paper\n",
      "paper beats rock\n",
      "you won this round\n",
      "your score is 2, cpu score is 1 \n",
      "you won the game\n",
      "paper\n",
      "paper beats rock\n",
      "you won this round\n",
      "your score is 3, cpu score is 1 \n",
      "paper\n",
      "scissors beat paper\n",
      "cpu won this round\n",
      "your score is 3, cpu score is 2 \n",
      "cpu won the game, you lost\n"
     ]
    }
   ],
   "source": [
    "#This function stores the results of round_winner and adds them to either players score or cpu score\n",
    "\n",
    "def score_updater():\n",
    "\n",
    "\n",
    "    cpu_score = 0\n",
    "    player_score = 0\n",
    "\n",
    "while (cpu_score < rounds_to_win) or (player_score < rounds_to_win):\n",
    "    winner_of_the_round = round_winner()\n",
    "    if winner_of_the_round == 'player won':\n",
    "        print('you won this round')\n",
    "        player_score += 1\n",
    "        print(f\"your score is {player_score}, cpu score is {cpu_score} \")\n",
    "    elif winner_of_the_round == 'tie':\n",
    "        print('it is a tie')\n",
    "        player_score = player_score\n",
    "        cpu_score = cpu_score\n",
    "        print(f\"your score is {player_score}, cpu score is {cpu_score} \")\n",
    "    else:\n",
    "        print('cpu won this round')\n",
    "        cpu_score +=1\n",
    "        print(f\"your score is {player_score}, cpu score is {cpu_score} \")\n",
    "        \n",
    "    if player_score == rounds_to_win:\n",
    "        print('Congratulations, you won the game!')\n",
    "        \n",
    "    if cpu_score == rounds_to_win:\n",
    "        print('Sadly, cpu won the game, you lost!')\n",
    "        \n",
    "        \n",
    "        \n"
   ]
  },
  {
   "cell_type": "code",
   "execution_count": 10,
   "metadata": {},
   "outputs": [
    {
     "data": {
      "text/plain": [
       "2"
      ]
     },
     "execution_count": 10,
     "metadata": {},
     "output_type": "execute_result"
    }
   ],
   "source": []
  },
  {
   "cell_type": "markdown",
   "metadata": {},
   "source": [
    "#### 10. Now it's time to code the execution of the game using the functions and variables you defined above. \n",
    "\n",
    "First, create a loop structure that repeats while no player reaches the minimum score necessary to win and the number of rounds is less than the maximum number of rounds to play in a game.  \n",
    "\n",
    "Inside the loop, use the functions and variables above to create the execution of a round: ask for the player's choice, generate the random choice of the computer, show the round results, update the scores, etc. "
   ]
  },
  {
   "cell_type": "code",
   "execution_count": null,
   "metadata": {},
   "outputs": [],
   "source": []
  },
  {
   "cell_type": "markdown",
   "metadata": {},
   "source": [
    "#### 11. Print the winner of the game based on who won more rounds.\n",
    "Remember that the game might be tied. "
   ]
  },
  {
   "cell_type": "code",
   "execution_count": null,
   "metadata": {},
   "outputs": [],
   "source": []
  },
  {
   "cell_type": "markdown",
   "metadata": {},
   "source": [
    "# (Optional) Rock, Paper, Scissors, Lizard & Spock\n",
    "![](images/rpsls.jpg)\n",
    "\n",
    "In this challenge, you need to improve the previous game by adding two new options. To know more about the rules of the improved version of rock, paper, scissors, check this [link](http://www.samkass.com/theories/RPSSL.html). \n",
    "\n",
    "In addition, you will also need to improve how the game interacts with the player: the number of rounds to play, which must be an odd number, will be requested to the user until a valid number is entered. Define a new function to make that request.\n",
    "\n",
    "**Hint**: Try to reuse the code that you already coded in the previous challenge. If your code is efficient, this bonus will only consist of simple modifications to the original game."
   ]
  },
  {
   "cell_type": "code",
   "execution_count": null,
   "metadata": {},
   "outputs": [],
   "source": []
  }
 ],
 "metadata": {
  "kernelspec": {
   "display_name": "Python 3 (ipykernel)",
   "language": "python",
   "name": "python3"
  },
  "language_info": {
   "codemirror_mode": {
    "name": "ipython",
    "version": 3
   },
   "file_extension": ".py",
   "mimetype": "text/x-python",
   "name": "python",
   "nbconvert_exporter": "python",
   "pygments_lexer": "ipython3",
   "version": "3.9.13"
  },
  "toc": {
   "base_numbering": 1,
   "nav_menu": {},
   "number_sections": true,
   "sideBar": true,
   "skip_h1_title": false,
   "title_cell": "Table of Contents",
   "title_sidebar": "Contents",
   "toc_cell": false,
   "toc_position": {},
   "toc_section_display": true,
   "toc_window_display": false
  }
 },
 "nbformat": 4,
 "nbformat_minor": 2
}
